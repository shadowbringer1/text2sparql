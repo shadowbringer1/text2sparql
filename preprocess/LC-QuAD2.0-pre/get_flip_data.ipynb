{
 "cells": [
  {
   "cell_type": "code",
   "execution_count": 2,
   "id": "40bc8fc4-c50b-4534-a420-513ba08dc524",
   "metadata": {
    "execution": {
     "iopub.execute_input": "2022-10-21T02:16:00.879061Z",
     "iopub.status.busy": "2022-10-21T02:16:00.878649Z",
     "iopub.status.idle": "2022-10-21T02:16:00.890983Z",
     "shell.execute_reply": "2022-10-21T02:16:00.889258Z",
     "shell.execute_reply.started": "2022-10-21T02:16:00.879009Z"
    },
    "tags": []
   },
   "outputs": [
    {
     "name": "stdout",
     "output_type": "stream",
     "text": [
      "The history saving thread hit an unexpected error (OperationalError('attempt to write a readonly database')).History will not be written to the database.\n"
     ]
    }
   ],
   "source": [
    "import re\n",
    "import json\n",
    "import random"
   ]
  },
  {
   "cell_type": "code",
   "execution_count": 3,
   "id": "ba788669-7614-4ffd-aaa1-2b2e341c1e74",
   "metadata": {
    "execution": {
     "iopub.execute_input": "2022-10-21T02:16:04.841840Z",
     "iopub.status.busy": "2022-10-21T02:16:04.841423Z",
     "iopub.status.idle": "2022-10-21T02:16:04.850348Z",
     "shell.execute_reply": "2022-10-21T02:16:04.849341Z",
     "shell.execute_reply.started": "2022-10-21T02:16:04.841783Z"
    },
    "tags": []
   },
   "outputs": [],
   "source": [
    "def variable_replace(query):\n",
    "    newvars = ['?vr0','?vr1','?vr2','?vr3','?vr4','?vr5']\n",
    "    variables = set([x for x in query.split() if x[0] == '?'])\n",
    "    for idx,var in enumerate(sorted(variables)):\n",
    "        if var == '?maskvar1': continue         \n",
    "        query = query.replace(var,newvars[idx])\n",
    "    return query.lower()"
   ]
  },
  {
   "cell_type": "code",
   "execution_count": 3,
   "id": "9947fef1-fb31-4476-b36e-ffabdd948cab",
   "metadata": {
    "execution": {
     "iopub.execute_input": "2022-09-27T08:39:36.924545Z",
     "iopub.status.busy": "2022-09-27T08:39:36.924229Z",
     "iopub.status.idle": "2022-09-27T08:39:36.934000Z",
     "shell.execute_reply": "2022-09-27T08:39:36.932359Z",
     "shell.execute_reply.started": "2022-09-27T08:39:36.924516Z"
    },
    "tags": []
   },
   "outputs": [],
   "source": [
    "def flip_tuple(query):\n",
    "    query = variable_replace(query)\n",
    "    query_flip = query\n",
    "    \n",
    "    string = query[query.find('{')+1:query.find('}')]\n",
    "    if 'filter' in string:\n",
    "        string = string[:string.find('filter')]\n",
    "    tuples = string.strip(' .').strip().split('.')\n",
    "    \n",
    "    for item in tuples:\n",
    "        item = item.strip()\n",
    "        if random.random() >= 0.5:\n",
    "            item_list = item.split()\n",
    "            item_list[0], item_list[2] = item_list[2], item_list[0]\n",
    "            query_flip = query_flip.replace(item, ' '.join(item_list))\n",
    "            \n",
    "    return query, query_flip"
   ]
  },
  {
   "cell_type": "code",
   "execution_count": 10,
   "id": "5905cf43-b776-4b3e-85e0-da6d34ca0e9d",
   "metadata": {
    "execution": {
     "iopub.execute_input": "2022-09-27T08:43:04.916301Z",
     "iopub.status.busy": "2022-09-27T08:43:04.915763Z",
     "iopub.status.idle": "2022-09-27T08:43:05.300079Z",
     "shell.execute_reply": "2022-09-27T08:43:05.299373Z",
     "shell.execute_reply.started": "2022-09-27T08:43:04.916253Z"
    },
    "tags": []
   },
   "outputs": [],
   "source": [
    "file_type = 'train'\n",
    "\n",
    "test = json.load(open(f'{file_type}.json', 'rb'))\n",
    "sparql = [item['sparql_wikidata'] for item in test]"
   ]
  },
  {
   "cell_type": "code",
   "execution_count": 11,
   "id": "11dc803c-38d0-42aa-9cc0-887d3054362a",
   "metadata": {
    "execution": {
     "iopub.execute_input": "2022-09-27T08:43:06.862942Z",
     "iopub.status.busy": "2022-09-27T08:43:06.862509Z",
     "iopub.status.idle": "2022-09-27T08:43:07.234135Z",
     "shell.execute_reply": "2022-09-27T08:43:07.233368Z",
     "shell.execute_reply.started": "2022-09-27T08:43:06.862903Z"
    },
    "scrolled": true,
    "tags": []
   },
   "outputs": [],
   "source": [
    "datas = []\n",
    "for item in sparql:\n",
    "    target,inputs = flip_tuple(item)\n",
    "    datas.append({'input':inputs, 'target':target})"
   ]
  },
  {
   "cell_type": "code",
   "execution_count": 12,
   "id": "95140a97-90e7-4b25-94d0-970288376420",
   "metadata": {
    "execution": {
     "iopub.execute_input": "2022-09-27T08:43:10.308839Z",
     "iopub.status.busy": "2022-09-27T08:43:10.308532Z",
     "iopub.status.idle": "2022-09-27T08:43:10.440006Z",
     "shell.execute_reply": "2022-09-27T08:43:10.439224Z",
     "shell.execute_reply.started": "2022-09-27T08:43:10.308812Z"
    },
    "tags": []
   },
   "outputs": [],
   "source": [
    "dict_json=json.dumps(datas)\n",
    "\n",
    "with open(f'pre_{file_type}.json','w+') as file:\n",
    "    file.write(dict_json)"
   ]
  }
 ],
 "metadata": {
  "kernelspec": {
   "display_name": "Python [conda env:python37] *",
   "language": "python",
   "name": "conda-env-python37-py"
  },
  "language_info": {
   "codemirror_mode": {
    "name": "ipython",
    "version": 3
   },
   "file_extension": ".py",
   "mimetype": "text/x-python",
   "name": "python",
   "nbconvert_exporter": "python",
   "pygments_lexer": "ipython3",
   "version": "3.7.11"
  }
 },
 "nbformat": 4,
 "nbformat_minor": 5
}
