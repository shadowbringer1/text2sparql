{
 "cells": [
  {
   "cell_type": "markdown",
   "id": "3abea2be-663c-40c3-8e68-dbf61f1cb40e",
   "metadata": {},
   "source": [
    "# 测试F1分数"
   ]
  },
  {
   "cell_type": "code",
   "execution_count": 1,
   "id": "6e7c285c-1093-419b-8ea2-fcf4a5377092",
   "metadata": {},
   "outputs": [],
   "source": [
    "import json\n",
    "import requests\n",
    "from typing import Dict, Any"
   ]
  },
  {
   "cell_type": "markdown",
   "id": "978db15a-9752-4967-94c4-7076f0a68e6f",
   "metadata": {},
   "source": [
    "## 加载JSON文件"
   ]
  },
  {
   "cell_type": "code",
   "execution_count": 2,
   "id": "e449e343-d25c-4211-82a4-6f7edaeee423",
   "metadata": {},
   "outputs": [],
   "source": [
    "def get_prediction_and_reference_frm_file(filename):\n",
    "    result_l = json.load(open(filename, \"r\"))\n",
    "    predictions = [result[\"processed_predict\"] for result in result_l]\n",
    "    references  = [result[\"processed_s_label\"] for result in result_l]\n",
    "    \n",
    "    return (predictions, references)"
   ]
  },
  {
   "cell_type": "code",
   "execution_count": 3,
   "id": "da114a6f-cce1-411e-b152-2d298eed7bc3",
   "metadata": {},
   "outputs": [],
   "source": [
    "filename = '/home/protago/jxqi/project/text2sparql/picard/train/train_0725/predictions_eval_1012.3386243386243.json'\n",
    "\n",
    "predictions, references = get_prediction_and_reference_frm_file(filename)"
   ]
  },
  {
   "cell_type": "code",
   "execution_count": 4,
   "id": "6c55a477-4141-414a-a38e-7b057514d4b8",
   "metadata": {},
   "outputs": [
    {
     "data": {
      "text/plain": [
       "6046"
      ]
     },
     "execution_count": 4,
     "metadata": {},
     "output_type": "execute_result"
    }
   ],
   "source": [
    "len(predictions)"
   ]
  },
  {
   "cell_type": "markdown",
   "id": "a341aed9-ae03-45dd-afc7-2fe12fd98ca4",
   "metadata": {},
   "source": [
    "# 进行查询"
   ]
  },
  {
   "cell_type": "markdown",
   "id": "b6f17d02-f3f0-43d3-aaf5-8a2471069549",
   "metadata": {},
   "source": [
    "## 定义查询的工具函数"
   ]
  },
  {
   "cell_type": "code",
   "execution_count": 5,
   "id": "0c1541d7-516b-44d3-9199-4874d875fd45",
   "metadata": {},
   "outputs": [],
   "source": [
    "def empty(r):\n",
    "    if not r:\n",
    "        return True\n",
    "    if 'boolean' not in r:\n",
    "        if 'results' in r:\n",
    "            if 'bindings' in r['results']:\n",
    "                if not r['results']['bindings']:\n",
    "                    return True\n",
    "                if {} in r['results']['bindings']:\n",
    "                    return True\n",
    "    return False"
   ]
  },
  {
   "cell_type": "code",
   "execution_count": 6,
   "id": "65ff8f7d-cd98-4aa7-ae0a-2d73406ba2cf",
   "metadata": {},
   "outputs": [],
   "source": [
    "def hitkg(query, url=\"http://localhost:8892/sparql\", typeq=\"target\"):\n",
    "    url = \"https://wikidata.demo.openlinksw.com/sparql\"\n",
    "    try:\n",
    "        #print(query)\n",
    "        proxies = { \"http\": None, \"https\": None}\n",
    "        r = requests.get(url, params={'format': 'json', 'query': query}, proxies =proxies)\n",
    "        json_format = r.json()\n",
    "        #print(json_format)\n",
    "        results = json_format\n",
    "        if empty(results) and typeq == 'target':\n",
    "            # print(\"Empty\")\n",
    "            return \"Empty\"\n",
    "        else:\n",
    "            # print(\"find result\")\n",
    "            #sys.exit(1)\n",
    "            return results\n",
    "    except Exception as err:\n",
    "        #print(err)\n",
    "        if typeq == 'target':\n",
    "            print(\"no response in target query\")\n",
    "            #sys.exit(1)\n",
    "        return ''"
   ]
  },
  {
   "cell_type": "code",
   "execution_count": 7,
   "id": "72205b92-69e5-4a38-8bf9-77dbd52e156a",
   "metadata": {},
   "outputs": [],
   "source": [
    "def parse_answer_from_result(result_dict):\n",
    "    if 'boolean' in result_dict:\n",
    "        return result_dict['boolean']\n",
    "    elif 'results' in result_dict:\n",
    "        raw_results = result_dict['results']['bindings']\n",
    "        result = [item[result_dict['head']['vars'][0]]['value'] for item in raw_results]\n",
    "        return result\n",
    "    else:\n",
    "        return None"
   ]
  },
  {
   "cell_type": "code",
   "execution_count": 8,
   "id": "11ac40c9-19d4-4f02-a9a4-1318a87fac81",
   "metadata": {},
   "outputs": [],
   "source": [
    "def compute_prf1_one(prediction, reference):\n",
    "    gold_result = hitkg(reference)\n",
    "    gold_answer = parse_answer_from_result(gold_result)\n",
    "    pred_result = hitkg(prediction)\n",
    "    pred_answer = parse_answer_from_result(pred_result)\n",
    "    if gold_answer is None:\n",
    "        if pred_answer is None:\n",
    "            recall, precision, f1 = 1, 1, 1\n",
    "        else:\n",
    "            recall, precision, f1 = 0, 0, 0\n",
    "    elif isinstance(gold_answer, bool):\n",
    "        if gold_answer == pred_answer:\n",
    "            recall, precision, f1 = 1, 1, 1\n",
    "        else:\n",
    "            recall, precision, f1 = 0, 0, 0\n",
    "    elif isinstance(gold_answer, list):\n",
    "        if pred_answer is None:\n",
    "            recall, precision, f1 = 0, 0, 0\n",
    "        else:\n",
    "            pred_answer = set(pred_answer)\n",
    "            gold_answer = set(gold_answer)\n",
    "            if len(pred_answer.intersection(gold_answer)) != 0:\n",
    "                precision = len(pred_answer.intersection(gold_answer)) / len(pred_answer)\n",
    "                recall = len(pred_answer.intersection(gold_answer)) / len(gold_answer)\n",
    "                f1 = (2 * recall * precision / (recall + precision))\n",
    "            else:\n",
    "                recall, precision, f1 = 0, 0, 0\n",
    "                \n",
    "    result_dict = {\n",
    "        \"precision\": precision,\n",
    "        \"recall\": recall,\n",
    "        \"f1\": f1\n",
    "    }\n",
    "    \n",
    "    return result_dict"
   ]
  },
  {
   "cell_type": "code",
   "execution_count": 9,
   "id": "7869c8a7-31fd-4546-b901-1cd8a97c229e",
   "metadata": {},
   "outputs": [],
   "source": [
    "def compute_f1_metric(predictions, references) -> Dict[str, Any]:\n",
    "    from tqdm import tqdm\n",
    "    precision, recall, f1= 0., 0., 0.\n",
    "    total = 0\n",
    "    for pred, ref in tqdm(zip(predictions, references)):\n",
    "        prediction = pred\n",
    "        reference = ref\n",
    "\n",
    "        result_dict = compute_prf1_one(prediction, reference)\n",
    "        p, r, f= result_dict[\"precision\"], result_dict[\"recall\"], result_dict[\"f1\"]\n",
    "        precision += p\n",
    "        recall += r\n",
    "        f1 += f\n",
    "\n",
    "        total += 1\n",
    "\n",
    "    return {\n",
    "        \"precision\": float(precision/total),\n",
    "        \"recall\": float(recall/total),\n",
    "        \"f1\": float(f1/total)\n",
    "    }"
   ]
  },
  {
   "cell_type": "markdown",
   "id": "d6159c0f-df17-48bd-a247-df1c35539100",
   "metadata": {},
   "source": [
    "## 进行查询"
   ]
  },
  {
   "cell_type": "code",
   "execution_count": 10,
   "id": "da86800b-e12a-4b15-aa02-5181f52ee919",
   "metadata": {
    "tags": []
   },
   "outputs": [
    {
     "name": "stderr",
     "output_type": "stream",
     "text": [
      "1it [00:00,  1.18it/s]"
     ]
    },
    {
     "name": "stdout",
     "output_type": "stream",
     "text": [
      "no response in target query\n"
     ]
    },
    {
     "name": "stderr",
     "output_type": "stream",
     "text": [
      "2it [00:01,  1.23it/s]"
     ]
    },
    {
     "name": "stdout",
     "output_type": "stream",
     "text": [
      "no response in target query\n"
     ]
    },
    {
     "name": "stderr",
     "output_type": "stream",
     "text": [
      "4it [00:03,  1.21it/s]"
     ]
    },
    {
     "name": "stdout",
     "output_type": "stream",
     "text": [
      "no response in target query\n"
     ]
    },
    {
     "name": "stderr",
     "output_type": "stream",
     "text": [
      "5it [00:04,  1.22it/s]"
     ]
    },
    {
     "name": "stdout",
     "output_type": "stream",
     "text": [
      "no response in target query\n"
     ]
    },
    {
     "name": "stderr",
     "output_type": "stream",
     "text": [
      "20it [00:16,  1.24it/s]"
     ]
    },
    {
     "name": "stdout",
     "output_type": "stream",
     "text": [
      "no response in target query\n"
     ]
    },
    {
     "name": "stderr",
     "output_type": "stream",
     "text": [
      "21it [00:17,  1.23it/s]"
     ]
    },
    {
     "name": "stdout",
     "output_type": "stream",
     "text": [
      "no response in target query\n"
     ]
    },
    {
     "name": "stderr",
     "output_type": "stream",
     "text": [
      "22it [00:17,  1.23it/s]"
     ]
    },
    {
     "name": "stdout",
     "output_type": "stream",
     "text": [
      "no response in target query\n"
     ]
    },
    {
     "name": "stderr",
     "output_type": "stream",
     "text": [
      "23it [00:18,  1.24it/s]"
     ]
    },
    {
     "name": "stdout",
     "output_type": "stream",
     "text": [
      "no response in target query\n"
     ]
    },
    {
     "name": "stderr",
     "output_type": "stream",
     "text": [
      "40it [00:32,  1.23it/s]"
     ]
    },
    {
     "name": "stdout",
     "output_type": "stream",
     "text": [
      "no response in target query\n"
     ]
    },
    {
     "name": "stderr",
     "output_type": "stream",
     "text": [
      "41it [00:33,  1.23it/s]"
     ]
    },
    {
     "name": "stdout",
     "output_type": "stream",
     "text": [
      "no response in target query\n",
      "no response in target query\n"
     ]
    },
    {
     "name": "stderr",
     "output_type": "stream",
     "text": [
      "42it [00:34,  1.23it/s]"
     ]
    },
    {
     "name": "stdout",
     "output_type": "stream",
     "text": [
      "no response in target query\n"
     ]
    },
    {
     "name": "stderr",
     "output_type": "stream",
     "text": [
      "62it [00:50,  1.24it/s]"
     ]
    },
    {
     "name": "stdout",
     "output_type": "stream",
     "text": [
      "no response in target query\n"
     ]
    },
    {
     "name": "stderr",
     "output_type": "stream",
     "text": [
      "63it [00:51,  1.24it/s]"
     ]
    },
    {
     "name": "stdout",
     "output_type": "stream",
     "text": [
      "no response in target query\n"
     ]
    },
    {
     "name": "stderr",
     "output_type": "stream",
     "text": [
      "66it [00:53,  1.25it/s]"
     ]
    },
    {
     "name": "stdout",
     "output_type": "stream",
     "text": [
      "no response in target query\n"
     ]
    },
    {
     "name": "stderr",
     "output_type": "stream",
     "text": [
      "67it [00:54,  1.24it/s]"
     ]
    },
    {
     "name": "stdout",
     "output_type": "stream",
     "text": [
      "no response in target query\n"
     ]
    },
    {
     "name": "stderr",
     "output_type": "stream",
     "text": [
      "75it [01:00,  1.22it/s]"
     ]
    },
    {
     "name": "stdout",
     "output_type": "stream",
     "text": [
      "no response in target query\n"
     ]
    },
    {
     "name": "stderr",
     "output_type": "stream",
     "text": [
      "76it [01:01,  1.23it/s]"
     ]
    },
    {
     "name": "stdout",
     "output_type": "stream",
     "text": [
      "no response in target query\n"
     ]
    },
    {
     "name": "stderr",
     "output_type": "stream",
     "text": [
      "91it [01:13,  1.22it/s]"
     ]
    },
    {
     "name": "stdout",
     "output_type": "stream",
     "text": [
      "no response in target query\n"
     ]
    },
    {
     "name": "stderr",
     "output_type": "stream",
     "text": [
      "92it [01:14,  1.22it/s]"
     ]
    },
    {
     "name": "stdout",
     "output_type": "stream",
     "text": [
      "no response in target query\n"
     ]
    },
    {
     "name": "stderr",
     "output_type": "stream",
     "text": [
      "102it [01:22,  1.22it/s]"
     ]
    },
    {
     "name": "stdout",
     "output_type": "stream",
     "text": [
      "no response in target query\n"
     ]
    },
    {
     "name": "stderr",
     "output_type": "stream",
     "text": [
      "103it [01:23,  1.22it/s]"
     ]
    },
    {
     "name": "stdout",
     "output_type": "stream",
     "text": [
      "no response in target query\n"
     ]
    },
    {
     "name": "stderr",
     "output_type": "stream",
     "text": [
      "121it [01:38,  1.20it/s]"
     ]
    },
    {
     "name": "stdout",
     "output_type": "stream",
     "text": [
      "no response in target query\n"
     ]
    },
    {
     "name": "stderr",
     "output_type": "stream",
     "text": [
      "122it [01:39,  1.22it/s]"
     ]
    },
    {
     "name": "stdout",
     "output_type": "stream",
     "text": [
      "no response in target query\n"
     ]
    },
    {
     "name": "stderr",
     "output_type": "stream",
     "text": [
      "123it [01:40,  1.22it/s]"
     ]
    },
    {
     "name": "stdout",
     "output_type": "stream",
     "text": [
      "no response in target query\n"
     ]
    },
    {
     "name": "stderr",
     "output_type": "stream",
     "text": [
      "124it [01:40,  1.23it/s]"
     ]
    },
    {
     "name": "stdout",
     "output_type": "stream",
     "text": [
      "no response in target query\n"
     ]
    },
    {
     "name": "stderr",
     "output_type": "stream",
     "text": [
      "128it [01:44,  1.22it/s]"
     ]
    },
    {
     "name": "stdout",
     "output_type": "stream",
     "text": [
      "no response in target query\n"
     ]
    },
    {
     "name": "stderr",
     "output_type": "stream",
     "text": [
      "129it [01:44,  1.22it/s]"
     ]
    },
    {
     "name": "stdout",
     "output_type": "stream",
     "text": [
      "no response in target query\n"
     ]
    },
    {
     "name": "stderr",
     "output_type": "stream",
     "text": [
      "139it [01:53,  1.24it/s]"
     ]
    },
    {
     "name": "stdout",
     "output_type": "stream",
     "text": [
      "no response in target query\n"
     ]
    },
    {
     "name": "stderr",
     "output_type": "stream",
     "text": [
      "140it [01:53,  1.24it/s]"
     ]
    },
    {
     "name": "stdout",
     "output_type": "stream",
     "text": [
      "no response in target query\n"
     ]
    },
    {
     "name": "stderr",
     "output_type": "stream",
     "text": [
      "171it [02:19,  1.23it/s]"
     ]
    },
    {
     "name": "stdout",
     "output_type": "stream",
     "text": [
      "no response in target query\n"
     ]
    },
    {
     "name": "stderr",
     "output_type": "stream",
     "text": [
      "172it [02:19,  1.22it/s]"
     ]
    },
    {
     "name": "stdout",
     "output_type": "stream",
     "text": [
      "no response in target query\n"
     ]
    },
    {
     "name": "stderr",
     "output_type": "stream",
     "text": [
      "181it [02:27,  1.20it/s]"
     ]
    },
    {
     "name": "stdout",
     "output_type": "stream",
     "text": [
      "no response in target query\n"
     ]
    },
    {
     "name": "stderr",
     "output_type": "stream",
     "text": [
      "182it [02:28,  1.21it/s]"
     ]
    },
    {
     "name": "stdout",
     "output_type": "stream",
     "text": [
      "no response in target query\n"
     ]
    },
    {
     "name": "stderr",
     "output_type": "stream",
     "text": [
      "192it [02:36,  1.24it/s]"
     ]
    },
    {
     "name": "stdout",
     "output_type": "stream",
     "text": [
      "no response in target query\n"
     ]
    },
    {
     "name": "stderr",
     "output_type": "stream",
     "text": [
      "193it [02:37,  1.25it/s]"
     ]
    },
    {
     "name": "stdout",
     "output_type": "stream",
     "text": [
      "no response in target query\n"
     ]
    },
    {
     "name": "stderr",
     "output_type": "stream",
     "text": [
      "197it [02:40,  1.24it/s]"
     ]
    },
    {
     "name": "stdout",
     "output_type": "stream",
     "text": [
      "no response in target query\n"
     ]
    },
    {
     "name": "stderr",
     "output_type": "stream",
     "text": [
      "198it [02:41,  1.23it/s]"
     ]
    },
    {
     "name": "stdout",
     "output_type": "stream",
     "text": [
      "no response in target query\n"
     ]
    },
    {
     "name": "stderr",
     "output_type": "stream",
     "text": [
      "202it [02:44,  1.25it/s]"
     ]
    },
    {
     "name": "stdout",
     "output_type": "stream",
     "text": [
      "no response in target query\n"
     ]
    },
    {
     "name": "stderr",
     "output_type": "stream",
     "text": [
      "203it [02:45,  1.25it/s]"
     ]
    },
    {
     "name": "stdout",
     "output_type": "stream",
     "text": [
      "no response in target query\n"
     ]
    },
    {
     "name": "stderr",
     "output_type": "stream",
     "text": [
      "213it [02:53,  1.24it/s]"
     ]
    },
    {
     "name": "stdout",
     "output_type": "stream",
     "text": [
      "no response in target query\n"
     ]
    },
    {
     "name": "stderr",
     "output_type": "stream",
     "text": [
      "214it [02:54,  1.25it/s]"
     ]
    },
    {
     "name": "stdout",
     "output_type": "stream",
     "text": [
      "no response in target query\n"
     ]
    },
    {
     "name": "stderr",
     "output_type": "stream",
     "text": [
      "218it [02:57,  1.24it/s]"
     ]
    },
    {
     "name": "stdout",
     "output_type": "stream",
     "text": [
      "no response in target query\n"
     ]
    },
    {
     "name": "stderr",
     "output_type": "stream",
     "text": [
      "219it [02:58,  1.25it/s]"
     ]
    },
    {
     "name": "stdout",
     "output_type": "stream",
     "text": [
      "no response in target query\n"
     ]
    },
    {
     "name": "stderr",
     "output_type": "stream",
     "text": [
      "228it [03:05,  1.25it/s]"
     ]
    },
    {
     "name": "stdout",
     "output_type": "stream",
     "text": [
      "no response in target query\n"
     ]
    },
    {
     "name": "stderr",
     "output_type": "stream",
     "text": [
      "229it [03:06,  1.25it/s]"
     ]
    },
    {
     "name": "stdout",
     "output_type": "stream",
     "text": [
      "no response in target query\n"
     ]
    },
    {
     "name": "stderr",
     "output_type": "stream",
     "text": [
      "249it [03:22,  1.23it/s]"
     ]
    },
    {
     "name": "stdout",
     "output_type": "stream",
     "text": [
      "no response in target query\n"
     ]
    },
    {
     "name": "stderr",
     "output_type": "stream",
     "text": [
      "250it [03:23,  1.24it/s]"
     ]
    },
    {
     "name": "stdout",
     "output_type": "stream",
     "text": [
      "no response in target query\n",
      "no response in target query\n"
     ]
    },
    {
     "name": "stderr",
     "output_type": "stream",
     "text": [
      "251it [03:24,  1.23it/s]"
     ]
    },
    {
     "name": "stdout",
     "output_type": "stream",
     "text": [
      "no response in target query\n"
     ]
    },
    {
     "name": "stderr",
     "output_type": "stream",
     "text": [
      "257it [03:29,  1.23it/s]"
     ]
    },
    {
     "name": "stdout",
     "output_type": "stream",
     "text": [
      "no response in target query\n"
     ]
    },
    {
     "name": "stderr",
     "output_type": "stream",
     "text": [
      "258it [03:30,  1.23it/s]"
     ]
    },
    {
     "name": "stdout",
     "output_type": "stream",
     "text": [
      "no response in target query\n"
     ]
    },
    {
     "name": "stderr",
     "output_type": "stream",
     "text": [
      "262it [03:33,  1.25it/s]"
     ]
    },
    {
     "name": "stdout",
     "output_type": "stream",
     "text": [
      "no response in target query\n"
     ]
    },
    {
     "name": "stderr",
     "output_type": "stream",
     "text": [
      "263it [03:34,  1.25it/s]"
     ]
    },
    {
     "name": "stdout",
     "output_type": "stream",
     "text": [
      "no response in target query\n"
     ]
    },
    {
     "name": "stderr",
     "output_type": "stream",
     "text": [
      "274it [03:46,  1.82s/it]"
     ]
    },
    {
     "name": "stdout",
     "output_type": "stream",
     "text": [
      "no response in target query\n"
     ]
    },
    {
     "name": "stderr",
     "output_type": "stream",
     "text": [
      "275it [03:47,  1.51s/it]"
     ]
    },
    {
     "name": "stdout",
     "output_type": "stream",
     "text": [
      "no response in target query\n"
     ]
    },
    {
     "name": "stderr",
     "output_type": "stream",
     "text": [
      "281it [03:52,  1.09it/s]"
     ]
    },
    {
     "name": "stdout",
     "output_type": "stream",
     "text": [
      "no response in target query\n"
     ]
    },
    {
     "name": "stderr",
     "output_type": "stream",
     "text": [
      "282it [03:53,  1.13it/s]"
     ]
    },
    {
     "name": "stdout",
     "output_type": "stream",
     "text": [
      "no response in target query\n"
     ]
    },
    {
     "name": "stderr",
     "output_type": "stream",
     "text": [
      "291it [04:00,  1.23it/s]"
     ]
    },
    {
     "name": "stdout",
     "output_type": "stream",
     "text": [
      "no response in target query\n"
     ]
    },
    {
     "name": "stderr",
     "output_type": "stream",
     "text": [
      "292it [04:01,  1.23it/s]"
     ]
    },
    {
     "name": "stdout",
     "output_type": "stream",
     "text": [
      "no response in target query\n"
     ]
    },
    {
     "name": "stderr",
     "output_type": "stream",
     "text": [
      "297it [04:05,  1.23it/s]"
     ]
    },
    {
     "name": "stdout",
     "output_type": "stream",
     "text": [
      "no response in target query\n"
     ]
    },
    {
     "name": "stderr",
     "output_type": "stream",
     "text": [
      "298it [04:06,  1.23it/s]"
     ]
    },
    {
     "name": "stdout",
     "output_type": "stream",
     "text": [
      "no response in target query\n"
     ]
    },
    {
     "name": "stderr",
     "output_type": "stream",
     "text": [
      "311it [04:16,  1.22it/s]"
     ]
    },
    {
     "name": "stdout",
     "output_type": "stream",
     "text": [
      "no response in target query\n"
     ]
    },
    {
     "name": "stderr",
     "output_type": "stream",
     "text": [
      "312it [04:17,  1.23it/s]"
     ]
    },
    {
     "name": "stdout",
     "output_type": "stream",
     "text": [
      "no response in target query\n"
     ]
    },
    {
     "name": "stderr",
     "output_type": "stream",
     "text": [
      "318it [04:22,  1.22it/s]"
     ]
    },
    {
     "name": "stdout",
     "output_type": "stream",
     "text": [
      "no response in target query\n"
     ]
    },
    {
     "name": "stderr",
     "output_type": "stream",
     "text": [
      "319it [04:23,  1.23it/s]"
     ]
    },
    {
     "name": "stdout",
     "output_type": "stream",
     "text": [
      "no response in target query\n"
     ]
    },
    {
     "name": "stderr",
     "output_type": "stream",
     "text": [
      "325it [04:54,  6.37s/it]"
     ]
    },
    {
     "name": "stdout",
     "output_type": "stream",
     "text": [
      "no response in target query\n"
     ]
    },
    {
     "name": "stderr",
     "output_type": "stream",
     "text": [
      "326it [04:55,  4.71s/it]"
     ]
    },
    {
     "name": "stdout",
     "output_type": "stream",
     "text": [
      "no response in target query\n"
     ]
    },
    {
     "name": "stderr",
     "output_type": "stream",
     "text": [
      "330it [04:58,  1.74s/it]"
     ]
    },
    {
     "name": "stdout",
     "output_type": "stream",
     "text": [
      "no response in target query\n"
     ]
    },
    {
     "name": "stderr",
     "output_type": "stream",
     "text": [
      "331it [04:59,  1.46s/it]"
     ]
    },
    {
     "name": "stdout",
     "output_type": "stream",
     "text": [
      "no response in target query\n"
     ]
    },
    {
     "name": "stderr",
     "output_type": "stream",
     "text": [
      "367it [05:29,  1.24it/s]"
     ]
    },
    {
     "name": "stdout",
     "output_type": "stream",
     "text": [
      "no response in target query\n"
     ]
    },
    {
     "name": "stderr",
     "output_type": "stream",
     "text": [
      "368it [05:29,  1.24it/s]"
     ]
    },
    {
     "name": "stdout",
     "output_type": "stream",
     "text": [
      "no response in target query\n",
      "no response in target query\n"
     ]
    },
    {
     "name": "stderr",
     "output_type": "stream",
     "text": [
      "369it [05:30,  1.23it/s]"
     ]
    },
    {
     "name": "stdout",
     "output_type": "stream",
     "text": [
      "no response in target query\n"
     ]
    },
    {
     "name": "stderr",
     "output_type": "stream",
     "text": [
      "370it [05:31,  1.23it/s]"
     ]
    },
    {
     "name": "stdout",
     "output_type": "stream",
     "text": [
      "no response in target query\n"
     ]
    },
    {
     "name": "stderr",
     "output_type": "stream",
     "text": [
      "371it [05:32,  1.24it/s]"
     ]
    },
    {
     "name": "stdout",
     "output_type": "stream",
     "text": [
      "no response in target query\n"
     ]
    },
    {
     "name": "stderr",
     "output_type": "stream",
     "text": [
      "401it [05:56,  1.16it/s]"
     ]
    },
    {
     "name": "stdout",
     "output_type": "stream",
     "text": [
      "no response in target query\n"
     ]
    },
    {
     "name": "stderr",
     "output_type": "stream",
     "text": [
      "402it [05:57,  1.18it/s]"
     ]
    },
    {
     "name": "stdout",
     "output_type": "stream",
     "text": [
      "no response in target query\n"
     ]
    },
    {
     "name": "stderr",
     "output_type": "stream",
     "text": [
      "426it [06:17,  1.24it/s]"
     ]
    },
    {
     "name": "stdout",
     "output_type": "stream",
     "text": [
      "no response in target query\n"
     ]
    },
    {
     "name": "stderr",
     "output_type": "stream",
     "text": [
      "427it [06:18,  1.23it/s]"
     ]
    },
    {
     "name": "stdout",
     "output_type": "stream",
     "text": [
      "no response in target query\n"
     ]
    },
    {
     "name": "stderr",
     "output_type": "stream",
     "text": [
      "430it [06:20,  1.24it/s]"
     ]
    },
    {
     "name": "stdout",
     "output_type": "stream",
     "text": [
      "no response in target query\n"
     ]
    },
    {
     "name": "stderr",
     "output_type": "stream",
     "text": [
      "431it [06:21,  1.23it/s]"
     ]
    },
    {
     "name": "stdout",
     "output_type": "stream",
     "text": [
      "no response in target query\n"
     ]
    },
    {
     "name": "stderr",
     "output_type": "stream",
     "text": [
      "444it [06:31,  1.23it/s]"
     ]
    },
    {
     "name": "stdout",
     "output_type": "stream",
     "text": [
      "no response in target query\n"
     ]
    },
    {
     "name": "stderr",
     "output_type": "stream",
     "text": [
      "445it [06:32,  1.23it/s]"
     ]
    },
    {
     "name": "stdout",
     "output_type": "stream",
     "text": [
      "no response in target query\n"
     ]
    },
    {
     "name": "stderr",
     "output_type": "stream",
     "text": [
      "451it [06:40,  1.04it/s]"
     ]
    },
    {
     "name": "stdout",
     "output_type": "stream",
     "text": [
      "no response in target query\n"
     ]
    },
    {
     "name": "stderr",
     "output_type": "stream",
     "text": [
      "452it [06:41,  1.08it/s]"
     ]
    },
    {
     "name": "stdout",
     "output_type": "stream",
     "text": [
      "no response in target query\n"
     ]
    },
    {
     "name": "stderr",
     "output_type": "stream",
     "text": [
      "453it [06:42,  1.13it/s]"
     ]
    },
    {
     "name": "stdout",
     "output_type": "stream",
     "text": [
      "no response in target query\n"
     ]
    },
    {
     "name": "stderr",
     "output_type": "stream",
     "text": [
      "454it [06:42,  1.15it/s]"
     ]
    },
    {
     "name": "stdout",
     "output_type": "stream",
     "text": [
      "no response in target query\n"
     ]
    },
    {
     "name": "stderr",
     "output_type": "stream",
     "text": [
      "480it [07:04,  1.22it/s]"
     ]
    },
    {
     "name": "stdout",
     "output_type": "stream",
     "text": [
      "no response in target query\n"
     ]
    },
    {
     "name": "stderr",
     "output_type": "stream",
     "text": [
      "488it [07:10,  1.22it/s]"
     ]
    },
    {
     "name": "stdout",
     "output_type": "stream",
     "text": [
      "no response in target query\n"
     ]
    },
    {
     "name": "stderr",
     "output_type": "stream",
     "text": [
      "489it [07:11,  1.22it/s]"
     ]
    },
    {
     "name": "stdout",
     "output_type": "stream",
     "text": [
      "no response in target query\n",
      "no response in target query\n"
     ]
    },
    {
     "name": "stderr",
     "output_type": "stream",
     "text": [
      "490it [07:12,  1.23it/s]"
     ]
    },
    {
     "name": "stdout",
     "output_type": "stream",
     "text": [
      "no response in target query\n"
     ]
    },
    {
     "name": "stderr",
     "output_type": "stream",
     "text": [
      "515it [07:32,  1.24it/s]"
     ]
    },
    {
     "name": "stdout",
     "output_type": "stream",
     "text": [
      "no response in target query\n"
     ]
    },
    {
     "name": "stderr",
     "output_type": "stream",
     "text": [
      "516it [07:33,  1.23it/s]"
     ]
    },
    {
     "name": "stdout",
     "output_type": "stream",
     "text": [
      "no response in target query\n"
     ]
    },
    {
     "name": "stderr",
     "output_type": "stream",
     "text": [
      "520it [07:36,  1.23it/s]"
     ]
    },
    {
     "name": "stdout",
     "output_type": "stream",
     "text": [
      "no response in target query\n"
     ]
    },
    {
     "name": "stderr",
     "output_type": "stream",
     "text": [
      "521it [07:37,  1.23it/s]"
     ]
    },
    {
     "name": "stdout",
     "output_type": "stream",
     "text": [
      "no response in target query\n"
     ]
    },
    {
     "name": "stderr",
     "output_type": "stream",
     "text": [
      "524it [07:39,  1.23it/s]"
     ]
    },
    {
     "name": "stdout",
     "output_type": "stream",
     "text": [
      "no response in target query\n"
     ]
    },
    {
     "name": "stderr",
     "output_type": "stream",
     "text": [
      "525it [07:40,  1.24it/s]"
     ]
    },
    {
     "name": "stdout",
     "output_type": "stream",
     "text": [
      "no response in target query\n"
     ]
    },
    {
     "name": "stderr",
     "output_type": "stream",
     "text": [
      "529it [07:43,  1.24it/s]"
     ]
    },
    {
     "name": "stdout",
     "output_type": "stream",
     "text": [
      "no response in target query\n"
     ]
    },
    {
     "name": "stderr",
     "output_type": "stream",
     "text": [
      "530it [07:44,  1.24it/s]"
     ]
    },
    {
     "name": "stdout",
     "output_type": "stream",
     "text": [
      "no response in target query\n"
     ]
    },
    {
     "name": "stderr",
     "output_type": "stream",
     "text": [
      "546it [07:57,  1.23it/s]"
     ]
    },
    {
     "name": "stdout",
     "output_type": "stream",
     "text": [
      "no response in target query\n"
     ]
    },
    {
     "name": "stderr",
     "output_type": "stream",
     "text": [
      "547it [07:58,  1.24it/s]"
     ]
    },
    {
     "name": "stdout",
     "output_type": "stream",
     "text": [
      "no response in target query\n"
     ]
    },
    {
     "name": "stderr",
     "output_type": "stream",
     "text": [
      "558it [08:08,  1.21it/s]"
     ]
    },
    {
     "name": "stdout",
     "output_type": "stream",
     "text": [
      "no response in target query\n"
     ]
    },
    {
     "name": "stderr",
     "output_type": "stream",
     "text": [
      "559it [08:08,  1.22it/s]"
     ]
    },
    {
     "name": "stdout",
     "output_type": "stream",
     "text": [
      "no response in target query\n"
     ]
    },
    {
     "name": "stderr",
     "output_type": "stream",
     "text": [
      "572it [08:19,  1.23it/s]"
     ]
    },
    {
     "name": "stdout",
     "output_type": "stream",
     "text": [
      "no response in target query\n"
     ]
    },
    {
     "name": "stderr",
     "output_type": "stream",
     "text": [
      "573it [08:20,  1.24it/s]"
     ]
    },
    {
     "name": "stdout",
     "output_type": "stream",
     "text": [
      "no response in target query\n"
     ]
    },
    {
     "name": "stderr",
     "output_type": "stream",
     "text": [
      "578it [08:24,  1.24it/s]"
     ]
    },
    {
     "name": "stdout",
     "output_type": "stream",
     "text": [
      "no response in target query\n"
     ]
    },
    {
     "name": "stderr",
     "output_type": "stream",
     "text": [
      "579it [08:25,  1.23it/s]"
     ]
    },
    {
     "name": "stdout",
     "output_type": "stream",
     "text": [
      "no response in target query\n"
     ]
    },
    {
     "name": "stderr",
     "output_type": "stream",
     "text": [
      "596it [08:38,  1.23it/s]"
     ]
    },
    {
     "name": "stdout",
     "output_type": "stream",
     "text": [
      "no response in target query\n"
     ]
    },
    {
     "name": "stderr",
     "output_type": "stream",
     "text": [
      "597it [08:39,  1.24it/s]"
     ]
    },
    {
     "name": "stdout",
     "output_type": "stream",
     "text": [
      "no response in target query\n"
     ]
    },
    {
     "name": "stderr",
     "output_type": "stream",
     "text": [
      "618it [08:56,  1.21it/s]"
     ]
    },
    {
     "name": "stdout",
     "output_type": "stream",
     "text": [
      "no response in target query\n"
     ]
    },
    {
     "name": "stderr",
     "output_type": "stream",
     "text": [
      "619it [08:57,  1.22it/s]"
     ]
    },
    {
     "name": "stdout",
     "output_type": "stream",
     "text": [
      "no response in target query\n"
     ]
    },
    {
     "name": "stderr",
     "output_type": "stream",
     "text": [
      "624it [09:01,  1.21it/s]"
     ]
    },
    {
     "name": "stdout",
     "output_type": "stream",
     "text": [
      "no response in target query\n"
     ]
    },
    {
     "name": "stderr",
     "output_type": "stream",
     "text": [
      "625it [09:02,  1.20it/s]"
     ]
    },
    {
     "name": "stdout",
     "output_type": "stream",
     "text": [
      "no response in target query\n"
     ]
    },
    {
     "name": "stderr",
     "output_type": "stream",
     "text": [
      "635it [09:11,  1.20it/s]"
     ]
    },
    {
     "name": "stdout",
     "output_type": "stream",
     "text": [
      "no response in target query\n"
     ]
    },
    {
     "name": "stderr",
     "output_type": "stream",
     "text": [
      "636it [09:11,  1.21it/s]"
     ]
    },
    {
     "name": "stdout",
     "output_type": "stream",
     "text": [
      "no response in target query\n"
     ]
    },
    {
     "name": "stderr",
     "output_type": "stream",
     "text": [
      "643it [09:18,  1.04it/s]"
     ]
    },
    {
     "name": "stdout",
     "output_type": "stream",
     "text": [
      "no response in target query\n"
     ]
    },
    {
     "name": "stderr",
     "output_type": "stream",
     "text": [
      "644it [09:18,  1.09it/s]"
     ]
    },
    {
     "name": "stdout",
     "output_type": "stream",
     "text": [
      "no response in target query\n"
     ]
    },
    {
     "name": "stderr",
     "output_type": "stream",
     "text": [
      "646it [09:20,  1.15it/s]"
     ]
    },
    {
     "name": "stdout",
     "output_type": "stream",
     "text": [
      "no response in target query\n"
     ]
    },
    {
     "name": "stderr",
     "output_type": "stream",
     "text": [
      "647it [09:21,  1.17it/s]"
     ]
    },
    {
     "name": "stdout",
     "output_type": "stream",
     "text": [
      "no response in target query\n"
     ]
    },
    {
     "name": "stderr",
     "output_type": "stream",
     "text": [
      "663it [09:34,  1.21it/s]"
     ]
    },
    {
     "name": "stdout",
     "output_type": "stream",
     "text": [
      "no response in target query\n"
     ]
    },
    {
     "name": "stderr",
     "output_type": "stream",
     "text": [
      "664it [09:35,  1.20it/s]"
     ]
    },
    {
     "name": "stdout",
     "output_type": "stream",
     "text": [
      "no response in target query\n"
     ]
    },
    {
     "name": "stderr",
     "output_type": "stream",
     "text": [
      "669it [09:39,  1.19it/s]"
     ]
    },
    {
     "name": "stdout",
     "output_type": "stream",
     "text": [
      "no response in target query\n"
     ]
    },
    {
     "name": "stderr",
     "output_type": "stream",
     "text": [
      "670it [09:40,  1.20it/s]"
     ]
    },
    {
     "name": "stdout",
     "output_type": "stream",
     "text": [
      "no response in target query\n"
     ]
    },
    {
     "name": "stderr",
     "output_type": "stream",
     "text": [
      "680it [09:49,  1.21it/s]"
     ]
    },
    {
     "name": "stdout",
     "output_type": "stream",
     "text": [
      "no response in target query\n"
     ]
    },
    {
     "name": "stderr",
     "output_type": "stream",
     "text": [
      "681it [09:49,  1.21it/s]"
     ]
    },
    {
     "name": "stdout",
     "output_type": "stream",
     "text": [
      "no response in target query\n"
     ]
    },
    {
     "name": "stderr",
     "output_type": "stream",
     "text": [
      "683it [09:51,  1.21it/s]"
     ]
    },
    {
     "name": "stdout",
     "output_type": "stream",
     "text": [
      "no response in target query\n"
     ]
    },
    {
     "name": "stderr",
     "output_type": "stream",
     "text": [
      "684it [09:52,  1.21it/s]"
     ]
    },
    {
     "name": "stdout",
     "output_type": "stream",
     "text": [
      "no response in target query\n"
     ]
    },
    {
     "name": "stderr",
     "output_type": "stream",
     "text": [
      "706it [10:10,  1.21it/s]"
     ]
    },
    {
     "name": "stdout",
     "output_type": "stream",
     "text": [
      "no response in target query\n"
     ]
    },
    {
     "name": "stderr",
     "output_type": "stream",
     "text": [
      "707it [10:11,  1.21it/s]"
     ]
    },
    {
     "name": "stdout",
     "output_type": "stream",
     "text": [
      "no response in target query\n"
     ]
    },
    {
     "name": "stderr",
     "output_type": "stream",
     "text": [
      "730it [10:30,  1.20it/s]"
     ]
    },
    {
     "name": "stdout",
     "output_type": "stream",
     "text": [
      "no response in target query\n"
     ]
    },
    {
     "name": "stderr",
     "output_type": "stream",
     "text": [
      "731it [10:31,  1.21it/s]"
     ]
    },
    {
     "name": "stdout",
     "output_type": "stream",
     "text": [
      "no response in target query\n"
     ]
    },
    {
     "name": "stderr",
     "output_type": "stream",
     "text": [
      "745it [10:42,  1.18it/s]"
     ]
    },
    {
     "name": "stdout",
     "output_type": "stream",
     "text": [
      "no response in target query\n"
     ]
    },
    {
     "name": "stderr",
     "output_type": "stream",
     "text": [
      "746it [10:43,  1.18it/s]"
     ]
    },
    {
     "name": "stdout",
     "output_type": "stream",
     "text": [
      "no response in target query\n"
     ]
    },
    {
     "name": "stderr",
     "output_type": "stream",
     "text": [
      "762it [10:57,  1.20it/s]"
     ]
    },
    {
     "name": "stdout",
     "output_type": "stream",
     "text": [
      "no response in target query\n"
     ]
    },
    {
     "name": "stderr",
     "output_type": "stream",
     "text": [
      "763it [10:58,  1.21it/s]"
     ]
    },
    {
     "name": "stdout",
     "output_type": "stream",
     "text": [
      "no response in target query\n"
     ]
    },
    {
     "name": "stderr",
     "output_type": "stream",
     "text": [
      "773it [11:06,  1.22it/s]"
     ]
    },
    {
     "name": "stdout",
     "output_type": "stream",
     "text": [
      "no response in target query\n"
     ]
    },
    {
     "name": "stderr",
     "output_type": "stream",
     "text": [
      "774it [11:07,  1.21it/s]"
     ]
    },
    {
     "name": "stdout",
     "output_type": "stream",
     "text": [
      "no response in target query\n"
     ]
    },
    {
     "name": "stderr",
     "output_type": "stream",
     "text": [
      "823it [11:49,  1.21it/s]"
     ]
    },
    {
     "name": "stdout",
     "output_type": "stream",
     "text": [
      "no response in target query\n"
     ]
    },
    {
     "name": "stderr",
     "output_type": "stream",
     "text": [
      "824it [11:50,  1.21it/s]"
     ]
    },
    {
     "name": "stdout",
     "output_type": "stream",
     "text": [
      "no response in target query\n"
     ]
    },
    {
     "name": "stderr",
     "output_type": "stream",
     "text": [
      "845it [12:08,  1.02it/s]"
     ]
    },
    {
     "name": "stdout",
     "output_type": "stream",
     "text": [
      "no response in target query\n"
     ]
    },
    {
     "name": "stderr",
     "output_type": "stream",
     "text": [
      "846it [12:09,  1.07it/s]"
     ]
    },
    {
     "name": "stdout",
     "output_type": "stream",
     "text": [
      "no response in target query\n"
     ]
    },
    {
     "name": "stderr",
     "output_type": "stream",
     "text": [
      "857it [12:18,  1.20it/s]"
     ]
    },
    {
     "name": "stdout",
     "output_type": "stream",
     "text": [
      "no response in target query\n"
     ]
    },
    {
     "name": "stderr",
     "output_type": "stream",
     "text": [
      "858it [12:19,  1.21it/s]"
     ]
    },
    {
     "name": "stdout",
     "output_type": "stream",
     "text": [
      "no response in target query\n"
     ]
    },
    {
     "name": "stderr",
     "output_type": "stream",
     "text": [
      "860it [12:21,  1.21it/s]"
     ]
    },
    {
     "name": "stdout",
     "output_type": "stream",
     "text": [
      "no response in target query\n"
     ]
    },
    {
     "name": "stderr",
     "output_type": "stream",
     "text": [
      "861it [12:21,  1.22it/s]"
     ]
    },
    {
     "name": "stdout",
     "output_type": "stream",
     "text": [
      "no response in target query\n"
     ]
    },
    {
     "name": "stderr",
     "output_type": "stream",
     "text": [
      "863it [12:23,  1.17it/s]"
     ]
    },
    {
     "name": "stdout",
     "output_type": "stream",
     "text": [
      "no response in target query\n"
     ]
    },
    {
     "name": "stderr",
     "output_type": "stream",
     "text": [
      "864it [12:24,  1.18it/s]"
     ]
    },
    {
     "name": "stdout",
     "output_type": "stream",
     "text": [
      "no response in target query\n"
     ]
    },
    {
     "name": "stderr",
     "output_type": "stream",
     "text": [
      "865it [12:25,  1.20it/s]"
     ]
    },
    {
     "name": "stdout",
     "output_type": "stream",
     "text": [
      "no response in target query\n"
     ]
    },
    {
     "name": "stderr",
     "output_type": "stream",
     "text": [
      "866it [12:26,  1.20it/s]"
     ]
    },
    {
     "name": "stdout",
     "output_type": "stream",
     "text": [
      "no response in target query\n"
     ]
    },
    {
     "name": "stderr",
     "output_type": "stream",
     "text": [
      "871it [12:30,  1.14it/s]"
     ]
    },
    {
     "name": "stdout",
     "output_type": "stream",
     "text": [
      "no response in target query\n"
     ]
    },
    {
     "name": "stderr",
     "output_type": "stream",
     "text": [
      "872it [12:31,  1.15it/s]"
     ]
    },
    {
     "name": "stdout",
     "output_type": "stream",
     "text": [
      "no response in target query\n"
     ]
    },
    {
     "name": "stderr",
     "output_type": "stream",
     "text": [
      "902it [12:56,  1.19it/s]"
     ]
    },
    {
     "name": "stdout",
     "output_type": "stream",
     "text": [
      "no response in target query\n"
     ]
    },
    {
     "name": "stderr",
     "output_type": "stream",
     "text": [
      "903it [12:57,  1.19it/s]"
     ]
    },
    {
     "name": "stdout",
     "output_type": "stream",
     "text": [
      "no response in target query\n"
     ]
    },
    {
     "name": "stderr",
     "output_type": "stream",
     "text": [
      "910it [13:03,  1.21it/s]"
     ]
    },
    {
     "name": "stdout",
     "output_type": "stream",
     "text": [
      "no response in target query\n"
     ]
    },
    {
     "name": "stderr",
     "output_type": "stream",
     "text": [
      "911it [13:04,  1.20it/s]"
     ]
    },
    {
     "name": "stdout",
     "output_type": "stream",
     "text": [
      "no response in target query\n",
      "no response in target query\n"
     ]
    },
    {
     "name": "stderr",
     "output_type": "stream",
     "text": [
      "912it [13:05,  1.21it/s]"
     ]
    },
    {
     "name": "stdout",
     "output_type": "stream",
     "text": [
      "no response in target query\n"
     ]
    },
    {
     "name": "stderr",
     "output_type": "stream",
     "text": [
      "914it [13:06,  1.20it/s]"
     ]
    },
    {
     "name": "stdout",
     "output_type": "stream",
     "text": [
      "no response in target query\n"
     ]
    },
    {
     "name": "stderr",
     "output_type": "stream",
     "text": [
      "915it [13:07,  1.20it/s]"
     ]
    },
    {
     "name": "stdout",
     "output_type": "stream",
     "text": [
      "no response in target query\n"
     ]
    },
    {
     "name": "stderr",
     "output_type": "stream",
     "text": [
      "920it [13:11,  1.22it/s]"
     ]
    },
    {
     "name": "stdout",
     "output_type": "stream",
     "text": [
      "no response in target query\n"
     ]
    },
    {
     "name": "stderr",
     "output_type": "stream",
     "text": [
      "921it [13:12,  1.22it/s]"
     ]
    },
    {
     "name": "stdout",
     "output_type": "stream",
     "text": [
      "no response in target query\n"
     ]
    },
    {
     "name": "stderr",
     "output_type": "stream",
     "text": [
      "931it [13:20,  1.20it/s]"
     ]
    },
    {
     "name": "stdout",
     "output_type": "stream",
     "text": [
      "no response in target query\n"
     ]
    },
    {
     "name": "stderr",
     "output_type": "stream",
     "text": [
      "932it [13:21,  1.19it/s]"
     ]
    },
    {
     "name": "stdout",
     "output_type": "stream",
     "text": [
      "no response in target query\n"
     ]
    },
    {
     "name": "stderr",
     "output_type": "stream",
     "text": [
      "941it [13:28,  1.21it/s]"
     ]
    },
    {
     "name": "stdout",
     "output_type": "stream",
     "text": [
      "no response in target query\n"
     ]
    },
    {
     "name": "stderr",
     "output_type": "stream",
     "text": [
      "942it [13:29,  1.21it/s]"
     ]
    },
    {
     "name": "stdout",
     "output_type": "stream",
     "text": [
      "no response in target query\n"
     ]
    },
    {
     "name": "stderr",
     "output_type": "stream",
     "text": [
      "951it [13:37,  1.21it/s]"
     ]
    },
    {
     "name": "stdout",
     "output_type": "stream",
     "text": [
      "no response in target query\n"
     ]
    },
    {
     "name": "stderr",
     "output_type": "stream",
     "text": [
      "952it [13:38,  1.22it/s]"
     ]
    },
    {
     "name": "stdout",
     "output_type": "stream",
     "text": [
      "no response in target query\n"
     ]
    },
    {
     "name": "stderr",
     "output_type": "stream",
     "text": [
      "953it [13:38,  1.21it/s]"
     ]
    },
    {
     "name": "stdout",
     "output_type": "stream",
     "text": [
      "no response in target query\n"
     ]
    },
    {
     "name": "stderr",
     "output_type": "stream",
     "text": [
      "954it [13:39,  1.21it/s]"
     ]
    },
    {
     "name": "stdout",
     "output_type": "stream",
     "text": [
      "no response in target query\n"
     ]
    },
    {
     "name": "stderr",
     "output_type": "stream",
     "text": [
      "979it [14:00,  1.22it/s]"
     ]
    },
    {
     "name": "stdout",
     "output_type": "stream",
     "text": [
      "no response in target query\n"
     ]
    },
    {
     "name": "stderr",
     "output_type": "stream",
     "text": [
      "980it [14:01,  1.21it/s]"
     ]
    },
    {
     "name": "stdout",
     "output_type": "stream",
     "text": [
      "no response in target query\n",
      "no response in target query\n"
     ]
    },
    {
     "name": "stderr",
     "output_type": "stream",
     "text": [
      "981it [14:02,  1.21it/s]"
     ]
    },
    {
     "name": "stdout",
     "output_type": "stream",
     "text": [
      "no response in target query\n"
     ]
    },
    {
     "name": "stderr",
     "output_type": "stream",
     "text": [
      "997it [14:15,  1.22it/s]"
     ]
    },
    {
     "name": "stdout",
     "output_type": "stream",
     "text": [
      "no response in target query\n"
     ]
    },
    {
     "name": "stderr",
     "output_type": "stream",
     "text": [
      "998it [14:16,  1.22it/s]"
     ]
    },
    {
     "name": "stdout",
     "output_type": "stream",
     "text": [
      "no response in target query\n"
     ]
    },
    {
     "name": "stderr",
     "output_type": "stream",
     "text": [
      "1003it [14:20,  1.16it/s]"
     ]
    },
    {
     "name": "stdout",
     "output_type": "stream",
     "text": [
      "no response in target query\n"
     ]
    },
    {
     "name": "stderr",
     "output_type": "stream",
     "text": [
      "1004it [14:21,  1.17it/s]"
     ]
    },
    {
     "name": "stdout",
     "output_type": "stream",
     "text": [
      "no response in target query\n"
     ]
    },
    {
     "name": "stderr",
     "output_type": "stream",
     "text": [
      "1007it [14:23,  1.20it/s]"
     ]
    },
    {
     "name": "stdout",
     "output_type": "stream",
     "text": [
      "no response in target query\n"
     ]
    },
    {
     "name": "stderr",
     "output_type": "stream",
     "text": [
      "1008it [14:24,  1.19it/s]"
     ]
    },
    {
     "name": "stdout",
     "output_type": "stream",
     "text": [
      "no response in target query\n"
     ]
    },
    {
     "name": "stderr",
     "output_type": "stream",
     "text": [
      "1027it [14:40,  1.17it/s]"
     ]
    },
    {
     "name": "stdout",
     "output_type": "stream",
     "text": [
      "no response in target query\n"
     ]
    },
    {
     "name": "stderr",
     "output_type": "stream",
     "text": [
      "1028it [14:41,  1.19it/s]"
     ]
    },
    {
     "name": "stdout",
     "output_type": "stream",
     "text": [
      "no response in target query\n"
     ]
    },
    {
     "name": "stderr",
     "output_type": "stream",
     "text": [
      "1038it [14:49,  1.14it/s]"
     ]
    },
    {
     "name": "stdout",
     "output_type": "stream",
     "text": [
      "no response in target query\n"
     ]
    },
    {
     "name": "stderr",
     "output_type": "stream",
     "text": [
      "1039it [14:50,  1.16it/s]"
     ]
    },
    {
     "name": "stdout",
     "output_type": "stream",
     "text": [
      "no response in target query\n"
     ]
    },
    {
     "name": "stderr",
     "output_type": "stream",
     "text": [
      "1040it [14:51,  1.10it/s]"
     ]
    },
    {
     "name": "stdout",
     "output_type": "stream",
     "text": [
      "no response in target query\n"
     ]
    },
    {
     "name": "stderr",
     "output_type": "stream",
     "text": [
      "1041it [14:52,  1.13it/s]"
     ]
    },
    {
     "name": "stdout",
     "output_type": "stream",
     "text": [
      "no response in target query\n"
     ]
    },
    {
     "name": "stderr",
     "output_type": "stream",
     "text": [
      "1051it [15:00,  1.21it/s]"
     ]
    },
    {
     "name": "stdout",
     "output_type": "stream",
     "text": [
      "no response in target query\n"
     ]
    },
    {
     "name": "stderr",
     "output_type": "stream",
     "text": [
      "1052it [15:01,  1.21it/s]"
     ]
    },
    {
     "name": "stdout",
     "output_type": "stream",
     "text": [
      "no response in target query\n"
     ]
    },
    {
     "name": "stderr",
     "output_type": "stream",
     "text": [
      "1068it [15:14,  1.21it/s]"
     ]
    },
    {
     "name": "stdout",
     "output_type": "stream",
     "text": [
      "no response in target query\n"
     ]
    },
    {
     "name": "stderr",
     "output_type": "stream",
     "text": [
      "1069it [15:15,  1.21it/s]"
     ]
    },
    {
     "name": "stdout",
     "output_type": "stream",
     "text": [
      "no response in target query\n",
      "no response in target query\n"
     ]
    },
    {
     "name": "stderr",
     "output_type": "stream",
     "text": [
      "1070it [15:16,  1.21it/s]"
     ]
    },
    {
     "name": "stdout",
     "output_type": "stream",
     "text": [
      "no response in target query\n"
     ]
    },
    {
     "name": "stderr",
     "output_type": "stream",
     "text": [
      "1071it [15:17,  1.21it/s]"
     ]
    },
    {
     "name": "stdout",
     "output_type": "stream",
     "text": [
      "no response in target query\n"
     ]
    },
    {
     "name": "stderr",
     "output_type": "stream",
     "text": [
      "1072it [15:18,  1.21it/s]"
     ]
    },
    {
     "name": "stdout",
     "output_type": "stream",
     "text": [
      "no response in target query\n"
     ]
    },
    {
     "name": "stderr",
     "output_type": "stream",
     "text": [
      "1080it [15:24,  1.21it/s]"
     ]
    },
    {
     "name": "stdout",
     "output_type": "stream",
     "text": [
      "no response in target query\n"
     ]
    },
    {
     "name": "stderr",
     "output_type": "stream",
     "text": [
      "1081it [15:25,  1.22it/s]"
     ]
    },
    {
     "name": "stdout",
     "output_type": "stream",
     "text": [
      "no response in target query\n"
     ]
    },
    {
     "name": "stderr",
     "output_type": "stream",
     "text": [
      "1092it [15:34,  1.21it/s]"
     ]
    },
    {
     "name": "stdout",
     "output_type": "stream",
     "text": [
      "no response in target query\n"
     ]
    },
    {
     "name": "stderr",
     "output_type": "stream",
     "text": [
      "1093it [15:35,  1.22it/s]"
     ]
    },
    {
     "name": "stdout",
     "output_type": "stream",
     "text": [
      "no response in target query\n"
     ]
    },
    {
     "name": "stderr",
     "output_type": "stream",
     "text": [
      "1095it [15:37,  1.22it/s]"
     ]
    },
    {
     "name": "stdout",
     "output_type": "stream",
     "text": [
      "no response in target query\n"
     ]
    },
    {
     "name": "stderr",
     "output_type": "stream",
     "text": [
      "1096it [15:38,  1.21it/s]"
     ]
    },
    {
     "name": "stdout",
     "output_type": "stream",
     "text": [
      "no response in target query\n"
     ]
    },
    {
     "name": "stderr",
     "output_type": "stream",
     "text": [
      "1097it [15:38,  1.19it/s]"
     ]
    },
    {
     "name": "stdout",
     "output_type": "stream",
     "text": [
      "no response in target query\n"
     ]
    },
    {
     "name": "stderr",
     "output_type": "stream",
     "text": [
      "1098it [15:39,  1.20it/s]"
     ]
    },
    {
     "name": "stdout",
     "output_type": "stream",
     "text": [
      "no response in target query\n"
     ]
    },
    {
     "name": "stderr",
     "output_type": "stream",
     "text": [
      "1124it [16:01,  1.20it/s]"
     ]
    },
    {
     "name": "stdout",
     "output_type": "stream",
     "text": [
      "no response in target query\n"
     ]
    },
    {
     "name": "stderr",
     "output_type": "stream",
     "text": [
      "1125it [16:02,  1.20it/s]"
     ]
    },
    {
     "name": "stdout",
     "output_type": "stream",
     "text": [
      "no response in target query\n",
      "no response in target query\n"
     ]
    },
    {
     "name": "stderr",
     "output_type": "stream",
     "text": [
      "1126it [16:03,  1.21it/s]"
     ]
    },
    {
     "name": "stdout",
     "output_type": "stream",
     "text": [
      "no response in target query\n"
     ]
    },
    {
     "name": "stderr",
     "output_type": "stream",
     "text": [
      "1127it [16:03,  1.19it/s]"
     ]
    },
    {
     "name": "stdout",
     "output_type": "stream",
     "text": [
      "no response in target query\n"
     ]
    },
    {
     "name": "stderr",
     "output_type": "stream",
     "text": [
      "1128it [16:04,  1.20it/s]"
     ]
    },
    {
     "name": "stdout",
     "output_type": "stream",
     "text": [
      "no response in target query\n"
     ]
    },
    {
     "name": "stderr",
     "output_type": "stream",
     "text": [
      "1144it [16:18,  1.21it/s]"
     ]
    },
    {
     "name": "stdout",
     "output_type": "stream",
     "text": [
      "no response in target query\n"
     ]
    },
    {
     "name": "stderr",
     "output_type": "stream",
     "text": [
      "1145it [16:18,  1.20it/s]"
     ]
    },
    {
     "name": "stdout",
     "output_type": "stream",
     "text": [
      "no response in target query\n"
     ]
    },
    {
     "name": "stderr",
     "output_type": "stream",
     "text": [
      "1168it [16:37,  1.20it/s]"
     ]
    },
    {
     "name": "stdout",
     "output_type": "stream",
     "text": [
      "no response in target query\n"
     ]
    },
    {
     "name": "stderr",
     "output_type": "stream",
     "text": [
      "1169it [16:38,  1.20it/s]"
     ]
    },
    {
     "name": "stdout",
     "output_type": "stream",
     "text": [
      "no response in target query\n"
     ]
    },
    {
     "name": "stderr",
     "output_type": "stream",
     "text": [
      "1173it [16:42,  1.18it/s]"
     ]
    },
    {
     "name": "stdout",
     "output_type": "stream",
     "text": [
      "no response in target query\n"
     ]
    },
    {
     "name": "stderr",
     "output_type": "stream",
     "text": [
      "1174it [16:42,  1.19it/s]"
     ]
    },
    {
     "name": "stdout",
     "output_type": "stream",
     "text": [
      "no response in target query\n"
     ]
    },
    {
     "name": "stderr",
     "output_type": "stream",
     "text": [
      "1187it [16:53,  1.21it/s]"
     ]
    },
    {
     "name": "stdout",
     "output_type": "stream",
     "text": [
      "no response in target query\n"
     ]
    },
    {
     "name": "stderr",
     "output_type": "stream",
     "text": [
      "1188it [16:54,  1.21it/s]"
     ]
    },
    {
     "name": "stdout",
     "output_type": "stream",
     "text": [
      "no response in target query\n"
     ]
    },
    {
     "name": "stderr",
     "output_type": "stream",
     "text": [
      "1193it [16:58,  1.22it/s]"
     ]
    },
    {
     "name": "stdout",
     "output_type": "stream",
     "text": [
      "no response in target query\n"
     ]
    },
    {
     "name": "stderr",
     "output_type": "stream",
     "text": [
      "1194it [16:59,  1.20it/s]"
     ]
    },
    {
     "name": "stdout",
     "output_type": "stream",
     "text": [
      "no response in target query\n",
      "no response in target query\n"
     ]
    },
    {
     "name": "stderr",
     "output_type": "stream",
     "text": [
      "1195it [17:00,  1.20it/s]"
     ]
    },
    {
     "name": "stdout",
     "output_type": "stream",
     "text": [
      "no response in target query\n"
     ]
    },
    {
     "name": "stderr",
     "output_type": "stream",
     "text": [
      "1213it [17:15,  1.15it/s]"
     ]
    },
    {
     "name": "stdout",
     "output_type": "stream",
     "text": [
      "no response in target query\n"
     ]
    },
    {
     "name": "stderr",
     "output_type": "stream",
     "text": [
      "1214it [17:16,  1.17it/s]"
     ]
    },
    {
     "name": "stdout",
     "output_type": "stream",
     "text": [
      "no response in target query\n"
     ]
    },
    {
     "name": "stderr",
     "output_type": "stream",
     "text": [
      "1224it [17:24,  1.20it/s]"
     ]
    },
    {
     "name": "stdout",
     "output_type": "stream",
     "text": [
      "no response in target query\n"
     ]
    },
    {
     "name": "stderr",
     "output_type": "stream",
     "text": [
      "1225it [17:25,  1.21it/s]"
     ]
    },
    {
     "name": "stdout",
     "output_type": "stream",
     "text": [
      "no response in target query\n"
     ]
    },
    {
     "name": "stderr",
     "output_type": "stream",
     "text": [
      "1230it [17:29,  1.21it/s]"
     ]
    },
    {
     "name": "stdout",
     "output_type": "stream",
     "text": [
      "no response in target query\n"
     ]
    },
    {
     "name": "stderr",
     "output_type": "stream",
     "text": [
      "1231it [17:30,  1.20it/s]"
     ]
    },
    {
     "name": "stdout",
     "output_type": "stream",
     "text": [
      "no response in target query\n"
     ]
    },
    {
     "name": "stderr",
     "output_type": "stream",
     "text": [
      "1244it [17:41,  1.20it/s]"
     ]
    },
    {
     "name": "stdout",
     "output_type": "stream",
     "text": [
      "no response in target query\n"
     ]
    },
    {
     "name": "stderr",
     "output_type": "stream",
     "text": [
      "1245it [17:42,  1.20it/s]"
     ]
    },
    {
     "name": "stdout",
     "output_type": "stream",
     "text": [
      "no response in target query\n"
     ]
    },
    {
     "name": "stderr",
     "output_type": "stream",
     "text": [
      "1266it [18:00,  1.19it/s]"
     ]
    },
    {
     "name": "stdout",
     "output_type": "stream",
     "text": [
      "no response in target query\n"
     ]
    },
    {
     "name": "stderr",
     "output_type": "stream",
     "text": [
      "1267it [18:00,  1.19it/s]"
     ]
    },
    {
     "name": "stdout",
     "output_type": "stream",
     "text": [
      "no response in target query\n"
     ]
    },
    {
     "name": "stderr",
     "output_type": "stream",
     "text": [
      "1275it [18:07,  1.20it/s]"
     ]
    },
    {
     "name": "stdout",
     "output_type": "stream",
     "text": [
      "no response in target query\n"
     ]
    },
    {
     "name": "stderr",
     "output_type": "stream",
     "text": [
      "1276it [18:08,  1.20it/s]"
     ]
    },
    {
     "name": "stdout",
     "output_type": "stream",
     "text": [
      "no response in target query\n"
     ]
    },
    {
     "name": "stderr",
     "output_type": "stream",
     "text": [
      "1293it [18:26,  1.31s/it]"
     ]
    },
    {
     "name": "stdout",
     "output_type": "stream",
     "text": [
      "no response in target query\n"
     ]
    },
    {
     "name": "stderr",
     "output_type": "stream",
     "text": [
      "1294it [18:27,  1.16s/it]"
     ]
    },
    {
     "name": "stdout",
     "output_type": "stream",
     "text": [
      "no response in target query\n"
     ]
    },
    {
     "name": "stderr",
     "output_type": "stream",
     "text": [
      "1329it [18:56,  1.21it/s]"
     ]
    },
    {
     "name": "stdout",
     "output_type": "stream",
     "text": [
      "no response in target query\n"
     ]
    },
    {
     "name": "stderr",
     "output_type": "stream",
     "text": [
      "1330it [18:57,  1.21it/s]"
     ]
    },
    {
     "name": "stdout",
     "output_type": "stream",
     "text": [
      "no response in target query\n"
     ]
    },
    {
     "name": "stderr",
     "output_type": "stream",
     "text": [
      "1341it [19:06,  1.21it/s]"
     ]
    },
    {
     "name": "stdout",
     "output_type": "stream",
     "text": [
      "no response in target query\n"
     ]
    },
    {
     "name": "stderr",
     "output_type": "stream",
     "text": [
      "1342it [19:07,  1.20it/s]"
     ]
    },
    {
     "name": "stdout",
     "output_type": "stream",
     "text": [
      "no response in target query\n",
      "no response in target query\n"
     ]
    },
    {
     "name": "stderr",
     "output_type": "stream",
     "text": [
      "1343it [19:08,  1.20it/s]"
     ]
    },
    {
     "name": "stdout",
     "output_type": "stream",
     "text": [
      "no response in target query\n"
     ]
    },
    {
     "name": "stderr",
     "output_type": "stream",
     "text": [
      "1370it [19:30,  1.22it/s]"
     ]
    },
    {
     "name": "stdout",
     "output_type": "stream",
     "text": [
      "no response in target query\n"
     ]
    },
    {
     "name": "stderr",
     "output_type": "stream",
     "text": [
      "1371it [19:31,  1.22it/s]"
     ]
    },
    {
     "name": "stdout",
     "output_type": "stream",
     "text": [
      "no response in target query\n"
     ]
    },
    {
     "name": "stderr",
     "output_type": "stream",
     "text": [
      "1373it [19:33,  1.21it/s]"
     ]
    },
    {
     "name": "stdout",
     "output_type": "stream",
     "text": [
      "no response in target query\n"
     ]
    },
    {
     "name": "stderr",
     "output_type": "stream",
     "text": [
      "1374it [19:33,  1.21it/s]"
     ]
    },
    {
     "name": "stdout",
     "output_type": "stream",
     "text": [
      "no response in target query\n"
     ]
    },
    {
     "name": "stderr",
     "output_type": "stream",
     "text": [
      "1377it [19:36,  1.18it/s]"
     ]
    },
    {
     "name": "stdout",
     "output_type": "stream",
     "text": [
      "no response in target query\n"
     ]
    },
    {
     "name": "stderr",
     "output_type": "stream",
     "text": [
      "1378it [19:37,  1.18it/s]"
     ]
    },
    {
     "name": "stdout",
     "output_type": "stream",
     "text": [
      "no response in target query\n"
     ]
    },
    {
     "name": "stderr",
     "output_type": "stream",
     "text": [
      "1491it [21:12,  1.21it/s]"
     ]
    },
    {
     "name": "stdout",
     "output_type": "stream",
     "text": [
      "no response in target query\n"
     ]
    },
    {
     "name": "stderr",
     "output_type": "stream",
     "text": [
      "1492it [21:13,  1.21it/s]"
     ]
    },
    {
     "name": "stdout",
     "output_type": "stream",
     "text": [
      "no response in target query\n"
     ]
    },
    {
     "name": "stderr",
     "output_type": "stream",
     "text": [
      "1498it [21:18,  1.20it/s]"
     ]
    },
    {
     "name": "stdout",
     "output_type": "stream",
     "text": [
      "no response in target query\n"
     ]
    },
    {
     "name": "stderr",
     "output_type": "stream",
     "text": [
      "1499it [21:19,  1.20it/s]"
     ]
    },
    {
     "name": "stdout",
     "output_type": "stream",
     "text": [
      "no response in target query\n"
     ]
    },
    {
     "name": "stderr",
     "output_type": "stream",
     "text": [
      "1502it [21:21,  1.19it/s]"
     ]
    },
    {
     "name": "stdout",
     "output_type": "stream",
     "text": [
      "no response in target query\n"
     ]
    },
    {
     "name": "stderr",
     "output_type": "stream",
     "text": [
      "1503it [21:22,  1.20it/s]"
     ]
    },
    {
     "name": "stdout",
     "output_type": "stream",
     "text": [
      "no response in target query\n"
     ]
    },
    {
     "name": "stderr",
     "output_type": "stream",
     "text": [
      "1511it [21:29,  1.21it/s]"
     ]
    },
    {
     "name": "stdout",
     "output_type": "stream",
     "text": [
      "no response in target query\n"
     ]
    },
    {
     "name": "stderr",
     "output_type": "stream",
     "text": [
      "1512it [21:30,  1.21it/s]"
     ]
    },
    {
     "name": "stdout",
     "output_type": "stream",
     "text": [
      "no response in target query\n"
     ]
    },
    {
     "name": "stderr",
     "output_type": "stream",
     "text": [
      "1530it [21:46,  1.04it/s]"
     ]
    },
    {
     "name": "stdout",
     "output_type": "stream",
     "text": [
      "no response in target query\n"
     ]
    },
    {
     "name": "stderr",
     "output_type": "stream",
     "text": [
      "1531it [21:47,  1.06it/s]"
     ]
    },
    {
     "name": "stdout",
     "output_type": "stream",
     "text": [
      "no response in target query\n"
     ]
    },
    {
     "name": "stderr",
     "output_type": "stream",
     "text": [
      "1553it [22:06,  1.20it/s]"
     ]
    },
    {
     "name": "stdout",
     "output_type": "stream",
     "text": [
      "no response in target query\n"
     ]
    },
    {
     "name": "stderr",
     "output_type": "stream",
     "text": [
      "1554it [22:07,  1.19it/s]"
     ]
    },
    {
     "name": "stdout",
     "output_type": "stream",
     "text": [
      "no response in target query\n"
     ]
    },
    {
     "name": "stderr",
     "output_type": "stream",
     "text": [
      "1578it [22:27,  1.20it/s]"
     ]
    },
    {
     "name": "stdout",
     "output_type": "stream",
     "text": [
      "no response in target query\n"
     ]
    },
    {
     "name": "stderr",
     "output_type": "stream",
     "text": [
      "1579it [22:27,  1.21it/s]"
     ]
    },
    {
     "name": "stdout",
     "output_type": "stream",
     "text": [
      "no response in target query\n"
     ]
    },
    {
     "name": "stderr",
     "output_type": "stream",
     "text": [
      "1603it [22:48,  1.20it/s]"
     ]
    },
    {
     "name": "stdout",
     "output_type": "stream",
     "text": [
      "no response in target query\n"
     ]
    },
    {
     "name": "stderr",
     "output_type": "stream",
     "text": [
      "1604it [22:49,  1.20it/s]"
     ]
    },
    {
     "name": "stdout",
     "output_type": "stream",
     "text": [
      "no response in target query\n",
      "no response in target query\n"
     ]
    },
    {
     "name": "stderr",
     "output_type": "stream",
     "text": [
      "1605it [22:49,  1.20it/s]"
     ]
    },
    {
     "name": "stdout",
     "output_type": "stream",
     "text": [
      "no response in target query\n"
     ]
    },
    {
     "name": "stderr",
     "output_type": "stream",
     "text": [
      "1607it [22:51,  1.21it/s]"
     ]
    },
    {
     "name": "stdout",
     "output_type": "stream",
     "text": [
      "no response in target query\n"
     ]
    },
    {
     "name": "stderr",
     "output_type": "stream",
     "text": [
      "1608it [22:52,  1.20it/s]"
     ]
    },
    {
     "name": "stdout",
     "output_type": "stream",
     "text": [
      "no response in target query\n"
     ]
    },
    {
     "name": "stderr",
     "output_type": "stream",
     "text": [
      "1622it [23:05,  1.14it/s]"
     ]
    },
    {
     "name": "stdout",
     "output_type": "stream",
     "text": [
      "no response in target query\n"
     ]
    },
    {
     "name": "stderr",
     "output_type": "stream",
     "text": [
      "1623it [23:05,  1.16it/s]"
     ]
    },
    {
     "name": "stdout",
     "output_type": "stream",
     "text": [
      "no response in target query\n"
     ]
    },
    {
     "name": "stderr",
     "output_type": "stream",
     "text": [
      "1628it [23:10,  1.20it/s]"
     ]
    },
    {
     "name": "stdout",
     "output_type": "stream",
     "text": [
      "no response in target query\n"
     ]
    },
    {
     "name": "stderr",
     "output_type": "stream",
     "text": [
      "1629it [23:10,  1.21it/s]"
     ]
    },
    {
     "name": "stdout",
     "output_type": "stream",
     "text": [
      "no response in target query\n"
     ]
    },
    {
     "name": "stderr",
     "output_type": "stream",
     "text": [
      "1637it [23:17,  1.19it/s]"
     ]
    },
    {
     "name": "stdout",
     "output_type": "stream",
     "text": [
      "no response in target query\n"
     ]
    },
    {
     "name": "stderr",
     "output_type": "stream",
     "text": [
      "1638it [23:18,  1.21it/s]"
     ]
    },
    {
     "name": "stdout",
     "output_type": "stream",
     "text": [
      "no response in target query\n"
     ]
    },
    {
     "name": "stderr",
     "output_type": "stream",
     "text": [
      "1646it [23:24,  1.21it/s]"
     ]
    },
    {
     "name": "stdout",
     "output_type": "stream",
     "text": [
      "no response in target query\n"
     ]
    },
    {
     "name": "stderr",
     "output_type": "stream",
     "text": [
      "1647it [23:25,  1.21it/s]"
     ]
    },
    {
     "name": "stdout",
     "output_type": "stream",
     "text": [
      "no response in target query\n"
     ]
    },
    {
     "name": "stderr",
     "output_type": "stream",
     "text": [
      "1682it [23:59,  1.26s/it]"
     ]
    },
    {
     "name": "stdout",
     "output_type": "stream",
     "text": [
      "no response in target query\n"
     ]
    },
    {
     "name": "stderr",
     "output_type": "stream",
     "text": [
      "1683it [24:00,  1.12s/it]"
     ]
    },
    {
     "name": "stdout",
     "output_type": "stream",
     "text": [
      "no response in target query\n"
     ]
    },
    {
     "name": "stderr",
     "output_type": "stream",
     "text": [
      "1719it [24:30,  1.21it/s]"
     ]
    },
    {
     "name": "stdout",
     "output_type": "stream",
     "text": [
      "no response in target query\n"
     ]
    },
    {
     "name": "stderr",
     "output_type": "stream",
     "text": [
      "1720it [24:31,  1.20it/s]"
     ]
    },
    {
     "name": "stdout",
     "output_type": "stream",
     "text": [
      "no response in target query\n"
     ]
    },
    {
     "name": "stderr",
     "output_type": "stream",
     "text": [
      "1728it [24:38,  1.21it/s]"
     ]
    },
    {
     "name": "stdout",
     "output_type": "stream",
     "text": [
      "no response in target query\n"
     ]
    },
    {
     "name": "stderr",
     "output_type": "stream",
     "text": [
      "1729it [24:39,  1.20it/s]"
     ]
    },
    {
     "name": "stdout",
     "output_type": "stream",
     "text": [
      "no response in target query\n"
     ]
    },
    {
     "name": "stderr",
     "output_type": "stream",
     "text": [
      "1730it [24:40,  1.21it/s]"
     ]
    },
    {
     "name": "stdout",
     "output_type": "stream",
     "text": [
      "no response in target query\n"
     ]
    },
    {
     "name": "stderr",
     "output_type": "stream",
     "text": [
      "1732it [24:41,  1.21it/s]"
     ]
    },
    {
     "name": "stdout",
     "output_type": "stream",
     "text": [
      "no response in target query\n"
     ]
    },
    {
     "name": "stderr",
     "output_type": "stream",
     "text": [
      "1733it [24:42,  1.19it/s]"
     ]
    },
    {
     "name": "stdout",
     "output_type": "stream",
     "text": [
      "no response in target query\n",
      "no response in target query\n"
     ]
    },
    {
     "name": "stderr",
     "output_type": "stream",
     "text": [
      "1734it [24:43,  1.20it/s]"
     ]
    },
    {
     "name": "stdout",
     "output_type": "stream",
     "text": [
      "no response in target query\n"
     ]
    },
    {
     "name": "stderr",
     "output_type": "stream",
     "text": [
      "1758it [25:03,  1.21it/s]"
     ]
    },
    {
     "name": "stdout",
     "output_type": "stream",
     "text": [
      "no response in target query\n"
     ]
    },
    {
     "name": "stderr",
     "output_type": "stream",
     "text": [
      "1759it [25:04,  1.20it/s]"
     ]
    },
    {
     "name": "stdout",
     "output_type": "stream",
     "text": [
      "no response in target query\n",
      "no response in target query\n"
     ]
    },
    {
     "name": "stderr",
     "output_type": "stream",
     "text": [
      "1760it [25:04,  1.21it/s]"
     ]
    },
    {
     "name": "stdout",
     "output_type": "stream",
     "text": [
      "no response in target query\n"
     ]
    },
    {
     "name": "stderr",
     "output_type": "stream",
     "text": [
      "1785it [25:28,  1.16it/s]"
     ]
    },
    {
     "name": "stdout",
     "output_type": "stream",
     "text": [
      "no response in target query\n"
     ]
    },
    {
     "name": "stderr",
     "output_type": "stream",
     "text": [
      "1786it [25:29,  1.18it/s]"
     ]
    },
    {
     "name": "stdout",
     "output_type": "stream",
     "text": [
      "no response in target query\n",
      "no response in target query\n"
     ]
    },
    {
     "name": "stderr",
     "output_type": "stream",
     "text": [
      "1787it [25:30,  1.18it/s]"
     ]
    },
    {
     "name": "stdout",
     "output_type": "stream",
     "text": [
      "no response in target query\n"
     ]
    },
    {
     "name": "stderr",
     "output_type": "stream",
     "text": [
      "1788it [25:31,  1.20it/s]"
     ]
    },
    {
     "name": "stdout",
     "output_type": "stream",
     "text": [
      "no response in target query\n"
     ]
    },
    {
     "name": "stderr",
     "output_type": "stream",
     "text": [
      "1789it [25:32,  1.20it/s]"
     ]
    },
    {
     "name": "stdout",
     "output_type": "stream",
     "text": [
      "no response in target query\n"
     ]
    },
    {
     "name": "stderr",
     "output_type": "stream",
     "text": [
      "1806it [25:46,  1.21it/s]"
     ]
    },
    {
     "name": "stdout",
     "output_type": "stream",
     "text": [
      "no response in target query\n"
     ]
    },
    {
     "name": "stderr",
     "output_type": "stream",
     "text": [
      "1807it [25:46,  1.21it/s]"
     ]
    },
    {
     "name": "stdout",
     "output_type": "stream",
     "text": [
      "no response in target query\n"
     ]
    },
    {
     "name": "stderr",
     "output_type": "stream",
     "text": [
      "1814it [25:52,  1.20it/s]"
     ]
    },
    {
     "name": "stdout",
     "output_type": "stream",
     "text": [
      "no response in target query\n"
     ]
    },
    {
     "name": "stderr",
     "output_type": "stream",
     "text": [
      "1815it [25:53,  1.21it/s]"
     ]
    },
    {
     "name": "stdout",
     "output_type": "stream",
     "text": [
      "no response in target query\n"
     ]
    },
    {
     "name": "stderr",
     "output_type": "stream",
     "text": [
      "1847it [26:20,  1.20it/s]"
     ]
    },
    {
     "name": "stdout",
     "output_type": "stream",
     "text": [
      "no response in target query\n"
     ]
    },
    {
     "name": "stderr",
     "output_type": "stream",
     "text": [
      "1848it [26:21,  1.20it/s]"
     ]
    },
    {
     "name": "stdout",
     "output_type": "stream",
     "text": [
      "no response in target query\n"
     ]
    },
    {
     "name": "stderr",
     "output_type": "stream",
     "text": [
      "1851it [26:23,  1.19it/s]"
     ]
    },
    {
     "name": "stdout",
     "output_type": "stream",
     "text": [
      "no response in target query\n"
     ]
    },
    {
     "name": "stderr",
     "output_type": "stream",
     "text": [
      "1852it [26:24,  1.19it/s]"
     ]
    },
    {
     "name": "stdout",
     "output_type": "stream",
     "text": [
      "no response in target query\n"
     ]
    },
    {
     "name": "stderr",
     "output_type": "stream",
     "text": [
      "1855it [26:27,  1.17it/s]"
     ]
    },
    {
     "name": "stdout",
     "output_type": "stream",
     "text": [
      "no response in target query\n"
     ]
    },
    {
     "name": "stderr",
     "output_type": "stream",
     "text": [
      "1856it [26:28,  1.18it/s]"
     ]
    },
    {
     "name": "stdout",
     "output_type": "stream",
     "text": [
      "no response in target query\n"
     ]
    },
    {
     "name": "stderr",
     "output_type": "stream",
     "text": [
      "1865it [26:35,  1.20it/s]"
     ]
    },
    {
     "name": "stdout",
     "output_type": "stream",
     "text": [
      "no response in target query\n"
     ]
    },
    {
     "name": "stderr",
     "output_type": "stream",
     "text": [
      "1866it [26:36,  1.21it/s]"
     ]
    },
    {
     "name": "stdout",
     "output_type": "stream",
     "text": [
      "no response in target query\n"
     ]
    },
    {
     "name": "stderr",
     "output_type": "stream",
     "text": [
      "1871it [26:40,  1.21it/s]"
     ]
    },
    {
     "name": "stdout",
     "output_type": "stream",
     "text": [
      "no response in target query\n"
     ]
    },
    {
     "name": "stderr",
     "output_type": "stream",
     "text": [
      "1872it [26:41,  1.21it/s]"
     ]
    },
    {
     "name": "stdout",
     "output_type": "stream",
     "text": [
      "no response in target query\n"
     ]
    },
    {
     "name": "stderr",
     "output_type": "stream",
     "text": [
      "1873it [26:42,  1.21it/s]"
     ]
    },
    {
     "name": "stdout",
     "output_type": "stream",
     "text": [
      "no response in target query\n"
     ]
    },
    {
     "name": "stderr",
     "output_type": "stream",
     "text": [
      "1874it [26:43,  1.21it/s]"
     ]
    },
    {
     "name": "stdout",
     "output_type": "stream",
     "text": [
      "no response in target query\n"
     ]
    },
    {
     "name": "stderr",
     "output_type": "stream",
     "text": [
      "1895it [27:00,  1.21it/s]"
     ]
    },
    {
     "name": "stdout",
     "output_type": "stream",
     "text": [
      "no response in target query\n"
     ]
    },
    {
     "name": "stderr",
     "output_type": "stream",
     "text": [
      "1896it [27:01,  1.21it/s]"
     ]
    },
    {
     "name": "stdout",
     "output_type": "stream",
     "text": [
      "no response in target query\n"
     ]
    },
    {
     "name": "stderr",
     "output_type": "stream",
     "text": [
      "1907it [27:10,  1.10it/s]"
     ]
    },
    {
     "name": "stdout",
     "output_type": "stream",
     "text": [
      "no response in target query\n"
     ]
    },
    {
     "name": "stderr",
     "output_type": "stream",
     "text": [
      "1908it [27:11,  1.14it/s]"
     ]
    },
    {
     "name": "stdout",
     "output_type": "stream",
     "text": [
      "no response in target query\n"
     ]
    },
    {
     "name": "stderr",
     "output_type": "stream",
     "text": [
      "1922it [27:23,  1.21it/s]"
     ]
    },
    {
     "name": "stdout",
     "output_type": "stream",
     "text": [
      "no response in target query\n"
     ]
    },
    {
     "name": "stderr",
     "output_type": "stream",
     "text": [
      "1923it [27:24,  1.22it/s]"
     ]
    },
    {
     "name": "stdout",
     "output_type": "stream",
     "text": [
      "no response in target query\n"
     ]
    },
    {
     "name": "stderr",
     "output_type": "stream",
     "text": [
      "1935it [27:34,  1.21it/s]"
     ]
    },
    {
     "name": "stdout",
     "output_type": "stream",
     "text": [
      "no response in target query\n"
     ]
    },
    {
     "name": "stderr",
     "output_type": "stream",
     "text": [
      "1936it [27:34,  1.21it/s]"
     ]
    },
    {
     "name": "stdout",
     "output_type": "stream",
     "text": [
      "no response in target query\n"
     ]
    },
    {
     "name": "stderr",
     "output_type": "stream",
     "text": [
      "1948it [27:44,  1.20it/s]"
     ]
    },
    {
     "name": "stdout",
     "output_type": "stream",
     "text": [
      "no response in target query\n"
     ]
    },
    {
     "name": "stderr",
     "output_type": "stream",
     "text": [
      "1949it [27:45,  1.20it/s]"
     ]
    },
    {
     "name": "stdout",
     "output_type": "stream",
     "text": [
      "no response in target query\n"
     ]
    },
    {
     "name": "stderr",
     "output_type": "stream",
     "text": [
      "1965it [27:58,  1.21it/s]"
     ]
    },
    {
     "name": "stdout",
     "output_type": "stream",
     "text": [
      "no response in target query\n"
     ]
    },
    {
     "name": "stderr",
     "output_type": "stream",
     "text": [
      "1966it [27:59,  1.22it/s]"
     ]
    },
    {
     "name": "stdout",
     "output_type": "stream",
     "text": [
      "no response in target query\n"
     ]
    },
    {
     "name": "stderr",
     "output_type": "stream",
     "text": [
      "1970it [28:02,  1.23it/s]"
     ]
    },
    {
     "name": "stdout",
     "output_type": "stream",
     "text": [
      "no response in target query\n"
     ]
    },
    {
     "name": "stderr",
     "output_type": "stream",
     "text": [
      "1971it [28:03,  1.23it/s]"
     ]
    },
    {
     "name": "stdout",
     "output_type": "stream",
     "text": [
      "no response in target query\n"
     ]
    },
    {
     "name": "stderr",
     "output_type": "stream",
     "text": [
      "1979it [28:10,  1.20it/s]"
     ]
    },
    {
     "name": "stdout",
     "output_type": "stream",
     "text": [
      "no response in target query\n"
     ]
    },
    {
     "name": "stderr",
     "output_type": "stream",
     "text": [
      "1996it [28:24,  1.20it/s]"
     ]
    },
    {
     "name": "stdout",
     "output_type": "stream",
     "text": [
      "no response in target query\n"
     ]
    },
    {
     "name": "stderr",
     "output_type": "stream",
     "text": [
      "1997it [28:25,  1.21it/s]"
     ]
    },
    {
     "name": "stdout",
     "output_type": "stream",
     "text": [
      "no response in target query\n"
     ]
    },
    {
     "name": "stderr",
     "output_type": "stream",
     "text": [
      "2005it [28:32,  1.19it/s]"
     ]
    },
    {
     "name": "stdout",
     "output_type": "stream",
     "text": [
      "no response in target query\n"
     ]
    },
    {
     "name": "stderr",
     "output_type": "stream",
     "text": [
      "2006it [28:32,  1.19it/s]"
     ]
    },
    {
     "name": "stdout",
     "output_type": "stream",
     "text": [
      "no response in target query\n"
     ]
    },
    {
     "name": "stderr",
     "output_type": "stream",
     "text": [
      "2023it [28:47,  1.21it/s]"
     ]
    },
    {
     "name": "stdout",
     "output_type": "stream",
     "text": [
      "no response in target query\n"
     ]
    },
    {
     "name": "stderr",
     "output_type": "stream",
     "text": [
      "2024it [28:47,  1.21it/s]"
     ]
    },
    {
     "name": "stdout",
     "output_type": "stream",
     "text": [
      "no response in target query\n"
     ]
    },
    {
     "name": "stderr",
     "output_type": "stream",
     "text": [
      "2048it [29:08,  1.16it/s]"
     ]
    },
    {
     "name": "stdout",
     "output_type": "stream",
     "text": [
      "no response in target query\n"
     ]
    },
    {
     "name": "stderr",
     "output_type": "stream",
     "text": [
      "2049it [29:09,  1.18it/s]"
     ]
    },
    {
     "name": "stdout",
     "output_type": "stream",
     "text": [
      "no response in target query\n"
     ]
    },
    {
     "name": "stderr",
     "output_type": "stream",
     "text": [
      "2054it [29:13,  1.21it/s]"
     ]
    },
    {
     "name": "stdout",
     "output_type": "stream",
     "text": [
      "no response in target query\n"
     ]
    },
    {
     "name": "stderr",
     "output_type": "stream",
     "text": [
      "2055it [29:14,  1.21it/s]"
     ]
    },
    {
     "name": "stdout",
     "output_type": "stream",
     "text": [
      "no response in target query\n"
     ]
    },
    {
     "name": "stderr",
     "output_type": "stream",
     "text": [
      "2057it [29:16,  1.21it/s]"
     ]
    },
    {
     "name": "stdout",
     "output_type": "stream",
     "text": [
      "no response in target query\n"
     ]
    },
    {
     "name": "stderr",
     "output_type": "stream",
     "text": [
      "2058it [29:16,  1.21it/s]"
     ]
    },
    {
     "name": "stdout",
     "output_type": "stream",
     "text": [
      "no response in target query\n"
     ]
    },
    {
     "name": "stderr",
     "output_type": "stream",
     "text": [
      "2084it [29:38,  1.22it/s]"
     ]
    },
    {
     "name": "stdout",
     "output_type": "stream",
     "text": [
      "no response in target query\n"
     ]
    },
    {
     "name": "stderr",
     "output_type": "stream",
     "text": [
      "2085it [29:39,  1.22it/s]"
     ]
    },
    {
     "name": "stdout",
     "output_type": "stream",
     "text": [
      "no response in target query\n"
     ]
    },
    {
     "name": "stderr",
     "output_type": "stream",
     "text": [
      "2134it [30:20,  1.20it/s]"
     ]
    },
    {
     "name": "stdout",
     "output_type": "stream",
     "text": [
      "no response in target query\n"
     ]
    },
    {
     "name": "stderr",
     "output_type": "stream",
     "text": [
      "2135it [30:21,  1.20it/s]"
     ]
    },
    {
     "name": "stdout",
     "output_type": "stream",
     "text": [
      "no response in target query\n"
     ]
    },
    {
     "name": "stderr",
     "output_type": "stream",
     "text": [
      "2148it [30:34,  1.06s/it]"
     ]
    },
    {
     "name": "stdout",
     "output_type": "stream",
     "text": [
      "no response in target query\n"
     ]
    },
    {
     "name": "stderr",
     "output_type": "stream",
     "text": [
      "2151it [30:36,  1.11it/s]"
     ]
    },
    {
     "name": "stdout",
     "output_type": "stream",
     "text": [
      "no response in target query\n"
     ]
    },
    {
     "name": "stderr",
     "output_type": "stream",
     "text": [
      "2152it [30:37,  1.15it/s]"
     ]
    },
    {
     "name": "stdout",
     "output_type": "stream",
     "text": [
      "no response in target query\n"
     ]
    },
    {
     "name": "stderr",
     "output_type": "stream",
     "text": [
      "2157it [30:41,  1.19it/s]"
     ]
    },
    {
     "name": "stdout",
     "output_type": "stream",
     "text": [
      "no response in target query\n"
     ]
    },
    {
     "name": "stderr",
     "output_type": "stream",
     "text": [
      "2158it [30:42,  1.19it/s]"
     ]
    },
    {
     "name": "stdout",
     "output_type": "stream",
     "text": [
      "no response in target query\n"
     ]
    },
    {
     "name": "stderr",
     "output_type": "stream",
     "text": [
      "2187it [31:06,  1.19it/s]"
     ]
    },
    {
     "name": "stdout",
     "output_type": "stream",
     "text": [
      "no response in target query\n"
     ]
    },
    {
     "name": "stderr",
     "output_type": "stream",
     "text": [
      "2188it [31:07,  1.19it/s]"
     ]
    },
    {
     "name": "stdout",
     "output_type": "stream",
     "text": [
      "no response in target query\n"
     ]
    },
    {
     "name": "stderr",
     "output_type": "stream",
     "text": [
      "2189it [31:08,  1.19it/s]"
     ]
    },
    {
     "name": "stdout",
     "output_type": "stream",
     "text": [
      "no response in target query\n"
     ]
    },
    {
     "name": "stderr",
     "output_type": "stream",
     "text": [
      "2190it [31:09,  1.20it/s]"
     ]
    },
    {
     "name": "stdout",
     "output_type": "stream",
     "text": [
      "no response in target query\n"
     ]
    },
    {
     "name": "stderr",
     "output_type": "stream",
     "text": [
      "2206it [31:22,  1.20it/s]"
     ]
    },
    {
     "name": "stdout",
     "output_type": "stream",
     "text": [
      "no response in target query\n"
     ]
    },
    {
     "name": "stderr",
     "output_type": "stream",
     "text": [
      "2207it [31:23,  1.21it/s]"
     ]
    },
    {
     "name": "stdout",
     "output_type": "stream",
     "text": [
      "no response in target query\n"
     ]
    },
    {
     "name": "stderr",
     "output_type": "stream",
     "text": [
      "2212it [31:27,  1.22it/s]"
     ]
    },
    {
     "name": "stdout",
     "output_type": "stream",
     "text": [
      "no response in target query\n"
     ]
    },
    {
     "name": "stderr",
     "output_type": "stream",
     "text": [
      "2258it [32:05,  1.20it/s]"
     ]
    },
    {
     "name": "stdout",
     "output_type": "stream",
     "text": [
      "no response in target query\n"
     ]
    },
    {
     "name": "stderr",
     "output_type": "stream",
     "text": [
      "2259it [32:06,  1.21it/s]"
     ]
    },
    {
     "name": "stdout",
     "output_type": "stream",
     "text": [
      "no response in target query\n"
     ]
    },
    {
     "name": "stderr",
     "output_type": "stream",
     "text": [
      "2262it [32:08,  1.18it/s]"
     ]
    },
    {
     "name": "stdout",
     "output_type": "stream",
     "text": [
      "no response in target query\n"
     ]
    },
    {
     "name": "stderr",
     "output_type": "stream",
     "text": [
      "2274it [32:18,  1.21it/s]"
     ]
    },
    {
     "name": "stdout",
     "output_type": "stream",
     "text": [
      "no response in target query\n"
     ]
    },
    {
     "name": "stderr",
     "output_type": "stream",
     "text": [
      "2275it [32:19,  1.21it/s]"
     ]
    },
    {
     "name": "stdout",
     "output_type": "stream",
     "text": [
      "no response in target query\n"
     ]
    },
    {
     "name": "stderr",
     "output_type": "stream",
     "text": [
      "2291it [32:32,  1.21it/s]"
     ]
    },
    {
     "name": "stdout",
     "output_type": "stream",
     "text": [
      "no response in target query\n"
     ]
    },
    {
     "name": "stderr",
     "output_type": "stream",
     "text": [
      "2292it [32:33,  1.21it/s]"
     ]
    },
    {
     "name": "stdout",
     "output_type": "stream",
     "text": [
      "no response in target query\n"
     ]
    },
    {
     "name": "stderr",
     "output_type": "stream",
     "text": [
      "2303it [32:45,  1.19it/s]"
     ]
    },
    {
     "name": "stdout",
     "output_type": "stream",
     "text": [
      "no response in target query\n"
     ]
    },
    {
     "name": "stderr",
     "output_type": "stream",
     "text": [
      "2304it [32:46,  1.19it/s]"
     ]
    },
    {
     "name": "stdout",
     "output_type": "stream",
     "text": [
      "no response in target query\n"
     ]
    },
    {
     "name": "stderr",
     "output_type": "stream",
     "text": [
      "2307it [32:49,  1.21it/s]"
     ]
    },
    {
     "name": "stdout",
     "output_type": "stream",
     "text": [
      "no response in target query\n"
     ]
    },
    {
     "name": "stderr",
     "output_type": "stream",
     "text": [
      "2308it [32:49,  1.20it/s]"
     ]
    },
    {
     "name": "stdout",
     "output_type": "stream",
     "text": [
      "no response in target query\n"
     ]
    },
    {
     "name": "stderr",
     "output_type": "stream",
     "text": [
      "2324it [33:03,  1.22it/s]"
     ]
    },
    {
     "name": "stdout",
     "output_type": "stream",
     "text": [
      "no response in target query\n"
     ]
    },
    {
     "name": "stderr",
     "output_type": "stream",
     "text": [
      "2325it [33:04,  1.22it/s]"
     ]
    },
    {
     "name": "stdout",
     "output_type": "stream",
     "text": [
      "no response in target query\n"
     ]
    },
    {
     "name": "stderr",
     "output_type": "stream",
     "text": [
      "2337it [33:13,  1.21it/s]"
     ]
    },
    {
     "name": "stdout",
     "output_type": "stream",
     "text": [
      "no response in target query\n"
     ]
    },
    {
     "name": "stderr",
     "output_type": "stream",
     "text": [
      "2338it [33:14,  1.21it/s]"
     ]
    },
    {
     "name": "stdout",
     "output_type": "stream",
     "text": [
      "no response in target query\n"
     ]
    },
    {
     "name": "stderr",
     "output_type": "stream",
     "text": [
      "2339it [33:15,  1.21it/s]"
     ]
    },
    {
     "name": "stdout",
     "output_type": "stream",
     "text": [
      "no response in target query\n"
     ]
    },
    {
     "name": "stderr",
     "output_type": "stream",
     "text": [
      "2340it [33:16,  1.20it/s]"
     ]
    },
    {
     "name": "stdout",
     "output_type": "stream",
     "text": [
      "no response in target query\n"
     ]
    },
    {
     "name": "stderr",
     "output_type": "stream",
     "text": [
      "2344it [33:19,  1.20it/s]"
     ]
    },
    {
     "name": "stdout",
     "output_type": "stream",
     "text": [
      "no response in target query\n"
     ]
    },
    {
     "name": "stderr",
     "output_type": "stream",
     "text": [
      "2345it [33:20,  1.21it/s]"
     ]
    },
    {
     "name": "stdout",
     "output_type": "stream",
     "text": [
      "no response in target query\n"
     ]
    },
    {
     "name": "stderr",
     "output_type": "stream",
     "text": [
      "2371it [33:42,  1.21it/s]"
     ]
    },
    {
     "name": "stdout",
     "output_type": "stream",
     "text": [
      "no response in target query\n"
     ]
    },
    {
     "name": "stderr",
     "output_type": "stream",
     "text": [
      "2372it [33:43,  1.21it/s]"
     ]
    },
    {
     "name": "stdout",
     "output_type": "stream",
     "text": [
      "no response in target query\n"
     ]
    },
    {
     "name": "stderr",
     "output_type": "stream",
     "text": [
      "2376it [33:46,  1.21it/s]"
     ]
    },
    {
     "name": "stdout",
     "output_type": "stream",
     "text": [
      "no response in target query\n"
     ]
    },
    {
     "name": "stderr",
     "output_type": "stream",
     "text": [
      "2377it [33:47,  1.20it/s]"
     ]
    },
    {
     "name": "stdout",
     "output_type": "stream",
     "text": [
      "no response in target query\n"
     ]
    },
    {
     "name": "stderr",
     "output_type": "stream",
     "text": [
      "2383it [33:52,  1.22it/s]"
     ]
    },
    {
     "name": "stdout",
     "output_type": "stream",
     "text": [
      "no response in target query\n"
     ]
    },
    {
     "name": "stderr",
     "output_type": "stream",
     "text": [
      "2384it [33:52,  1.22it/s]"
     ]
    },
    {
     "name": "stdout",
     "output_type": "stream",
     "text": [
      "no response in target query\n"
     ]
    },
    {
     "name": "stderr",
     "output_type": "stream",
     "text": [
      "2389it [33:57,  1.21it/s]"
     ]
    },
    {
     "name": "stdout",
     "output_type": "stream",
     "text": [
      "no response in target query\n"
     ]
    },
    {
     "name": "stderr",
     "output_type": "stream",
     "text": [
      "2390it [33:57,  1.20it/s]"
     ]
    },
    {
     "name": "stdout",
     "output_type": "stream",
     "text": [
      "no response in target query\n"
     ]
    },
    {
     "name": "stderr",
     "output_type": "stream",
     "text": [
      "2393it [34:00,  1.22it/s]"
     ]
    },
    {
     "name": "stdout",
     "output_type": "stream",
     "text": [
      "no response in target query\n"
     ]
    },
    {
     "name": "stderr",
     "output_type": "stream",
     "text": [
      "2394it [34:01,  1.22it/s]"
     ]
    },
    {
     "name": "stdout",
     "output_type": "stream",
     "text": [
      "no response in target query\n"
     ]
    },
    {
     "name": "stderr",
     "output_type": "stream",
     "text": [
      "2396it [34:02,  1.22it/s]"
     ]
    },
    {
     "name": "stdout",
     "output_type": "stream",
     "text": [
      "no response in target query\n"
     ]
    },
    {
     "name": "stderr",
     "output_type": "stream",
     "text": [
      "2397it [34:03,  1.21it/s]"
     ]
    },
    {
     "name": "stdout",
     "output_type": "stream",
     "text": [
      "no response in target query\n"
     ]
    },
    {
     "name": "stderr",
     "output_type": "stream",
     "text": [
      "2404it [34:09,  1.21it/s]"
     ]
    },
    {
     "name": "stdout",
     "output_type": "stream",
     "text": [
      "no response in target query\n"
     ]
    },
    {
     "name": "stderr",
     "output_type": "stream",
     "text": [
      "2405it [34:10,  1.22it/s]"
     ]
    },
    {
     "name": "stdout",
     "output_type": "stream",
     "text": [
      "no response in target query\n"
     ]
    },
    {
     "name": "stderr",
     "output_type": "stream",
     "text": [
      "2407it [34:11,  1.20it/s]"
     ]
    },
    {
     "name": "stdout",
     "output_type": "stream",
     "text": [
      "no response in target query\n"
     ]
    },
    {
     "name": "stderr",
     "output_type": "stream",
     "text": [
      "2408it [34:12,  1.21it/s]"
     ]
    },
    {
     "name": "stdout",
     "output_type": "stream",
     "text": [
      "no response in target query\n"
     ]
    },
    {
     "name": "stderr",
     "output_type": "stream",
     "text": [
      "2414it [34:17,  1.22it/s]"
     ]
    },
    {
     "name": "stdout",
     "output_type": "stream",
     "text": [
      "no response in target query\n"
     ]
    },
    {
     "name": "stderr",
     "output_type": "stream",
     "text": [
      "2415it [34:18,  1.22it/s]"
     ]
    },
    {
     "name": "stdout",
     "output_type": "stream",
     "text": [
      "no response in target query\n"
     ]
    },
    {
     "name": "stderr",
     "output_type": "stream",
     "text": [
      "2424it [34:25,  1.20it/s]"
     ]
    },
    {
     "name": "stdout",
     "output_type": "stream",
     "text": [
      "no response in target query\n"
     ]
    },
    {
     "name": "stderr",
     "output_type": "stream",
     "text": [
      "2425it [34:26,  1.21it/s]"
     ]
    },
    {
     "name": "stdout",
     "output_type": "stream",
     "text": [
      "no response in target query\n"
     ]
    },
    {
     "name": "stderr",
     "output_type": "stream",
     "text": [
      "2465it [35:01,  1.21it/s]"
     ]
    },
    {
     "name": "stdout",
     "output_type": "stream",
     "text": [
      "no response in target query\n"
     ]
    },
    {
     "name": "stderr",
     "output_type": "stream",
     "text": [
      "2466it [35:02,  1.22it/s]"
     ]
    },
    {
     "name": "stdout",
     "output_type": "stream",
     "text": [
      "no response in target query\n"
     ]
    },
    {
     "name": "stderr",
     "output_type": "stream",
     "text": [
      "2476it [35:10,  1.23it/s]"
     ]
    },
    {
     "name": "stdout",
     "output_type": "stream",
     "text": [
      "no response in target query\n"
     ]
    },
    {
     "name": "stderr",
     "output_type": "stream",
     "text": [
      "2477it [35:11,  1.23it/s]"
     ]
    },
    {
     "name": "stdout",
     "output_type": "stream",
     "text": [
      "no response in target query\n"
     ]
    },
    {
     "name": "stderr",
     "output_type": "stream",
     "text": [
      "2487it [35:19,  1.23it/s]"
     ]
    },
    {
     "name": "stdout",
     "output_type": "stream",
     "text": [
      "no response in target query\n"
     ]
    },
    {
     "name": "stderr",
     "output_type": "stream",
     "text": [
      "2488it [35:20,  1.22it/s]"
     ]
    },
    {
     "name": "stdout",
     "output_type": "stream",
     "text": [
      "no response in target query\n"
     ]
    },
    {
     "name": "stderr",
     "output_type": "stream",
     "text": [
      "2499it [35:29,  1.21it/s]"
     ]
    },
    {
     "name": "stdout",
     "output_type": "stream",
     "text": [
      "no response in target query\n"
     ]
    },
    {
     "name": "stderr",
     "output_type": "stream",
     "text": [
      "2500it [35:30,  1.21it/s]"
     ]
    },
    {
     "name": "stdout",
     "output_type": "stream",
     "text": [
      "no response in target query\n"
     ]
    },
    {
     "name": "stderr",
     "output_type": "stream",
     "text": [
      "2520it [35:47,  1.21it/s]"
     ]
    },
    {
     "name": "stdout",
     "output_type": "stream",
     "text": [
      "no response in target query\n"
     ]
    },
    {
     "name": "stderr",
     "output_type": "stream",
     "text": [
      "2521it [35:47,  1.21it/s]"
     ]
    },
    {
     "name": "stdout",
     "output_type": "stream",
     "text": [
      "no response in target query\n",
      "no response in target query\n"
     ]
    },
    {
     "name": "stderr",
     "output_type": "stream",
     "text": [
      "2522it [35:48,  1.20it/s]"
     ]
    },
    {
     "name": "stdout",
     "output_type": "stream",
     "text": [
      "no response in target query\n"
     ]
    },
    {
     "name": "stderr",
     "output_type": "stream",
     "text": [
      "2526it [35:52,  1.22it/s]"
     ]
    },
    {
     "name": "stdout",
     "output_type": "stream",
     "text": [
      "no response in target query\n"
     ]
    },
    {
     "name": "stderr",
     "output_type": "stream",
     "text": [
      "2527it [35:52,  1.23it/s]"
     ]
    },
    {
     "name": "stdout",
     "output_type": "stream",
     "text": [
      "no response in target query\n"
     ]
    },
    {
     "name": "stderr",
     "output_type": "stream",
     "text": [
      "2529it [35:54,  1.23it/s]"
     ]
    },
    {
     "name": "stdout",
     "output_type": "stream",
     "text": [
      "no response in target query\n"
     ]
    },
    {
     "name": "stderr",
     "output_type": "stream",
     "text": [
      "2530it [35:55,  1.23it/s]"
     ]
    },
    {
     "name": "stdout",
     "output_type": "stream",
     "text": [
      "no response in target query\n"
     ]
    },
    {
     "name": "stderr",
     "output_type": "stream",
     "text": [
      "2545it [36:07,  1.22it/s]"
     ]
    },
    {
     "name": "stdout",
     "output_type": "stream",
     "text": [
      "no response in target query\n"
     ]
    },
    {
     "name": "stderr",
     "output_type": "stream",
     "text": [
      "2546it [36:08,  1.22it/s]"
     ]
    },
    {
     "name": "stdout",
     "output_type": "stream",
     "text": [
      "no response in target query\n"
     ]
    },
    {
     "name": "stderr",
     "output_type": "stream",
     "text": [
      "2551it [36:12,  1.22it/s]"
     ]
    },
    {
     "name": "stdout",
     "output_type": "stream",
     "text": [
      "no response in target query\n"
     ]
    },
    {
     "name": "stderr",
     "output_type": "stream",
     "text": [
      "2552it [36:13,  1.22it/s]"
     ]
    },
    {
     "name": "stdout",
     "output_type": "stream",
     "text": [
      "no response in target query\n"
     ]
    },
    {
     "name": "stderr",
     "output_type": "stream",
     "text": [
      "2565it [36:24,  1.10s/it]"
     ]
    },
    {
     "name": "stdout",
     "output_type": "stream",
     "text": [
      "no response in target query\n"
     ]
    },
    {
     "name": "stderr",
     "output_type": "stream",
     "text": [
      "2566it [36:25,  1.02s/it]"
     ]
    },
    {
     "name": "stdout",
     "output_type": "stream",
     "text": [
      "no response in target query\n"
     ]
    },
    {
     "name": "stderr",
     "output_type": "stream",
     "text": [
      "2600it [36:53,  1.21it/s]"
     ]
    },
    {
     "name": "stdout",
     "output_type": "stream",
     "text": [
      "no response in target query\n"
     ]
    },
    {
     "name": "stderr",
     "output_type": "stream",
     "text": [
      "2601it [36:54,  1.21it/s]"
     ]
    },
    {
     "name": "stdout",
     "output_type": "stream",
     "text": [
      "no response in target query\n"
     ]
    },
    {
     "name": "stderr",
     "output_type": "stream",
     "text": [
      "2639it [37:26,  1.22it/s]"
     ]
    },
    {
     "name": "stdout",
     "output_type": "stream",
     "text": [
      "no response in target query\n"
     ]
    },
    {
     "name": "stderr",
     "output_type": "stream",
     "text": [
      "2640it [37:27,  1.22it/s]"
     ]
    },
    {
     "name": "stdout",
     "output_type": "stream",
     "text": [
      "no response in target query\n"
     ]
    },
    {
     "name": "stderr",
     "output_type": "stream",
     "text": [
      "2647it [37:32,  1.21it/s]"
     ]
    },
    {
     "name": "stdout",
     "output_type": "stream",
     "text": [
      "no response in target query\n"
     ]
    },
    {
     "name": "stderr",
     "output_type": "stream",
     "text": [
      "2648it [37:33,  1.20it/s]"
     ]
    },
    {
     "name": "stdout",
     "output_type": "stream",
     "text": [
      "no response in target query\n"
     ]
    },
    {
     "name": "stderr",
     "output_type": "stream",
     "text": [
      "2659it [37:42,  1.22it/s]"
     ]
    },
    {
     "name": "stdout",
     "output_type": "stream",
     "text": [
      "no response in target query\n"
     ]
    },
    {
     "name": "stderr",
     "output_type": "stream",
     "text": [
      "2660it [37:43,  1.22it/s]"
     ]
    },
    {
     "name": "stdout",
     "output_type": "stream",
     "text": [
      "no response in target query\n"
     ]
    },
    {
     "name": "stderr",
     "output_type": "stream",
     "text": [
      "2673it [38:02,  1.10s/it]"
     ]
    },
    {
     "name": "stdout",
     "output_type": "stream",
     "text": [
      "no response in target query\n"
     ]
    },
    {
     "name": "stderr",
     "output_type": "stream",
     "text": [
      "2690it [38:16,  1.22it/s]"
     ]
    },
    {
     "name": "stdout",
     "output_type": "stream",
     "text": [
      "no response in target query\n"
     ]
    },
    {
     "name": "stderr",
     "output_type": "stream",
     "text": [
      "2691it [38:16,  1.22it/s]"
     ]
    },
    {
     "name": "stdout",
     "output_type": "stream",
     "text": [
      "no response in target query\n"
     ]
    },
    {
     "name": "stderr",
     "output_type": "stream",
     "text": [
      "2692it [38:17,  1.21it/s]"
     ]
    },
    {
     "name": "stdout",
     "output_type": "stream",
     "text": [
      "no response in target query\n"
     ]
    },
    {
     "name": "stderr",
     "output_type": "stream",
     "text": [
      "2693it [38:18,  1.22it/s]"
     ]
    },
    {
     "name": "stdout",
     "output_type": "stream",
     "text": [
      "no response in target query\n",
      "no response in target query\n"
     ]
    },
    {
     "name": "stderr",
     "output_type": "stream",
     "text": [
      "2694it [38:19,  1.23it/s]"
     ]
    },
    {
     "name": "stdout",
     "output_type": "stream",
     "text": [
      "no response in target query\n"
     ]
    },
    {
     "name": "stderr",
     "output_type": "stream",
     "text": [
      "2709it [38:31,  1.22it/s]"
     ]
    },
    {
     "name": "stdout",
     "output_type": "stream",
     "text": [
      "no response in target query\n"
     ]
    },
    {
     "name": "stderr",
     "output_type": "stream",
     "text": [
      "2710it [38:32,  1.23it/s]"
     ]
    },
    {
     "name": "stdout",
     "output_type": "stream",
     "text": [
      "no response in target query\n"
     ]
    },
    {
     "name": "stderr",
     "output_type": "stream",
     "text": [
      "2711it [38:33,  1.22it/s]"
     ]
    },
    {
     "name": "stdout",
     "output_type": "stream",
     "text": [
      "no response in target query\n"
     ]
    },
    {
     "name": "stderr",
     "output_type": "stream",
     "text": [
      "2712it [38:34,  1.21it/s]"
     ]
    },
    {
     "name": "stdout",
     "output_type": "stream",
     "text": [
      "no response in target query\n"
     ]
    },
    {
     "name": "stderr",
     "output_type": "stream",
     "text": [
      "2721it [38:41,  1.22it/s]"
     ]
    },
    {
     "name": "stdout",
     "output_type": "stream",
     "text": [
      "no response in target query\n"
     ]
    },
    {
     "name": "stderr",
     "output_type": "stream",
     "text": [
      "2722it [38:42,  1.22it/s]"
     ]
    },
    {
     "name": "stdout",
     "output_type": "stream",
     "text": [
      "no response in target query\n"
     ]
    },
    {
     "name": "stderr",
     "output_type": "stream",
     "text": [
      "2726it [38:45,  1.22it/s]"
     ]
    },
    {
     "name": "stdout",
     "output_type": "stream",
     "text": [
      "no response in target query\n"
     ]
    },
    {
     "name": "stderr",
     "output_type": "stream",
     "text": [
      "2727it [38:46,  1.21it/s]"
     ]
    },
    {
     "name": "stdout",
     "output_type": "stream",
     "text": [
      "no response in target query\n"
     ]
    },
    {
     "name": "stderr",
     "output_type": "stream",
     "text": [
      "2737it [38:54,  1.21it/s]"
     ]
    },
    {
     "name": "stdout",
     "output_type": "stream",
     "text": [
      "no response in target query\n"
     ]
    },
    {
     "name": "stderr",
     "output_type": "stream",
     "text": [
      "2738it [38:55,  1.21it/s]"
     ]
    },
    {
     "name": "stdout",
     "output_type": "stream",
     "text": [
      "no response in target query\n"
     ]
    },
    {
     "name": "stderr",
     "output_type": "stream",
     "text": [
      "2756it [39:10,  1.22it/s]"
     ]
    },
    {
     "name": "stdout",
     "output_type": "stream",
     "text": [
      "no response in target query\n"
     ]
    },
    {
     "name": "stderr",
     "output_type": "stream",
     "text": [
      "2757it [39:11,  1.22it/s]"
     ]
    },
    {
     "name": "stdout",
     "output_type": "stream",
     "text": [
      "no response in target query\n"
     ]
    },
    {
     "name": "stderr",
     "output_type": "stream",
     "text": [
      "2763it [39:16,  1.21it/s]"
     ]
    },
    {
     "name": "stdout",
     "output_type": "stream",
     "text": [
      "no response in target query\n"
     ]
    },
    {
     "name": "stderr",
     "output_type": "stream",
     "text": [
      "2764it [39:16,  1.20it/s]"
     ]
    },
    {
     "name": "stdout",
     "output_type": "stream",
     "text": [
      "no response in target query\n"
     ]
    },
    {
     "name": "stderr",
     "output_type": "stream",
     "text": [
      "2766it [39:18,  1.20it/s]"
     ]
    },
    {
     "name": "stdout",
     "output_type": "stream",
     "text": [
      "no response in target query\n"
     ]
    },
    {
     "name": "stderr",
     "output_type": "stream",
     "text": [
      "2767it [39:19,  1.21it/s]"
     ]
    },
    {
     "name": "stdout",
     "output_type": "stream",
     "text": [
      "no response in target query\n"
     ]
    },
    {
     "name": "stderr",
     "output_type": "stream",
     "text": [
      "2773it [39:24,  1.18it/s]"
     ]
    },
    {
     "name": "stdout",
     "output_type": "stream",
     "text": [
      "no response in target query\n"
     ]
    },
    {
     "name": "stderr",
     "output_type": "stream",
     "text": [
      "2774it [39:25,  1.19it/s]"
     ]
    },
    {
     "name": "stdout",
     "output_type": "stream",
     "text": [
      "no response in target query\n"
     ]
    },
    {
     "name": "stderr",
     "output_type": "stream",
     "text": [
      "2784it [39:33,  1.19it/s]"
     ]
    },
    {
     "name": "stdout",
     "output_type": "stream",
     "text": [
      "no response in target query\n"
     ]
    },
    {
     "name": "stderr",
     "output_type": "stream",
     "text": [
      "2785it [39:34,  1.20it/s]"
     ]
    },
    {
     "name": "stdout",
     "output_type": "stream",
     "text": [
      "no response in target query\n"
     ]
    },
    {
     "name": "stderr",
     "output_type": "stream",
     "text": [
      "2792it [39:40,  1.22it/s]"
     ]
    },
    {
     "name": "stdout",
     "output_type": "stream",
     "text": [
      "no response in target query\n"
     ]
    },
    {
     "name": "stderr",
     "output_type": "stream",
     "text": [
      "2793it [39:41,  1.22it/s]"
     ]
    },
    {
     "name": "stdout",
     "output_type": "stream",
     "text": [
      "no response in target query\n"
     ]
    },
    {
     "name": "stderr",
     "output_type": "stream",
     "text": [
      "2820it [40:03,  1.21it/s]"
     ]
    },
    {
     "name": "stdout",
     "output_type": "stream",
     "text": [
      "no response in target query\n"
     ]
    },
    {
     "name": "stderr",
     "output_type": "stream",
     "text": [
      "2821it [40:04,  1.21it/s]"
     ]
    },
    {
     "name": "stdout",
     "output_type": "stream",
     "text": [
      "no response in target query\n"
     ]
    },
    {
     "name": "stderr",
     "output_type": "stream",
     "text": [
      "2835it [40:15,  1.22it/s]"
     ]
    },
    {
     "name": "stdout",
     "output_type": "stream",
     "text": [
      "no response in target query\n"
     ]
    },
    {
     "name": "stderr",
     "output_type": "stream",
     "text": [
      "2836it [40:16,  1.23it/s]"
     ]
    },
    {
     "name": "stdout",
     "output_type": "stream",
     "text": [
      "no response in target query\n"
     ]
    },
    {
     "name": "stderr",
     "output_type": "stream",
     "text": [
      "2845it [40:24,  1.21it/s]"
     ]
    },
    {
     "name": "stdout",
     "output_type": "stream",
     "text": [
      "no response in target query\n"
     ]
    },
    {
     "name": "stderr",
     "output_type": "stream",
     "text": [
      "2846it [40:24,  1.21it/s]"
     ]
    },
    {
     "name": "stdout",
     "output_type": "stream",
     "text": [
      "no response in target query\n"
     ]
    },
    {
     "name": "stderr",
     "output_type": "stream",
     "text": [
      "2848it [40:26,  1.21it/s]"
     ]
    },
    {
     "name": "stdout",
     "output_type": "stream",
     "text": [
      "no response in target query\n"
     ]
    },
    {
     "name": "stderr",
     "output_type": "stream",
     "text": [
      "2849it [40:27,  1.20it/s]"
     ]
    },
    {
     "name": "stdout",
     "output_type": "stream",
     "text": [
      "no response in target query\n",
      "no response in target query\n"
     ]
    },
    {
     "name": "stderr",
     "output_type": "stream",
     "text": [
      "2850it [40:28,  1.21it/s]"
     ]
    },
    {
     "name": "stdout",
     "output_type": "stream",
     "text": [
      "no response in target query\n"
     ]
    },
    {
     "name": "stderr",
     "output_type": "stream",
     "text": [
      "2853it [40:30,  1.21it/s]"
     ]
    },
    {
     "name": "stdout",
     "output_type": "stream",
     "text": [
      "no response in target query\n"
     ]
    },
    {
     "name": "stderr",
     "output_type": "stream",
     "text": [
      "2854it [40:31,  1.20it/s]"
     ]
    },
    {
     "name": "stdout",
     "output_type": "stream",
     "text": [
      "no response in target query\n"
     ]
    },
    {
     "name": "stderr",
     "output_type": "stream",
     "text": [
      "2861it [40:37,  1.23it/s]"
     ]
    },
    {
     "name": "stdout",
     "output_type": "stream",
     "text": [
      "no response in target query\n"
     ]
    },
    {
     "name": "stderr",
     "output_type": "stream",
     "text": [
      "2862it [40:38,  1.23it/s]"
     ]
    },
    {
     "name": "stdout",
     "output_type": "stream",
     "text": [
      "no response in target query\n"
     ]
    },
    {
     "name": "stderr",
     "output_type": "stream",
     "text": [
      "2874it [40:47,  1.22it/s]"
     ]
    },
    {
     "name": "stdout",
     "output_type": "stream",
     "text": [
      "no response in target query\n"
     ]
    },
    {
     "name": "stderr",
     "output_type": "stream",
     "text": [
      "2875it [40:48,  1.23it/s]"
     ]
    },
    {
     "name": "stdout",
     "output_type": "stream",
     "text": [
      "no response in target query\n"
     ]
    },
    {
     "name": "stderr",
     "output_type": "stream",
     "text": [
      "2895it [41:05,  1.22it/s]"
     ]
    },
    {
     "name": "stdout",
     "output_type": "stream",
     "text": [
      "no response in target query\n"
     ]
    },
    {
     "name": "stderr",
     "output_type": "stream",
     "text": [
      "2896it [41:05,  1.23it/s]"
     ]
    },
    {
     "name": "stdout",
     "output_type": "stream",
     "text": [
      "no response in target query\n"
     ]
    },
    {
     "name": "stderr",
     "output_type": "stream",
     "text": [
      "2909it [41:16,  1.23it/s]"
     ]
    },
    {
     "name": "stdout",
     "output_type": "stream",
     "text": [
      "no response in target query\n"
     ]
    },
    {
     "name": "stderr",
     "output_type": "stream",
     "text": [
      "2910it [41:17,  1.22it/s]"
     ]
    },
    {
     "name": "stdout",
     "output_type": "stream",
     "text": [
      "no response in target query\n"
     ]
    },
    {
     "name": "stderr",
     "output_type": "stream",
     "text": [
      "2920it [41:25,  1.22it/s]"
     ]
    },
    {
     "name": "stdout",
     "output_type": "stream",
     "text": [
      "no response in target query\n"
     ]
    },
    {
     "name": "stderr",
     "output_type": "stream",
     "text": [
      "2921it [41:26,  1.20it/s]"
     ]
    },
    {
     "name": "stdout",
     "output_type": "stream",
     "text": [
      "no response in target query\n"
     ]
    },
    {
     "name": "stderr",
     "output_type": "stream",
     "text": [
      "2924it [41:28,  1.22it/s]"
     ]
    },
    {
     "name": "stdout",
     "output_type": "stream",
     "text": [
      "no response in target query\n"
     ]
    },
    {
     "name": "stderr",
     "output_type": "stream",
     "text": [
      "2925it [41:29,  1.21it/s]"
     ]
    },
    {
     "name": "stdout",
     "output_type": "stream",
     "text": [
      "no response in target query\n"
     ]
    },
    {
     "name": "stderr",
     "output_type": "stream",
     "text": [
      "2928it [41:32,  1.22it/s]"
     ]
    },
    {
     "name": "stdout",
     "output_type": "stream",
     "text": [
      "no response in target query\n"
     ]
    },
    {
     "name": "stderr",
     "output_type": "stream",
     "text": [
      "2929it [41:33,  1.22it/s]"
     ]
    },
    {
     "name": "stdout",
     "output_type": "stream",
     "text": [
      "no response in target query\n"
     ]
    },
    {
     "name": "stderr",
     "output_type": "stream",
     "text": [
      "2937it [41:39,  1.23it/s]"
     ]
    },
    {
     "name": "stdout",
     "output_type": "stream",
     "text": [
      "no response in target query\n"
     ]
    },
    {
     "name": "stderr",
     "output_type": "stream",
     "text": [
      "2938it [41:40,  1.23it/s]"
     ]
    },
    {
     "name": "stdout",
     "output_type": "stream",
     "text": [
      "no response in target query\n"
     ]
    },
    {
     "name": "stderr",
     "output_type": "stream",
     "text": [
      "2943it [41:44,  1.20it/s]"
     ]
    },
    {
     "name": "stdout",
     "output_type": "stream",
     "text": [
      "no response in target query\n"
     ]
    },
    {
     "name": "stderr",
     "output_type": "stream",
     "text": [
      "2944it [41:45,  1.21it/s]"
     ]
    },
    {
     "name": "stdout",
     "output_type": "stream",
     "text": [
      "no response in target query\n"
     ]
    },
    {
     "name": "stderr",
     "output_type": "stream",
     "text": [
      "2957it [41:56,  1.21it/s]"
     ]
    },
    {
     "name": "stdout",
     "output_type": "stream",
     "text": [
      "no response in target query\n"
     ]
    },
    {
     "name": "stderr",
     "output_type": "stream",
     "text": [
      "2958it [41:56,  1.22it/s]"
     ]
    },
    {
     "name": "stdout",
     "output_type": "stream",
     "text": [
      "no response in target query\n"
     ]
    },
    {
     "name": "stderr",
     "output_type": "stream",
     "text": [
      "2961it [41:59,  1.23it/s]"
     ]
    },
    {
     "name": "stdout",
     "output_type": "stream",
     "text": [
      "no response in target query\n"
     ]
    },
    {
     "name": "stderr",
     "output_type": "stream",
     "text": [
      "2962it [42:00,  1.23it/s]"
     ]
    },
    {
     "name": "stdout",
     "output_type": "stream",
     "text": [
      "no response in target query\n"
     ]
    },
    {
     "name": "stderr",
     "output_type": "stream",
     "text": [
      "2998it [42:29,  1.21it/s]"
     ]
    },
    {
     "name": "stdout",
     "output_type": "stream",
     "text": [
      "no response in target query\n"
     ]
    },
    {
     "name": "stderr",
     "output_type": "stream",
     "text": [
      "2999it [42:30,  1.21it/s]"
     ]
    },
    {
     "name": "stdout",
     "output_type": "stream",
     "text": [
      "no response in target query\n"
     ]
    },
    {
     "name": "stderr",
     "output_type": "stream",
     "text": [
      "3002it [42:33,  1.21it/s]"
     ]
    },
    {
     "name": "stdout",
     "output_type": "stream",
     "text": [
      "no response in target query\n"
     ]
    },
    {
     "name": "stderr",
     "output_type": "stream",
     "text": [
      "3003it [42:33,  1.20it/s]"
     ]
    },
    {
     "name": "stdout",
     "output_type": "stream",
     "text": [
      "no response in target query\n"
     ]
    },
    {
     "name": "stderr",
     "output_type": "stream",
     "text": [
      "3010it [42:39,  1.21it/s]"
     ]
    },
    {
     "name": "stdout",
     "output_type": "stream",
     "text": [
      "no response in target query\n"
     ]
    },
    {
     "name": "stderr",
     "output_type": "stream",
     "text": [
      "3011it [42:40,  1.21it/s]"
     ]
    },
    {
     "name": "stdout",
     "output_type": "stream",
     "text": [
      "no response in target query\n"
     ]
    },
    {
     "name": "stderr",
     "output_type": "stream",
     "text": [
      "3018it [42:46,  1.21it/s]"
     ]
    },
    {
     "name": "stdout",
     "output_type": "stream",
     "text": [
      "no response in target query\n"
     ]
    },
    {
     "name": "stderr",
     "output_type": "stream",
     "text": [
      "3019it [42:47,  1.21it/s]"
     ]
    },
    {
     "name": "stdout",
     "output_type": "stream",
     "text": [
      "no response in target query\n"
     ]
    },
    {
     "name": "stderr",
     "output_type": "stream",
     "text": [
      "3041it [43:05,  1.21it/s]"
     ]
    },
    {
     "name": "stdout",
     "output_type": "stream",
     "text": [
      "no response in target query\n"
     ]
    },
    {
     "name": "stderr",
     "output_type": "stream",
     "text": [
      "3042it [43:06,  1.22it/s]"
     ]
    },
    {
     "name": "stdout",
     "output_type": "stream",
     "text": [
      "no response in target query\n"
     ]
    },
    {
     "name": "stderr",
     "output_type": "stream",
     "text": [
      "3046it [43:09,  1.20it/s]"
     ]
    },
    {
     "name": "stdout",
     "output_type": "stream",
     "text": [
      "no response in target query\n"
     ]
    },
    {
     "name": "stderr",
     "output_type": "stream",
     "text": [
      "3047it [43:10,  1.19it/s]"
     ]
    },
    {
     "name": "stdout",
     "output_type": "stream",
     "text": [
      "no response in target query\n"
     ]
    },
    {
     "name": "stderr",
     "output_type": "stream",
     "text": [
      "3064it [43:24,  1.20it/s]"
     ]
    },
    {
     "name": "stdout",
     "output_type": "stream",
     "text": [
      "no response in target query\n"
     ]
    },
    {
     "name": "stderr",
     "output_type": "stream",
     "text": [
      "3065it [43:25,  1.21it/s]"
     ]
    },
    {
     "name": "stdout",
     "output_type": "stream",
     "text": [
      "no response in target query\n"
     ]
    },
    {
     "name": "stderr",
     "output_type": "stream",
     "text": [
      "3070it [43:29,  1.24it/s]"
     ]
    },
    {
     "name": "stdout",
     "output_type": "stream",
     "text": [
      "no response in target query\n"
     ]
    },
    {
     "name": "stderr",
     "output_type": "stream",
     "text": [
      "3071it [43:30,  1.23it/s]"
     ]
    },
    {
     "name": "stdout",
     "output_type": "stream",
     "text": [
      "no response in target query\n"
     ]
    },
    {
     "name": "stderr",
     "output_type": "stream",
     "text": [
      "3072it [43:30,  1.22it/s]"
     ]
    },
    {
     "name": "stdout",
     "output_type": "stream",
     "text": [
      "no response in target query\n"
     ]
    },
    {
     "name": "stderr",
     "output_type": "stream",
     "text": [
      "3073it [43:31,  1.21it/s]"
     ]
    },
    {
     "name": "stdout",
     "output_type": "stream",
     "text": [
      "no response in target query\n"
     ]
    },
    {
     "name": "stderr",
     "output_type": "stream",
     "text": [
      "3098it [43:52,  1.21it/s]"
     ]
    },
    {
     "name": "stdout",
     "output_type": "stream",
     "text": [
      "no response in target query\n"
     ]
    },
    {
     "name": "stderr",
     "output_type": "stream",
     "text": [
      "3099it [43:53,  1.21it/s]"
     ]
    },
    {
     "name": "stdout",
     "output_type": "stream",
     "text": [
      "no response in target query\n"
     ]
    },
    {
     "name": "stderr",
     "output_type": "stream",
     "text": [
      "3100it [43:54,  1.20it/s]"
     ]
    },
    {
     "name": "stdout",
     "output_type": "stream",
     "text": [
      "no response in target query\n"
     ]
    },
    {
     "name": "stderr",
     "output_type": "stream",
     "text": [
      "3101it [43:54,  1.20it/s]"
     ]
    },
    {
     "name": "stdout",
     "output_type": "stream",
     "text": [
      "no response in target query\n"
     ]
    },
    {
     "name": "stderr",
     "output_type": "stream",
     "text": [
      "3106it [43:59,  1.21it/s]"
     ]
    },
    {
     "name": "stdout",
     "output_type": "stream",
     "text": [
      "no response in target query\n"
     ]
    },
    {
     "name": "stderr",
     "output_type": "stream",
     "text": [
      "3107it [43:59,  1.21it/s]"
     ]
    },
    {
     "name": "stdout",
     "output_type": "stream",
     "text": [
      "no response in target query\n"
     ]
    },
    {
     "name": "stderr",
     "output_type": "stream",
     "text": [
      "3109it [44:01,  1.21it/s]"
     ]
    },
    {
     "name": "stdout",
     "output_type": "stream",
     "text": [
      "no response in target query\n"
     ]
    },
    {
     "name": "stderr",
     "output_type": "stream",
     "text": [
      "3110it [44:02,  1.21it/s]"
     ]
    },
    {
     "name": "stdout",
     "output_type": "stream",
     "text": [
      "no response in target query\n"
     ]
    },
    {
     "name": "stderr",
     "output_type": "stream",
     "text": [
      "3141it [44:27,  1.19it/s]"
     ]
    },
    {
     "name": "stdout",
     "output_type": "stream",
     "text": [
      "no response in target query\n"
     ]
    },
    {
     "name": "stderr",
     "output_type": "stream",
     "text": [
      "3142it [44:28,  1.19it/s]"
     ]
    },
    {
     "name": "stdout",
     "output_type": "stream",
     "text": [
      "no response in target query\n"
     ]
    },
    {
     "name": "stderr",
     "output_type": "stream",
     "text": [
      "3143it [44:29,  1.19it/s]"
     ]
    },
    {
     "name": "stdout",
     "output_type": "stream",
     "text": [
      "no response in target query\n"
     ]
    },
    {
     "name": "stderr",
     "output_type": "stream",
     "text": [
      "3144it [44:30,  1.20it/s]"
     ]
    },
    {
     "name": "stdout",
     "output_type": "stream",
     "text": [
      "no response in target query\n"
     ]
    },
    {
     "name": "stderr",
     "output_type": "stream",
     "text": [
      "3163it [44:46,  1.19it/s]"
     ]
    },
    {
     "name": "stdout",
     "output_type": "stream",
     "text": [
      "no response in target query\n"
     ]
    },
    {
     "name": "stderr",
     "output_type": "stream",
     "text": [
      "3164it [44:47,  1.20it/s]"
     ]
    },
    {
     "name": "stdout",
     "output_type": "stream",
     "text": [
      "no response in target query\n"
     ]
    },
    {
     "name": "stderr",
     "output_type": "stream",
     "text": [
      "3173it [44:54,  1.22it/s]"
     ]
    },
    {
     "name": "stdout",
     "output_type": "stream",
     "text": [
      "no response in target query\n"
     ]
    },
    {
     "name": "stderr",
     "output_type": "stream",
     "text": [
      "3174it [44:55,  1.22it/s]"
     ]
    },
    {
     "name": "stdout",
     "output_type": "stream",
     "text": [
      "no response in target query\n"
     ]
    },
    {
     "name": "stderr",
     "output_type": "stream",
     "text": [
      "3180it [45:00,  1.13it/s]"
     ]
    },
    {
     "name": "stdout",
     "output_type": "stream",
     "text": [
      "no response in target query\n"
     ]
    },
    {
     "name": "stderr",
     "output_type": "stream",
     "text": [
      "3181it [45:01,  1.15it/s]"
     ]
    },
    {
     "name": "stdout",
     "output_type": "stream",
     "text": [
      "no response in target query\n"
     ]
    },
    {
     "name": "stderr",
     "output_type": "stream",
     "text": [
      "3186it [45:05,  1.20it/s]"
     ]
    },
    {
     "name": "stdout",
     "output_type": "stream",
     "text": [
      "no response in target query\n"
     ]
    },
    {
     "name": "stderr",
     "output_type": "stream",
     "text": [
      "3187it [45:06,  1.21it/s]"
     ]
    },
    {
     "name": "stdout",
     "output_type": "stream",
     "text": [
      "no response in target query\n"
     ]
    },
    {
     "name": "stderr",
     "output_type": "stream",
     "text": [
      "3188it [45:07,  1.21it/s]"
     ]
    },
    {
     "name": "stdout",
     "output_type": "stream",
     "text": [
      "no response in target query\n"
     ]
    },
    {
     "name": "stderr",
     "output_type": "stream",
     "text": [
      "3189it [45:08,  1.20it/s]"
     ]
    },
    {
     "name": "stdout",
     "output_type": "stream",
     "text": [
      "no response in target query\n"
     ]
    },
    {
     "name": "stderr",
     "output_type": "stream",
     "text": [
      "3200it [45:17,  1.22it/s]"
     ]
    },
    {
     "name": "stdout",
     "output_type": "stream",
     "text": [
      "no response in target query\n"
     ]
    },
    {
     "name": "stderr",
     "output_type": "stream",
     "text": [
      "3201it [45:18,  1.22it/s]"
     ]
    },
    {
     "name": "stdout",
     "output_type": "stream",
     "text": [
      "no response in target query\n"
     ]
    },
    {
     "name": "stderr",
     "output_type": "stream",
     "text": [
      "3262it [46:10,  1.07it/s]"
     ]
    },
    {
     "name": "stdout",
     "output_type": "stream",
     "text": [
      "no response in target query\n"
     ]
    },
    {
     "name": "stderr",
     "output_type": "stream",
     "text": [
      "3263it [46:11,  1.11it/s]"
     ]
    },
    {
     "name": "stdout",
     "output_type": "stream",
     "text": [
      "no response in target query\n"
     ]
    },
    {
     "name": "stderr",
     "output_type": "stream",
     "text": [
      "3270it [46:17,  1.21it/s]"
     ]
    },
    {
     "name": "stdout",
     "output_type": "stream",
     "text": [
      "no response in target query\n"
     ]
    },
    {
     "name": "stderr",
     "output_type": "stream",
     "text": [
      "3271it [46:17,  1.21it/s]"
     ]
    },
    {
     "name": "stdout",
     "output_type": "stream",
     "text": [
      "no response in target query\n"
     ]
    },
    {
     "name": "stderr",
     "output_type": "stream",
     "text": [
      "3272it [46:18,  1.22it/s]"
     ]
    },
    {
     "name": "stdout",
     "output_type": "stream",
     "text": [
      "no response in target query\n"
     ]
    },
    {
     "name": "stderr",
     "output_type": "stream",
     "text": [
      "3273it [46:19,  1.20it/s]"
     ]
    },
    {
     "name": "stdout",
     "output_type": "stream",
     "text": [
      "no response in target query\n"
     ]
    },
    {
     "name": "stderr",
     "output_type": "stream",
     "text": [
      "3275it [46:21,  1.21it/s]"
     ]
    },
    {
     "name": "stdout",
     "output_type": "stream",
     "text": [
      "no response in target query\n"
     ]
    },
    {
     "name": "stderr",
     "output_type": "stream",
     "text": [
      "3276it [46:22,  1.21it/s]"
     ]
    },
    {
     "name": "stdout",
     "output_type": "stream",
     "text": [
      "no response in target query\n"
     ]
    },
    {
     "name": "stderr",
     "output_type": "stream",
     "text": [
      "3282it [46:27,  1.22it/s]"
     ]
    },
    {
     "name": "stdout",
     "output_type": "stream",
     "text": [
      "no response in target query\n"
     ]
    },
    {
     "name": "stderr",
     "output_type": "stream",
     "text": [
      "3283it [46:27,  1.23it/s]"
     ]
    },
    {
     "name": "stdout",
     "output_type": "stream",
     "text": [
      "no response in target query\n"
     ]
    },
    {
     "name": "stderr",
     "output_type": "stream",
     "text": [
      "3297it [46:39,  1.20it/s]"
     ]
    },
    {
     "name": "stdout",
     "output_type": "stream",
     "text": [
      "no response in target query\n"
     ]
    },
    {
     "name": "stderr",
     "output_type": "stream",
     "text": [
      "3298it [46:40,  1.20it/s]"
     ]
    },
    {
     "name": "stdout",
     "output_type": "stream",
     "text": [
      "no response in target query\n"
     ]
    },
    {
     "name": "stderr",
     "output_type": "stream",
     "text": [
      "3302it [46:43,  1.19it/s]"
     ]
    },
    {
     "name": "stdout",
     "output_type": "stream",
     "text": [
      "no response in target query\n"
     ]
    },
    {
     "name": "stderr",
     "output_type": "stream",
     "text": [
      "3303it [46:44,  1.20it/s]"
     ]
    },
    {
     "name": "stdout",
     "output_type": "stream",
     "text": [
      "no response in target query\n"
     ]
    },
    {
     "name": "stderr",
     "output_type": "stream",
     "text": [
      "3306it [46:46,  1.20it/s]"
     ]
    },
    {
     "name": "stdout",
     "output_type": "stream",
     "text": [
      "no response in target query\n"
     ]
    },
    {
     "name": "stderr",
     "output_type": "stream",
     "text": [
      "3307it [46:47,  1.20it/s]"
     ]
    },
    {
     "name": "stdout",
     "output_type": "stream",
     "text": [
      "no response in target query\n"
     ]
    },
    {
     "name": "stderr",
     "output_type": "stream",
     "text": [
      "3311it [46:51,  1.03it/s]"
     ]
    },
    {
     "name": "stdout",
     "output_type": "stream",
     "text": [
      "no response in target query\n"
     ]
    },
    {
     "name": "stderr",
     "output_type": "stream",
     "text": [
      "3312it [46:52,  1.07it/s]"
     ]
    },
    {
     "name": "stdout",
     "output_type": "stream",
     "text": [
      "no response in target query\n"
     ]
    },
    {
     "name": "stderr",
     "output_type": "stream",
     "text": [
      "3315it [46:55,  1.16it/s]"
     ]
    },
    {
     "name": "stdout",
     "output_type": "stream",
     "text": [
      "no response in target query\n"
     ]
    },
    {
     "name": "stderr",
     "output_type": "stream",
     "text": [
      "3316it [46:55,  1.17it/s]"
     ]
    },
    {
     "name": "stdout",
     "output_type": "stream",
     "text": [
      "no response in target query\n"
     ]
    },
    {
     "name": "stderr",
     "output_type": "stream",
     "text": [
      "3317it [46:56,  1.19it/s]"
     ]
    },
    {
     "name": "stdout",
     "output_type": "stream",
     "text": [
      "no response in target query\n"
     ]
    },
    {
     "name": "stderr",
     "output_type": "stream",
     "text": [
      "3318it [46:57,  1.19it/s]"
     ]
    },
    {
     "name": "stdout",
     "output_type": "stream",
     "text": [
      "no response in target query\n"
     ]
    },
    {
     "name": "stderr",
     "output_type": "stream",
     "text": [
      "3331it [47:08,  1.22it/s]"
     ]
    },
    {
     "name": "stdout",
     "output_type": "stream",
     "text": [
      "no response in target query\n"
     ]
    },
    {
     "name": "stderr",
     "output_type": "stream",
     "text": [
      "3332it [47:08,  1.23it/s]"
     ]
    },
    {
     "name": "stdout",
     "output_type": "stream",
     "text": [
      "no response in target query\n"
     ]
    },
    {
     "name": "stderr",
     "output_type": "stream",
     "text": [
      "3352it [47:56,  1.09s/it]"
     ]
    },
    {
     "name": "stdout",
     "output_type": "stream",
     "text": [
      "no response in target query\n"
     ]
    },
    {
     "name": "stderr",
     "output_type": "stream",
     "text": [
      "3353it [47:57,  1.01s/it]"
     ]
    },
    {
     "name": "stdout",
     "output_type": "stream",
     "text": [
      "no response in target query\n"
     ]
    },
    {
     "name": "stderr",
     "output_type": "stream",
     "text": [
      "3359it [48:02,  1.18it/s]"
     ]
    },
    {
     "name": "stdout",
     "output_type": "stream",
     "text": [
      "no response in target query\n"
     ]
    },
    {
     "name": "stderr",
     "output_type": "stream",
     "text": [
      "3360it [48:02,  1.19it/s]"
     ]
    },
    {
     "name": "stdout",
     "output_type": "stream",
     "text": [
      "no response in target query\n"
     ]
    },
    {
     "name": "stderr",
     "output_type": "stream",
     "text": [
      "3361it [48:03,  1.21it/s]"
     ]
    },
    {
     "name": "stdout",
     "output_type": "stream",
     "text": [
      "no response in target query\n"
     ]
    },
    {
     "name": "stderr",
     "output_type": "stream",
     "text": [
      "3362it [48:04,  1.21it/s]"
     ]
    },
    {
     "name": "stdout",
     "output_type": "stream",
     "text": [
      "no response in target query\n"
     ]
    },
    {
     "name": "stderr",
     "output_type": "stream",
     "text": [
      "3378it [48:17,  1.21it/s]"
     ]
    },
    {
     "name": "stdout",
     "output_type": "stream",
     "text": [
      "no response in target query\n"
     ]
    },
    {
     "name": "stderr",
     "output_type": "stream",
     "text": [
      "3379it [48:18,  1.21it/s]"
     ]
    },
    {
     "name": "stdout",
     "output_type": "stream",
     "text": [
      "no response in target query\n"
     ]
    },
    {
     "name": "stderr",
     "output_type": "stream",
     "text": [
      "3384it [48:22,  1.22it/s]"
     ]
    },
    {
     "name": "stdout",
     "output_type": "stream",
     "text": [
      "no response in target query\n"
     ]
    },
    {
     "name": "stderr",
     "output_type": "stream",
     "text": [
      "3385it [48:23,  1.22it/s]"
     ]
    },
    {
     "name": "stdout",
     "output_type": "stream",
     "text": [
      "no response in target query\n"
     ]
    },
    {
     "name": "stderr",
     "output_type": "stream",
     "text": [
      "3389it [48:26,  1.22it/s]"
     ]
    },
    {
     "name": "stdout",
     "output_type": "stream",
     "text": [
      "no response in target query\n"
     ]
    },
    {
     "name": "stderr",
     "output_type": "stream",
     "text": [
      "3390it [48:27,  1.22it/s]"
     ]
    },
    {
     "name": "stdout",
     "output_type": "stream",
     "text": [
      "no response in target query\n"
     ]
    },
    {
     "name": "stderr",
     "output_type": "stream",
     "text": [
      "3407it [48:41,  1.22it/s]"
     ]
    },
    {
     "name": "stdout",
     "output_type": "stream",
     "text": [
      "no response in target query\n"
     ]
    },
    {
     "name": "stderr",
     "output_type": "stream",
     "text": [
      "3408it [48:42,  1.22it/s]"
     ]
    },
    {
     "name": "stdout",
     "output_type": "stream",
     "text": [
      "no response in target query\n"
     ]
    },
    {
     "name": "stderr",
     "output_type": "stream",
     "text": [
      "3416it [48:49,  1.22it/s]"
     ]
    },
    {
     "name": "stdout",
     "output_type": "stream",
     "text": [
      "no response in target query\n"
     ]
    },
    {
     "name": "stderr",
     "output_type": "stream",
     "text": [
      "3417it [48:49,  1.22it/s]"
     ]
    },
    {
     "name": "stdout",
     "output_type": "stream",
     "text": [
      "no response in target query\n"
     ]
    },
    {
     "name": "stderr",
     "output_type": "stream",
     "text": [
      "3438it [49:06,  1.21it/s]"
     ]
    },
    {
     "name": "stdout",
     "output_type": "stream",
     "text": [
      "no response in target query\n"
     ]
    },
    {
     "name": "stderr",
     "output_type": "stream",
     "text": [
      "3439it [49:07,  1.21it/s]"
     ]
    },
    {
     "name": "stdout",
     "output_type": "stream",
     "text": [
      "no response in target query\n"
     ]
    },
    {
     "name": "stderr",
     "output_type": "stream",
     "text": [
      "3456it [49:21,  1.19it/s]"
     ]
    },
    {
     "name": "stdout",
     "output_type": "stream",
     "text": [
      "no response in target query\n"
     ]
    },
    {
     "name": "stderr",
     "output_type": "stream",
     "text": [
      "3457it [49:22,  1.19it/s]"
     ]
    },
    {
     "name": "stdout",
     "output_type": "stream",
     "text": [
      "no response in target query\n"
     ]
    },
    {
     "name": "stderr",
     "output_type": "stream",
     "text": [
      "3470it [49:33,  1.22it/s]"
     ]
    },
    {
     "name": "stdout",
     "output_type": "stream",
     "text": [
      "no response in target query\n"
     ]
    },
    {
     "name": "stderr",
     "output_type": "stream",
     "text": [
      "3471it [49:34,  1.22it/s]"
     ]
    },
    {
     "name": "stdout",
     "output_type": "stream",
     "text": [
      "no response in target query\n"
     ]
    },
    {
     "name": "stderr",
     "output_type": "stream",
     "text": [
      "3486it [49:47,  1.07s/it]"
     ]
    },
    {
     "name": "stdout",
     "output_type": "stream",
     "text": [
      "no response in target query\n"
     ]
    },
    {
     "name": "stderr",
     "output_type": "stream",
     "text": [
      "3487it [49:48,  1.01it/s]"
     ]
    },
    {
     "name": "stdout",
     "output_type": "stream",
     "text": [
      "no response in target query\n"
     ]
    },
    {
     "name": "stderr",
     "output_type": "stream",
     "text": [
      "3491it [49:51,  1.15it/s]"
     ]
    },
    {
     "name": "stdout",
     "output_type": "stream",
     "text": [
      "no response in target query\n"
     ]
    },
    {
     "name": "stderr",
     "output_type": "stream",
     "text": [
      "3492it [49:52,  1.17it/s]"
     ]
    },
    {
     "name": "stdout",
     "output_type": "stream",
     "text": [
      "no response in target query\n"
     ]
    },
    {
     "name": "stderr",
     "output_type": "stream",
     "text": [
      "3502it [50:00,  1.22it/s]"
     ]
    },
    {
     "name": "stdout",
     "output_type": "stream",
     "text": [
      "no response in target query\n"
     ]
    },
    {
     "name": "stderr",
     "output_type": "stream",
     "text": [
      "3503it [50:01,  1.22it/s]"
     ]
    },
    {
     "name": "stdout",
     "output_type": "stream",
     "text": [
      "no response in target query\n",
      "no response in target query\n"
     ]
    },
    {
     "name": "stderr",
     "output_type": "stream",
     "text": [
      "3504it [50:02,  1.22it/s]"
     ]
    },
    {
     "name": "stdout",
     "output_type": "stream",
     "text": [
      "no response in target query\n"
     ]
    },
    {
     "name": "stderr",
     "output_type": "stream",
     "text": [
      "3509it [50:06,  1.22it/s]"
     ]
    },
    {
     "name": "stdout",
     "output_type": "stream",
     "text": [
      "no response in target query\n"
     ]
    },
    {
     "name": "stderr",
     "output_type": "stream",
     "text": [
      "3510it [50:07,  1.22it/s]"
     ]
    },
    {
     "name": "stdout",
     "output_type": "stream",
     "text": [
      "no response in target query\n"
     ]
    },
    {
     "name": "stderr",
     "output_type": "stream",
     "text": [
      "3511it [50:08,  1.22it/s]"
     ]
    },
    {
     "name": "stdout",
     "output_type": "stream",
     "text": [
      "no response in target query\n"
     ]
    },
    {
     "name": "stderr",
     "output_type": "stream",
     "text": [
      "3512it [50:09,  1.21it/s]"
     ]
    },
    {
     "name": "stdout",
     "output_type": "stream",
     "text": [
      "no response in target query\n"
     ]
    },
    {
     "name": "stderr",
     "output_type": "stream",
     "text": [
      "3520it [50:15,  1.21it/s]"
     ]
    },
    {
     "name": "stdout",
     "output_type": "stream",
     "text": [
      "no response in target query\n"
     ]
    },
    {
     "name": "stderr",
     "output_type": "stream",
     "text": [
      "3521it [50:16,  1.22it/s]"
     ]
    },
    {
     "name": "stdout",
     "output_type": "stream",
     "text": [
      "no response in target query\n"
     ]
    },
    {
     "name": "stderr",
     "output_type": "stream",
     "text": [
      "3528it [50:22,  1.20it/s]"
     ]
    },
    {
     "name": "stdout",
     "output_type": "stream",
     "text": [
      "no response in target query\n"
     ]
    },
    {
     "name": "stderr",
     "output_type": "stream",
     "text": [
      "3529it [50:23,  1.21it/s]"
     ]
    },
    {
     "name": "stdout",
     "output_type": "stream",
     "text": [
      "no response in target query\n"
     ]
    },
    {
     "name": "stderr",
     "output_type": "stream",
     "text": [
      "3532it [50:25,  1.21it/s]"
     ]
    },
    {
     "name": "stdout",
     "output_type": "stream",
     "text": [
      "no response in target query\n"
     ]
    },
    {
     "name": "stderr",
     "output_type": "stream",
     "text": [
      "3533it [50:26,  1.21it/s]"
     ]
    },
    {
     "name": "stdout",
     "output_type": "stream",
     "text": [
      "no response in target query\n"
     ]
    },
    {
     "name": "stderr",
     "output_type": "stream",
     "text": [
      "3534it [50:27,  1.21it/s]"
     ]
    },
    {
     "name": "stdout",
     "output_type": "stream",
     "text": [
      "no response in target query\n"
     ]
    },
    {
     "name": "stderr",
     "output_type": "stream",
     "text": [
      "3535it [50:28,  1.21it/s]"
     ]
    },
    {
     "name": "stdout",
     "output_type": "stream",
     "text": [
      "no response in target query\n"
     ]
    },
    {
     "name": "stderr",
     "output_type": "stream",
     "text": [
      "3549it [50:47,  2.40s/it]"
     ]
    },
    {
     "name": "stdout",
     "output_type": "stream",
     "text": [
      "no response in target query\n"
     ]
    },
    {
     "name": "stderr",
     "output_type": "stream",
     "text": [
      "3550it [50:48,  1.92s/it]"
     ]
    },
    {
     "name": "stdout",
     "output_type": "stream",
     "text": [
      "no response in target query\n"
     ]
    },
    {
     "name": "stderr",
     "output_type": "stream",
     "text": [
      "3564it [50:59,  1.20it/s]"
     ]
    },
    {
     "name": "stdout",
     "output_type": "stream",
     "text": [
      "no response in target query\n"
     ]
    },
    {
     "name": "stderr",
     "output_type": "stream",
     "text": [
      "3565it [51:00,  1.21it/s]"
     ]
    },
    {
     "name": "stdout",
     "output_type": "stream",
     "text": [
      "no response in target query\n",
      "no response in target query\n"
     ]
    },
    {
     "name": "stderr",
     "output_type": "stream",
     "text": [
      "3566it [51:01,  1.22it/s]"
     ]
    },
    {
     "name": "stdout",
     "output_type": "stream",
     "text": [
      "no response in target query\n"
     ]
    },
    {
     "name": "stderr",
     "output_type": "stream",
     "text": [
      "3570it [51:04,  1.22it/s]"
     ]
    },
    {
     "name": "stdout",
     "output_type": "stream",
     "text": [
      "no response in target query\n"
     ]
    },
    {
     "name": "stderr",
     "output_type": "stream",
     "text": [
      "3571it [51:05,  1.22it/s]"
     ]
    },
    {
     "name": "stdout",
     "output_type": "stream",
     "text": [
      "no response in target query\n"
     ]
    },
    {
     "name": "stderr",
     "output_type": "stream",
     "text": [
      "3591it [51:21,  1.22it/s]"
     ]
    },
    {
     "name": "stdout",
     "output_type": "stream",
     "text": [
      "no response in target query\n"
     ]
    },
    {
     "name": "stderr",
     "output_type": "stream",
     "text": [
      "3592it [51:22,  1.22it/s]"
     ]
    },
    {
     "name": "stdout",
     "output_type": "stream",
     "text": [
      "no response in target query\n"
     ]
    },
    {
     "name": "stderr",
     "output_type": "stream",
     "text": [
      "3597it [51:26,  1.21it/s]"
     ]
    },
    {
     "name": "stdout",
     "output_type": "stream",
     "text": [
      "no response in target query\n"
     ]
    },
    {
     "name": "stderr",
     "output_type": "stream",
     "text": [
      "3598it [51:27,  1.21it/s]"
     ]
    },
    {
     "name": "stdout",
     "output_type": "stream",
     "text": [
      "no response in target query\n",
      "no response in target query\n"
     ]
    },
    {
     "name": "stderr",
     "output_type": "stream",
     "text": [
      "3599it [51:28,  1.21it/s]"
     ]
    },
    {
     "name": "stdout",
     "output_type": "stream",
     "text": [
      "no response in target query\n"
     ]
    },
    {
     "name": "stderr",
     "output_type": "stream",
     "text": [
      "3604it [51:32,  1.22it/s]"
     ]
    },
    {
     "name": "stdout",
     "output_type": "stream",
     "text": [
      "no response in target query\n"
     ]
    },
    {
     "name": "stderr",
     "output_type": "stream",
     "text": [
      "3605it [51:33,  1.21it/s]"
     ]
    },
    {
     "name": "stdout",
     "output_type": "stream",
     "text": [
      "no response in target query\n"
     ]
    },
    {
     "name": "stderr",
     "output_type": "stream",
     "text": [
      "3607it [51:35,  1.21it/s]"
     ]
    },
    {
     "name": "stdout",
     "output_type": "stream",
     "text": [
      "no response in target query\n"
     ]
    },
    {
     "name": "stderr",
     "output_type": "stream",
     "text": [
      "3608it [51:35,  1.21it/s]"
     ]
    },
    {
     "name": "stdout",
     "output_type": "stream",
     "text": [
      "no response in target query\n"
     ]
    },
    {
     "name": "stderr",
     "output_type": "stream",
     "text": [
      "3609it [51:36,  1.21it/s]"
     ]
    },
    {
     "name": "stdout",
     "output_type": "stream",
     "text": [
      "no response in target query\n"
     ]
    },
    {
     "name": "stderr",
     "output_type": "stream",
     "text": [
      "3610it [51:37,  1.21it/s]"
     ]
    },
    {
     "name": "stdout",
     "output_type": "stream",
     "text": [
      "no response in target query\n"
     ]
    },
    {
     "name": "stderr",
     "output_type": "stream",
     "text": [
      "3623it [51:48,  1.14it/s]"
     ]
    },
    {
     "name": "stdout",
     "output_type": "stream",
     "text": [
      "no response in target query\n"
     ]
    },
    {
     "name": "stderr",
     "output_type": "stream",
     "text": [
      "3624it [51:49,  1.16it/s]"
     ]
    },
    {
     "name": "stdout",
     "output_type": "stream",
     "text": [
      "no response in target query\n"
     ]
    },
    {
     "name": "stderr",
     "output_type": "stream",
     "text": [
      "3631it [51:55,  1.21it/s]"
     ]
    },
    {
     "name": "stdout",
     "output_type": "stream",
     "text": [
      "no response in target query\n"
     ]
    },
    {
     "name": "stderr",
     "output_type": "stream",
     "text": [
      "3632it [51:55,  1.21it/s]"
     ]
    },
    {
     "name": "stdout",
     "output_type": "stream",
     "text": [
      "no response in target query\n"
     ]
    },
    {
     "name": "stderr",
     "output_type": "stream",
     "text": [
      "3639it [52:01,  1.21it/s]"
     ]
    },
    {
     "name": "stdout",
     "output_type": "stream",
     "text": [
      "no response in target query\n"
     ]
    },
    {
     "name": "stderr",
     "output_type": "stream",
     "text": [
      "3640it [52:02,  1.22it/s]"
     ]
    },
    {
     "name": "stdout",
     "output_type": "stream",
     "text": [
      "no response in target query\n"
     ]
    },
    {
     "name": "stderr",
     "output_type": "stream",
     "text": [
      "3641it [52:03,  1.22it/s]"
     ]
    },
    {
     "name": "stdout",
     "output_type": "stream",
     "text": [
      "no response in target query\n"
     ]
    },
    {
     "name": "stderr",
     "output_type": "stream",
     "text": [
      "3642it [52:04,  1.22it/s]"
     ]
    },
    {
     "name": "stdout",
     "output_type": "stream",
     "text": [
      "no response in target query\n",
      "no response in target query\n"
     ]
    },
    {
     "name": "stderr",
     "output_type": "stream",
     "text": [
      "3643it [52:04,  1.22it/s]"
     ]
    },
    {
     "name": "stdout",
     "output_type": "stream",
     "text": [
      "no response in target query\n"
     ]
    },
    {
     "name": "stderr",
     "output_type": "stream",
     "text": [
      "3666it [52:23,  1.21it/s]"
     ]
    },
    {
     "name": "stdout",
     "output_type": "stream",
     "text": [
      "no response in target query\n"
     ]
    },
    {
     "name": "stderr",
     "output_type": "stream",
     "text": [
      "3667it [52:24,  1.22it/s]"
     ]
    },
    {
     "name": "stdout",
     "output_type": "stream",
     "text": [
      "no response in target query\n"
     ]
    },
    {
     "name": "stderr",
     "output_type": "stream",
     "text": [
      "3692it [52:45,  1.22it/s]"
     ]
    },
    {
     "name": "stdout",
     "output_type": "stream",
     "text": [
      "no response in target query\n"
     ]
    },
    {
     "name": "stderr",
     "output_type": "stream",
     "text": [
      "3693it [52:46,  1.22it/s]"
     ]
    },
    {
     "name": "stdout",
     "output_type": "stream",
     "text": [
      "no response in target query\n"
     ]
    },
    {
     "name": "stderr",
     "output_type": "stream",
     "text": [
      "3694it [52:46,  1.22it/s]"
     ]
    },
    {
     "name": "stdout",
     "output_type": "stream",
     "text": [
      "no response in target query\n"
     ]
    },
    {
     "name": "stderr",
     "output_type": "stream",
     "text": [
      "3695it [52:47,  1.22it/s]"
     ]
    },
    {
     "name": "stdout",
     "output_type": "stream",
     "text": [
      "no response in target query\n"
     ]
    },
    {
     "name": "stderr",
     "output_type": "stream",
     "text": [
      "3696it [52:48,  1.21it/s]"
     ]
    },
    {
     "name": "stdout",
     "output_type": "stream",
     "text": [
      "no response in target query\n"
     ]
    },
    {
     "name": "stderr",
     "output_type": "stream",
     "text": [
      "3697it [52:49,  1.21it/s]"
     ]
    },
    {
     "name": "stdout",
     "output_type": "stream",
     "text": [
      "no response in target query\n"
     ]
    },
    {
     "name": "stderr",
     "output_type": "stream",
     "text": [
      "3704it [52:55,  1.21it/s]"
     ]
    },
    {
     "name": "stdout",
     "output_type": "stream",
     "text": [
      "no response in target query\n"
     ]
    },
    {
     "name": "stderr",
     "output_type": "stream",
     "text": [
      "3705it [52:56,  1.20it/s]"
     ]
    },
    {
     "name": "stdout",
     "output_type": "stream",
     "text": [
      "no response in target query\n"
     ]
    },
    {
     "name": "stderr",
     "output_type": "stream",
     "text": [
      "3728it [53:15,  1.21it/s]"
     ]
    },
    {
     "name": "stdout",
     "output_type": "stream",
     "text": [
      "no response in target query\n"
     ]
    },
    {
     "name": "stderr",
     "output_type": "stream",
     "text": [
      "3729it [53:15,  1.22it/s]"
     ]
    },
    {
     "name": "stdout",
     "output_type": "stream",
     "text": [
      "no response in target query\n"
     ]
    },
    {
     "name": "stderr",
     "output_type": "stream",
     "text": [
      "3744it [53:29,  1.21it/s]"
     ]
    },
    {
     "name": "stdout",
     "output_type": "stream",
     "text": [
      "no response in target query\n"
     ]
    },
    {
     "name": "stderr",
     "output_type": "stream",
     "text": [
      "3745it [53:30,  1.22it/s]"
     ]
    },
    {
     "name": "stdout",
     "output_type": "stream",
     "text": [
      "no response in target query\n"
     ]
    },
    {
     "name": "stderr",
     "output_type": "stream",
     "text": [
      "3750it [53:34,  1.21it/s]"
     ]
    },
    {
     "name": "stdout",
     "output_type": "stream",
     "text": [
      "no response in target query\n"
     ]
    },
    {
     "name": "stderr",
     "output_type": "stream",
     "text": [
      "3751it [53:35,  1.21it/s]"
     ]
    },
    {
     "name": "stdout",
     "output_type": "stream",
     "text": [
      "no response in target query\n"
     ]
    },
    {
     "name": "stderr",
     "output_type": "stream",
     "text": [
      "3752it [53:36,  1.22it/s]"
     ]
    },
    {
     "name": "stdout",
     "output_type": "stream",
     "text": [
      "no response in target query\n"
     ]
    },
    {
     "name": "stderr",
     "output_type": "stream",
     "text": [
      "3753it [53:36,  1.22it/s]"
     ]
    },
    {
     "name": "stdout",
     "output_type": "stream",
     "text": [
      "no response in target query\n"
     ]
    },
    {
     "name": "stderr",
     "output_type": "stream",
     "text": [
      "3772it [53:53,  1.18it/s]"
     ]
    },
    {
     "name": "stdout",
     "output_type": "stream",
     "text": [
      "no response in target query\n"
     ]
    },
    {
     "name": "stderr",
     "output_type": "stream",
     "text": [
      "3773it [53:54,  1.19it/s]"
     ]
    },
    {
     "name": "stdout",
     "output_type": "stream",
     "text": [
      "no response in target query\n",
      "no response in target query\n"
     ]
    },
    {
     "name": "stderr",
     "output_type": "stream",
     "text": [
      "3774it [53:55,  1.19it/s]"
     ]
    },
    {
     "name": "stdout",
     "output_type": "stream",
     "text": [
      "no response in target query\n"
     ]
    },
    {
     "name": "stderr",
     "output_type": "stream",
     "text": [
      "3791it [54:09,  1.22it/s]"
     ]
    },
    {
     "name": "stdout",
     "output_type": "stream",
     "text": [
      "no response in target query\n"
     ]
    },
    {
     "name": "stderr",
     "output_type": "stream",
     "text": [
      "3792it [54:09,  1.23it/s]"
     ]
    },
    {
     "name": "stdout",
     "output_type": "stream",
     "text": [
      "no response in target query\n"
     ]
    },
    {
     "name": "stderr",
     "output_type": "stream",
     "text": [
      "3838it [54:47,  1.20it/s]"
     ]
    },
    {
     "name": "stdout",
     "output_type": "stream",
     "text": [
      "no response in target query\n"
     ]
    },
    {
     "name": "stderr",
     "output_type": "stream",
     "text": [
      "3839it [54:48,  1.21it/s]"
     ]
    },
    {
     "name": "stdout",
     "output_type": "stream",
     "text": [
      "no response in target query\n"
     ]
    },
    {
     "name": "stderr",
     "output_type": "stream",
     "text": [
      "3859it [55:05,  1.21it/s]"
     ]
    },
    {
     "name": "stdout",
     "output_type": "stream",
     "text": [
      "no response in target query\n"
     ]
    },
    {
     "name": "stderr",
     "output_type": "stream",
     "text": [
      "3860it [55:06,  1.21it/s]"
     ]
    },
    {
     "name": "stdout",
     "output_type": "stream",
     "text": [
      "no response in target query\n"
     ]
    },
    {
     "name": "stderr",
     "output_type": "stream",
     "text": [
      "3869it [55:13,  1.22it/s]"
     ]
    },
    {
     "name": "stdout",
     "output_type": "stream",
     "text": [
      "no response in target query\n"
     ]
    },
    {
     "name": "stderr",
     "output_type": "stream",
     "text": [
      "3870it [55:14,  1.22it/s]"
     ]
    },
    {
     "name": "stdout",
     "output_type": "stream",
     "text": [
      "no response in target query\n"
     ]
    },
    {
     "name": "stderr",
     "output_type": "stream",
     "text": [
      "3873it [55:17,  1.21it/s]"
     ]
    },
    {
     "name": "stdout",
     "output_type": "stream",
     "text": [
      "no response in target query\n"
     ]
    },
    {
     "name": "stderr",
     "output_type": "stream",
     "text": [
      "3874it [55:18,  1.20it/s]"
     ]
    },
    {
     "name": "stdout",
     "output_type": "stream",
     "text": [
      "no response in target query\n"
     ]
    },
    {
     "name": "stderr",
     "output_type": "stream",
     "text": [
      "3880it [55:23,  1.21it/s]"
     ]
    },
    {
     "name": "stdout",
     "output_type": "stream",
     "text": [
      "no response in target query\n"
     ]
    },
    {
     "name": "stderr",
     "output_type": "stream",
     "text": [
      "3881it [55:23,  1.21it/s]"
     ]
    },
    {
     "name": "stdout",
     "output_type": "stream",
     "text": [
      "no response in target query\n"
     ]
    },
    {
     "name": "stderr",
     "output_type": "stream",
     "text": [
      "3890it [55:31,  1.22it/s]"
     ]
    },
    {
     "name": "stdout",
     "output_type": "stream",
     "text": [
      "no response in target query\n"
     ]
    },
    {
     "name": "stderr",
     "output_type": "stream",
     "text": [
      "3891it [55:32,  1.22it/s]"
     ]
    },
    {
     "name": "stdout",
     "output_type": "stream",
     "text": [
      "no response in target query\n"
     ]
    },
    {
     "name": "stderr",
     "output_type": "stream",
     "text": [
      "3895it [55:35,  1.24it/s]"
     ]
    },
    {
     "name": "stdout",
     "output_type": "stream",
     "text": [
      "no response in target query\n"
     ]
    },
    {
     "name": "stderr",
     "output_type": "stream",
     "text": [
      "3896it [55:36,  1.23it/s]"
     ]
    },
    {
     "name": "stdout",
     "output_type": "stream",
     "text": [
      "no response in target query\n",
      "no response in target query\n"
     ]
    },
    {
     "name": "stderr",
     "output_type": "stream",
     "text": [
      "3897it [55:37,  1.23it/s]"
     ]
    },
    {
     "name": "stdout",
     "output_type": "stream",
     "text": [
      "no response in target query\n"
     ]
    },
    {
     "name": "stderr",
     "output_type": "stream",
     "text": [
      "3906it [55:44,  1.22it/s]"
     ]
    },
    {
     "name": "stdout",
     "output_type": "stream",
     "text": [
      "no response in target query\n"
     ]
    },
    {
     "name": "stderr",
     "output_type": "stream",
     "text": [
      "3907it [55:45,  1.23it/s]"
     ]
    },
    {
     "name": "stdout",
     "output_type": "stream",
     "text": [
      "no response in target query\n",
      "no response in target query\n"
     ]
    },
    {
     "name": "stderr",
     "output_type": "stream",
     "text": [
      "3908it [55:46,  1.22it/s]"
     ]
    },
    {
     "name": "stdout",
     "output_type": "stream",
     "text": [
      "no response in target query\n"
     ]
    },
    {
     "name": "stderr",
     "output_type": "stream",
     "text": [
      "3924it [55:59,  1.19it/s]"
     ]
    },
    {
     "name": "stdout",
     "output_type": "stream",
     "text": [
      "no response in target query\n"
     ]
    },
    {
     "name": "stderr",
     "output_type": "stream",
     "text": [
      "3925it [56:00,  1.20it/s]"
     ]
    },
    {
     "name": "stdout",
     "output_type": "stream",
     "text": [
      "no response in target query\n"
     ]
    },
    {
     "name": "stderr",
     "output_type": "stream",
     "text": [
      "3942it [56:14,  1.21it/s]"
     ]
    },
    {
     "name": "stdout",
     "output_type": "stream",
     "text": [
      "no response in target query\n"
     ]
    },
    {
     "name": "stderr",
     "output_type": "stream",
     "text": [
      "3943it [56:15,  1.21it/s]"
     ]
    },
    {
     "name": "stdout",
     "output_type": "stream",
     "text": [
      "no response in target query\n"
     ]
    },
    {
     "name": "stderr",
     "output_type": "stream",
     "text": [
      "3945it [56:16,  1.19it/s]"
     ]
    },
    {
     "name": "stdout",
     "output_type": "stream",
     "text": [
      "no response in target query\n"
     ]
    },
    {
     "name": "stderr",
     "output_type": "stream",
     "text": [
      "3946it [56:17,  1.21it/s]"
     ]
    },
    {
     "name": "stdout",
     "output_type": "stream",
     "text": [
      "no response in target query\n"
     ]
    },
    {
     "name": "stderr",
     "output_type": "stream",
     "text": [
      "3950it [56:20,  1.21it/s]"
     ]
    },
    {
     "name": "stdout",
     "output_type": "stream",
     "text": [
      "no response in target query\n"
     ]
    },
    {
     "name": "stderr",
     "output_type": "stream",
     "text": [
      "3951it [56:21,  1.22it/s]"
     ]
    },
    {
     "name": "stdout",
     "output_type": "stream",
     "text": [
      "no response in target query\n"
     ]
    },
    {
     "name": "stderr",
     "output_type": "stream",
     "text": [
      "3969it [56:37,  1.19it/s]"
     ]
    },
    {
     "name": "stdout",
     "output_type": "stream",
     "text": [
      "no response in target query\n"
     ]
    },
    {
     "name": "stderr",
     "output_type": "stream",
     "text": [
      "3970it [56:38,  1.19it/s]"
     ]
    },
    {
     "name": "stdout",
     "output_type": "stream",
     "text": [
      "no response in target query\n"
     ]
    },
    {
     "name": "stderr",
     "output_type": "stream",
     "text": [
      "3975it [56:43,  1.17it/s]"
     ]
    },
    {
     "name": "stdout",
     "output_type": "stream",
     "text": [
      "no response in target query\n"
     ]
    },
    {
     "name": "stderr",
     "output_type": "stream",
     "text": [
      "3976it [56:43,  1.19it/s]"
     ]
    },
    {
     "name": "stdout",
     "output_type": "stream",
     "text": [
      "no response in target query\n"
     ]
    },
    {
     "name": "stderr",
     "output_type": "stream",
     "text": [
      "3982it [56:48,  1.20it/s]"
     ]
    },
    {
     "name": "stdout",
     "output_type": "stream",
     "text": [
      "no response in target query\n"
     ]
    },
    {
     "name": "stderr",
     "output_type": "stream",
     "text": [
      "3983it [56:49,  1.21it/s]"
     ]
    },
    {
     "name": "stdout",
     "output_type": "stream",
     "text": [
      "no response in target query\n"
     ]
    },
    {
     "name": "stderr",
     "output_type": "stream",
     "text": [
      "3984it [56:50,  1.22it/s]"
     ]
    },
    {
     "name": "stdout",
     "output_type": "stream",
     "text": [
      "no response in target query\n"
     ]
    },
    {
     "name": "stderr",
     "output_type": "stream",
     "text": [
      "3985it [56:51,  1.22it/s]"
     ]
    },
    {
     "name": "stdout",
     "output_type": "stream",
     "text": [
      "no response in target query\n",
      "no response in target query\n"
     ]
    },
    {
     "name": "stderr",
     "output_type": "stream",
     "text": [
      "3986it [56:52,  1.21it/s]"
     ]
    },
    {
     "name": "stdout",
     "output_type": "stream",
     "text": [
      "no response in target query\n"
     ]
    },
    {
     "name": "stderr",
     "output_type": "stream",
     "text": [
      "3991it [56:56,  1.20it/s]"
     ]
    },
    {
     "name": "stdout",
     "output_type": "stream",
     "text": [
      "no response in target query\n"
     ]
    },
    {
     "name": "stderr",
     "output_type": "stream",
     "text": [
      "3992it [56:57,  1.20it/s]"
     ]
    },
    {
     "name": "stdout",
     "output_type": "stream",
     "text": [
      "no response in target query\n"
     ]
    },
    {
     "name": "stderr",
     "output_type": "stream",
     "text": [
      "4001it [57:04,  1.22it/s]"
     ]
    },
    {
     "name": "stdout",
     "output_type": "stream",
     "text": [
      "no response in target query\n"
     ]
    },
    {
     "name": "stderr",
     "output_type": "stream",
     "text": [
      "4002it [57:05,  1.23it/s]"
     ]
    },
    {
     "name": "stdout",
     "output_type": "stream",
     "text": [
      "no response in target query\n"
     ]
    },
    {
     "name": "stderr",
     "output_type": "stream",
     "text": [
      "4029it [57:27,  1.21it/s]"
     ]
    },
    {
     "name": "stdout",
     "output_type": "stream",
     "text": [
      "no response in target query\n"
     ]
    },
    {
     "name": "stderr",
     "output_type": "stream",
     "text": [
      "4030it [57:28,  1.22it/s]"
     ]
    },
    {
     "name": "stdout",
     "output_type": "stream",
     "text": [
      "no response in target query\n",
      "no response in target query\n"
     ]
    },
    {
     "name": "stderr",
     "output_type": "stream",
     "text": [
      "4031it [57:29,  1.21it/s]"
     ]
    },
    {
     "name": "stdout",
     "output_type": "stream",
     "text": [
      "no response in target query\n"
     ]
    },
    {
     "name": "stderr",
     "output_type": "stream",
     "text": [
      "4078it [58:08,  1.22it/s]"
     ]
    },
    {
     "name": "stdout",
     "output_type": "stream",
     "text": [
      "no response in target query\n"
     ]
    },
    {
     "name": "stderr",
     "output_type": "stream",
     "text": [
      "4079it [58:08,  1.21it/s]"
     ]
    },
    {
     "name": "stdout",
     "output_type": "stream",
     "text": [
      "no response in target query\n"
     ]
    },
    {
     "name": "stderr",
     "output_type": "stream",
     "text": [
      "4098it [58:24,  1.21it/s]"
     ]
    },
    {
     "name": "stdout",
     "output_type": "stream",
     "text": [
      "no response in target query\n"
     ]
    },
    {
     "name": "stderr",
     "output_type": "stream",
     "text": [
      "4099it [58:25,  1.21it/s]"
     ]
    },
    {
     "name": "stdout",
     "output_type": "stream",
     "text": [
      "no response in target query\n"
     ]
    },
    {
     "name": "stderr",
     "output_type": "stream",
     "text": [
      "4106it [58:37,  2.51s/it]"
     ]
    },
    {
     "name": "stdout",
     "output_type": "stream",
     "text": [
      "no response in target query\n"
     ]
    },
    {
     "name": "stderr",
     "output_type": "stream",
     "text": [
      "4107it [58:37,  2.01s/it]"
     ]
    },
    {
     "name": "stdout",
     "output_type": "stream",
     "text": [
      "no response in target query\n"
     ]
    },
    {
     "name": "stderr",
     "output_type": "stream",
     "text": [
      "4139it [59:04,  1.18it/s]"
     ]
    },
    {
     "name": "stdout",
     "output_type": "stream",
     "text": [
      "no response in target query\n"
     ]
    },
    {
     "name": "stderr",
     "output_type": "stream",
     "text": [
      "4140it [59:05,  1.18it/s]"
     ]
    },
    {
     "name": "stdout",
     "output_type": "stream",
     "text": [
      "no response in target query\n"
     ]
    },
    {
     "name": "stderr",
     "output_type": "stream",
     "text": [
      "4148it [59:12,  1.20it/s]"
     ]
    },
    {
     "name": "stdout",
     "output_type": "stream",
     "text": [
      "no response in target query\n"
     ]
    },
    {
     "name": "stderr",
     "output_type": "stream",
     "text": [
      "4149it [59:13,  1.20it/s]"
     ]
    },
    {
     "name": "stdout",
     "output_type": "stream",
     "text": [
      "no response in target query\n"
     ]
    },
    {
     "name": "stderr",
     "output_type": "stream",
     "text": [
      "4159it [59:21,  1.21it/s]"
     ]
    },
    {
     "name": "stdout",
     "output_type": "stream",
     "text": [
      "no response in target query\n"
     ]
    },
    {
     "name": "stderr",
     "output_type": "stream",
     "text": [
      "4160it [59:22,  1.22it/s]"
     ]
    },
    {
     "name": "stdout",
     "output_type": "stream",
     "text": [
      "no response in target query\n"
     ]
    },
    {
     "name": "stderr",
     "output_type": "stream",
     "text": [
      "4165it [59:26,  1.20it/s]"
     ]
    },
    {
     "name": "stdout",
     "output_type": "stream",
     "text": [
      "no response in target query\n"
     ]
    },
    {
     "name": "stderr",
     "output_type": "stream",
     "text": [
      "4166it [59:27,  1.20it/s]"
     ]
    },
    {
     "name": "stdout",
     "output_type": "stream",
     "text": [
      "no response in target query\n"
     ]
    },
    {
     "name": "stderr",
     "output_type": "stream",
     "text": [
      "4168it [59:28,  1.21it/s]"
     ]
    },
    {
     "name": "stdout",
     "output_type": "stream",
     "text": [
      "no response in target query\n"
     ]
    },
    {
     "name": "stderr",
     "output_type": "stream",
     "text": [
      "4169it [59:29,  1.21it/s]"
     ]
    },
    {
     "name": "stdout",
     "output_type": "stream",
     "text": [
      "no response in target query\n"
     ]
    },
    {
     "name": "stderr",
     "output_type": "stream",
     "text": [
      "4170it [59:30,  1.22it/s]"
     ]
    },
    {
     "name": "stdout",
     "output_type": "stream",
     "text": [
      "no response in target query\n"
     ]
    },
    {
     "name": "stderr",
     "output_type": "stream",
     "text": [
      "4171it [59:31,  1.22it/s]"
     ]
    },
    {
     "name": "stdout",
     "output_type": "stream",
     "text": [
      "no response in target query\n"
     ]
    },
    {
     "name": "stderr",
     "output_type": "stream",
     "text": [
      "4175it [59:34,  1.21it/s]"
     ]
    },
    {
     "name": "stdout",
     "output_type": "stream",
     "text": [
      "no response in target query\n"
     ]
    },
    {
     "name": "stderr",
     "output_type": "stream",
     "text": [
      "4176it [59:35,  1.21it/s]"
     ]
    },
    {
     "name": "stdout",
     "output_type": "stream",
     "text": [
      "no response in target query\n"
     ]
    },
    {
     "name": "stderr",
     "output_type": "stream",
     "text": [
      "4183it [59:41,  1.21it/s]"
     ]
    },
    {
     "name": "stdout",
     "output_type": "stream",
     "text": [
      "no response in target query\n"
     ]
    },
    {
     "name": "stderr",
     "output_type": "stream",
     "text": [
      "4184it [59:42,  1.22it/s]"
     ]
    },
    {
     "name": "stdout",
     "output_type": "stream",
     "text": [
      "no response in target query\n"
     ]
    },
    {
     "name": "stderr",
     "output_type": "stream",
     "text": [
      "4203it [59:57,  1.18it/s]"
     ]
    },
    {
     "name": "stdout",
     "output_type": "stream",
     "text": [
      "no response in target query\n"
     ]
    },
    {
     "name": "stderr",
     "output_type": "stream",
     "text": [
      "4204it [59:58,  1.20it/s]"
     ]
    },
    {
     "name": "stdout",
     "output_type": "stream",
     "text": [
      "no response in target query\n"
     ]
    },
    {
     "name": "stderr",
     "output_type": "stream",
     "text": [
      "4220it [1:00:12,  1.20it/s]"
     ]
    },
    {
     "name": "stdout",
     "output_type": "stream",
     "text": [
      "no response in target query\n"
     ]
    },
    {
     "name": "stderr",
     "output_type": "stream",
     "text": [
      "4221it [1:00:13,  1.21it/s]"
     ]
    },
    {
     "name": "stdout",
     "output_type": "stream",
     "text": [
      "no response in target query\n"
     ]
    },
    {
     "name": "stderr",
     "output_type": "stream",
     "text": [
      "4223it [1:00:14,  1.21it/s]"
     ]
    },
    {
     "name": "stdout",
     "output_type": "stream",
     "text": [
      "no response in target query\n"
     ]
    },
    {
     "name": "stderr",
     "output_type": "stream",
     "text": [
      "4224it [1:00:15,  1.21it/s]"
     ]
    },
    {
     "name": "stdout",
     "output_type": "stream",
     "text": [
      "no response in target query\n"
     ]
    },
    {
     "name": "stderr",
     "output_type": "stream",
     "text": [
      "4240it [1:00:28,  1.21it/s]"
     ]
    },
    {
     "name": "stdout",
     "output_type": "stream",
     "text": [
      "no response in target query\n"
     ]
    },
    {
     "name": "stderr",
     "output_type": "stream",
     "text": [
      "4241it [1:00:29,  1.22it/s]"
     ]
    },
    {
     "name": "stdout",
     "output_type": "stream",
     "text": [
      "no response in target query\n"
     ]
    },
    {
     "name": "stderr",
     "output_type": "stream",
     "text": [
      "4266it [1:00:50,  1.22it/s]"
     ]
    },
    {
     "name": "stdout",
     "output_type": "stream",
     "text": [
      "no response in target query\n"
     ]
    },
    {
     "name": "stderr",
     "output_type": "stream",
     "text": [
      "4267it [1:00:50,  1.21it/s]"
     ]
    },
    {
     "name": "stdout",
     "output_type": "stream",
     "text": [
      "no response in target query\n",
      "no response in target query\n"
     ]
    },
    {
     "name": "stderr",
     "output_type": "stream",
     "text": [
      "4268it [1:00:51,  1.22it/s]"
     ]
    },
    {
     "name": "stdout",
     "output_type": "stream",
     "text": [
      "no response in target query\n"
     ]
    },
    {
     "name": "stderr",
     "output_type": "stream",
     "text": [
      "4288it [1:01:08,  1.20it/s]"
     ]
    },
    {
     "name": "stdout",
     "output_type": "stream",
     "text": [
      "no response in target query\n"
     ]
    },
    {
     "name": "stderr",
     "output_type": "stream",
     "text": [
      "4289it [1:01:09,  1.21it/s]"
     ]
    },
    {
     "name": "stdout",
     "output_type": "stream",
     "text": [
      "no response in target query\n"
     ]
    },
    {
     "name": "stderr",
     "output_type": "stream",
     "text": [
      "4291it [1:01:10,  1.22it/s]"
     ]
    },
    {
     "name": "stdout",
     "output_type": "stream",
     "text": [
      "no response in target query\n"
     ]
    },
    {
     "name": "stderr",
     "output_type": "stream",
     "text": [
      "4292it [1:01:11,  1.22it/s]"
     ]
    },
    {
     "name": "stdout",
     "output_type": "stream",
     "text": [
      "no response in target query\n"
     ]
    },
    {
     "name": "stderr",
     "output_type": "stream",
     "text": [
      "4300it [1:01:18,  1.21it/s]"
     ]
    },
    {
     "name": "stdout",
     "output_type": "stream",
     "text": [
      "no response in target query\n"
     ]
    },
    {
     "name": "stderr",
     "output_type": "stream",
     "text": [
      "4301it [1:01:19,  1.22it/s]"
     ]
    },
    {
     "name": "stdout",
     "output_type": "stream",
     "text": [
      "no response in target query\n"
     ]
    },
    {
     "name": "stderr",
     "output_type": "stream",
     "text": [
      "4305it [1:01:22,  1.20it/s]"
     ]
    },
    {
     "name": "stdout",
     "output_type": "stream",
     "text": [
      "no response in target query\n"
     ]
    },
    {
     "name": "stderr",
     "output_type": "stream",
     "text": [
      "4306it [1:01:23,  1.21it/s]"
     ]
    },
    {
     "name": "stdout",
     "output_type": "stream",
     "text": [
      "no response in target query\n"
     ]
    },
    {
     "name": "stderr",
     "output_type": "stream",
     "text": [
      "4315it [1:01:31,  1.20it/s]"
     ]
    },
    {
     "name": "stdout",
     "output_type": "stream",
     "text": [
      "no response in target query\n"
     ]
    },
    {
     "name": "stderr",
     "output_type": "stream",
     "text": [
      "4316it [1:01:31,  1.20it/s]"
     ]
    },
    {
     "name": "stdout",
     "output_type": "stream",
     "text": [
      "no response in target query\n"
     ]
    },
    {
     "name": "stderr",
     "output_type": "stream",
     "text": [
      "4317it [1:01:32,  1.20it/s]"
     ]
    },
    {
     "name": "stdout",
     "output_type": "stream",
     "text": [
      "no response in target query\n"
     ]
    },
    {
     "name": "stderr",
     "output_type": "stream",
     "text": [
      "4318it [1:01:33,  1.20it/s]"
     ]
    },
    {
     "name": "stdout",
     "output_type": "stream",
     "text": [
      "no response in target query\n"
     ]
    },
    {
     "name": "stderr",
     "output_type": "stream",
     "text": [
      "4335it [1:01:47,  1.20it/s]"
     ]
    },
    {
     "name": "stdout",
     "output_type": "stream",
     "text": [
      "no response in target query\n"
     ]
    },
    {
     "name": "stderr",
     "output_type": "stream",
     "text": [
      "4336it [1:01:48,  1.21it/s]"
     ]
    },
    {
     "name": "stdout",
     "output_type": "stream",
     "text": [
      "no response in target query\n"
     ]
    },
    {
     "name": "stderr",
     "output_type": "stream",
     "text": [
      "4353it [1:02:02,  1.21it/s]"
     ]
    },
    {
     "name": "stdout",
     "output_type": "stream",
     "text": [
      "no response in target query\n"
     ]
    },
    {
     "name": "stderr",
     "output_type": "stream",
     "text": [
      "4354it [1:02:03,  1.22it/s]"
     ]
    },
    {
     "name": "stdout",
     "output_type": "stream",
     "text": [
      "no response in target query\n"
     ]
    },
    {
     "name": "stderr",
     "output_type": "stream",
     "text": [
      "4357it [1:02:05,  1.20it/s]"
     ]
    },
    {
     "name": "stdout",
     "output_type": "stream",
     "text": [
      "no response in target query\n"
     ]
    },
    {
     "name": "stderr",
     "output_type": "stream",
     "text": [
      "4358it [1:02:06,  1.20it/s]"
     ]
    },
    {
     "name": "stdout",
     "output_type": "stream",
     "text": [
      "no response in target query\n",
      "no response in target query\n"
     ]
    },
    {
     "name": "stderr",
     "output_type": "stream",
     "text": [
      "4359it [1:02:07,  1.19it/s]"
     ]
    },
    {
     "name": "stdout",
     "output_type": "stream",
     "text": [
      "no response in target query\n"
     ]
    },
    {
     "name": "stderr",
     "output_type": "stream",
     "text": [
      "4361it [1:02:09,  1.20it/s]"
     ]
    },
    {
     "name": "stdout",
     "output_type": "stream",
     "text": [
      "no response in target query\n"
     ]
    },
    {
     "name": "stderr",
     "output_type": "stream",
     "text": [
      "4362it [1:02:09,  1.21it/s]"
     ]
    },
    {
     "name": "stdout",
     "output_type": "stream",
     "text": [
      "no response in target query\n"
     ]
    },
    {
     "name": "stderr",
     "output_type": "stream",
     "text": [
      "4363it [1:02:10,  1.22it/s]"
     ]
    },
    {
     "name": "stdout",
     "output_type": "stream",
     "text": [
      "no response in target query\n"
     ]
    },
    {
     "name": "stderr",
     "output_type": "stream",
     "text": [
      "4364it [1:02:11,  1.22it/s]"
     ]
    },
    {
     "name": "stdout",
     "output_type": "stream",
     "text": [
      "no response in target query\n"
     ]
    },
    {
     "name": "stderr",
     "output_type": "stream",
     "text": [
      "4365it [1:02:12,  1.22it/s]"
     ]
    },
    {
     "name": "stdout",
     "output_type": "stream",
     "text": [
      "no response in target query\n"
     ]
    },
    {
     "name": "stderr",
     "output_type": "stream",
     "text": [
      "4366it [1:02:13,  1.22it/s]"
     ]
    },
    {
     "name": "stdout",
     "output_type": "stream",
     "text": [
      "no response in target query\n"
     ]
    },
    {
     "name": "stderr",
     "output_type": "stream",
     "text": [
      "4379it [1:02:24,  1.21it/s]"
     ]
    },
    {
     "name": "stdout",
     "output_type": "stream",
     "text": [
      "no response in target query\n"
     ]
    },
    {
     "name": "stderr",
     "output_type": "stream",
     "text": [
      "4380it [1:02:24,  1.21it/s]"
     ]
    },
    {
     "name": "stdout",
     "output_type": "stream",
     "text": [
      "no response in target query\n"
     ]
    },
    {
     "name": "stderr",
     "output_type": "stream",
     "text": [
      "4394it [1:02:36,  1.21it/s]"
     ]
    },
    {
     "name": "stdout",
     "output_type": "stream",
     "text": [
      "no response in target query\n"
     ]
    },
    {
     "name": "stderr",
     "output_type": "stream",
     "text": [
      "4395it [1:02:37,  1.21it/s]"
     ]
    },
    {
     "name": "stdout",
     "output_type": "stream",
     "text": [
      "no response in target query\n"
     ]
    },
    {
     "name": "stderr",
     "output_type": "stream",
     "text": [
      "4424it [1:03:02,  1.20it/s]"
     ]
    },
    {
     "name": "stdout",
     "output_type": "stream",
     "text": [
      "no response in target query\n"
     ]
    },
    {
     "name": "stderr",
     "output_type": "stream",
     "text": [
      "4425it [1:03:02,  1.19it/s]"
     ]
    },
    {
     "name": "stdout",
     "output_type": "stream",
     "text": [
      "no response in target query\n"
     ]
    },
    {
     "name": "stderr",
     "output_type": "stream",
     "text": [
      "4440it [1:03:15,  1.22it/s]"
     ]
    },
    {
     "name": "stdout",
     "output_type": "stream",
     "text": [
      "no response in target query\n"
     ]
    },
    {
     "name": "stderr",
     "output_type": "stream",
     "text": [
      "4441it [1:03:16,  1.22it/s]"
     ]
    },
    {
     "name": "stdout",
     "output_type": "stream",
     "text": [
      "no response in target query\n"
     ]
    },
    {
     "name": "stderr",
     "output_type": "stream",
     "text": [
      "4446it [1:03:20,  1.20it/s]"
     ]
    },
    {
     "name": "stdout",
     "output_type": "stream",
     "text": [
      "no response in target query\n"
     ]
    },
    {
     "name": "stderr",
     "output_type": "stream",
     "text": [
      "4447it [1:03:21,  1.21it/s]"
     ]
    },
    {
     "name": "stdout",
     "output_type": "stream",
     "text": [
      "no response in target query\n"
     ]
    },
    {
     "name": "stderr",
     "output_type": "stream",
     "text": [
      "4449it [1:03:22,  1.20it/s]"
     ]
    },
    {
     "name": "stdout",
     "output_type": "stream",
     "text": [
      "no response in target query\n"
     ]
    },
    {
     "name": "stderr",
     "output_type": "stream",
     "text": [
      "4450it [1:03:23,  1.20it/s]"
     ]
    },
    {
     "name": "stdout",
     "output_type": "stream",
     "text": [
      "no response in target query\n",
      "no response in target query\n"
     ]
    },
    {
     "name": "stderr",
     "output_type": "stream",
     "text": [
      "4451it [1:03:24,  1.20it/s]"
     ]
    },
    {
     "name": "stdout",
     "output_type": "stream",
     "text": [
      "no response in target query\n"
     ]
    },
    {
     "name": "stderr",
     "output_type": "stream",
     "text": [
      "4466it [1:03:36,  1.22it/s]"
     ]
    },
    {
     "name": "stdout",
     "output_type": "stream",
     "text": [
      "no response in target query\n"
     ]
    },
    {
     "name": "stderr",
     "output_type": "stream",
     "text": [
      "4467it [1:03:37,  1.22it/s]"
     ]
    },
    {
     "name": "stdout",
     "output_type": "stream",
     "text": [
      "no response in target query\n"
     ]
    },
    {
     "name": "stderr",
     "output_type": "stream",
     "text": [
      "4468it [1:03:38,  1.09it/s]"
     ]
    },
    {
     "name": "stdout",
     "output_type": "stream",
     "text": [
      "no response in target query\n"
     ]
    },
    {
     "name": "stderr",
     "output_type": "stream",
     "text": [
      "4469it [1:03:39,  1.11it/s]"
     ]
    },
    {
     "name": "stdout",
     "output_type": "stream",
     "text": [
      "no response in target query\n"
     ]
    },
    {
     "name": "stderr",
     "output_type": "stream",
     "text": [
      "4470it [1:03:40,  1.14it/s]"
     ]
    },
    {
     "name": "stdout",
     "output_type": "stream",
     "text": [
      "no response in target query\n"
     ]
    },
    {
     "name": "stderr",
     "output_type": "stream",
     "text": [
      "4471it [1:03:41,  1.16it/s]"
     ]
    },
    {
     "name": "stdout",
     "output_type": "stream",
     "text": [
      "no response in target query\n"
     ]
    },
    {
     "name": "stderr",
     "output_type": "stream",
     "text": [
      "4475it [1:03:44,  1.14it/s]"
     ]
    },
    {
     "name": "stdout",
     "output_type": "stream",
     "text": [
      "no response in target query\n"
     ]
    },
    {
     "name": "stderr",
     "output_type": "stream",
     "text": [
      "4476it [1:03:45,  1.16it/s]"
     ]
    },
    {
     "name": "stdout",
     "output_type": "stream",
     "text": [
      "no response in target query\n"
     ]
    },
    {
     "name": "stderr",
     "output_type": "stream",
     "text": [
      "4490it [1:03:57,  1.20it/s]"
     ]
    },
    {
     "name": "stdout",
     "output_type": "stream",
     "text": [
      "no response in target query\n"
     ]
    },
    {
     "name": "stderr",
     "output_type": "stream",
     "text": [
      "4491it [1:03:58,  1.21it/s]"
     ]
    },
    {
     "name": "stdout",
     "output_type": "stream",
     "text": [
      "no response in target query\n"
     ]
    },
    {
     "name": "stderr",
     "output_type": "stream",
     "text": [
      "4494it [1:04:00,  1.21it/s]"
     ]
    },
    {
     "name": "stdout",
     "output_type": "stream",
     "text": [
      "no response in target query\n"
     ]
    },
    {
     "name": "stderr",
     "output_type": "stream",
     "text": [
      "4495it [1:04:01,  1.21it/s]"
     ]
    },
    {
     "name": "stdout",
     "output_type": "stream",
     "text": [
      "no response in target query\n"
     ]
    },
    {
     "name": "stderr",
     "output_type": "stream",
     "text": [
      "4506it [1:04:10,  1.21it/s]"
     ]
    },
    {
     "name": "stdout",
     "output_type": "stream",
     "text": [
      "no response in target query\n"
     ]
    },
    {
     "name": "stderr",
     "output_type": "stream",
     "text": [
      "4507it [1:04:11,  1.20it/s]"
     ]
    },
    {
     "name": "stdout",
     "output_type": "stream",
     "text": [
      "no response in target query\n"
     ]
    },
    {
     "name": "stderr",
     "output_type": "stream",
     "text": [
      "4515it [1:04:17,  1.20it/s]"
     ]
    },
    {
     "name": "stdout",
     "output_type": "stream",
     "text": [
      "no response in target query\n"
     ]
    },
    {
     "name": "stderr",
     "output_type": "stream",
     "text": [
      "4516it [1:04:18,  1.21it/s]"
     ]
    },
    {
     "name": "stdout",
     "output_type": "stream",
     "text": [
      "no response in target query\n"
     ]
    },
    {
     "name": "stderr",
     "output_type": "stream",
     "text": [
      "4529it [1:04:29,  1.22it/s]"
     ]
    },
    {
     "name": "stdout",
     "output_type": "stream",
     "text": [
      "no response in target query\n"
     ]
    },
    {
     "name": "stderr",
     "output_type": "stream",
     "text": [
      "4530it [1:04:30,  1.22it/s]"
     ]
    },
    {
     "name": "stdout",
     "output_type": "stream",
     "text": [
      "no response in target query\n"
     ]
    },
    {
     "name": "stderr",
     "output_type": "stream",
     "text": [
      "4532it [1:04:32,  1.22it/s]"
     ]
    },
    {
     "name": "stdout",
     "output_type": "stream",
     "text": [
      "no response in target query\n"
     ]
    },
    {
     "name": "stderr",
     "output_type": "stream",
     "text": [
      "4533it [1:04:32,  1.22it/s]"
     ]
    },
    {
     "name": "stdout",
     "output_type": "stream",
     "text": [
      "no response in target query\n"
     ]
    },
    {
     "name": "stderr",
     "output_type": "stream",
     "text": [
      "4540it [1:04:38,  1.20it/s]"
     ]
    },
    {
     "name": "stdout",
     "output_type": "stream",
     "text": [
      "no response in target query\n"
     ]
    },
    {
     "name": "stderr",
     "output_type": "stream",
     "text": [
      "4541it [1:04:39,  1.20it/s]"
     ]
    },
    {
     "name": "stdout",
     "output_type": "stream",
     "text": [
      "no response in target query\n",
      "no response in target query\n"
     ]
    },
    {
     "name": "stderr",
     "output_type": "stream",
     "text": [
      "4542it [1:04:40,  1.20it/s]"
     ]
    },
    {
     "name": "stdout",
     "output_type": "stream",
     "text": [
      "no response in target query\n"
     ]
    },
    {
     "name": "stderr",
     "output_type": "stream",
     "text": [
      "4553it [1:04:49,  1.21it/s]"
     ]
    },
    {
     "name": "stdout",
     "output_type": "stream",
     "text": [
      "no response in target query\n"
     ]
    },
    {
     "name": "stderr",
     "output_type": "stream",
     "text": [
      "4554it [1:04:50,  1.21it/s]"
     ]
    },
    {
     "name": "stdout",
     "output_type": "stream",
     "text": [
      "no response in target query\n"
     ]
    },
    {
     "name": "stderr",
     "output_type": "stream",
     "text": [
      "4585it [1:05:16,  1.05it/s]"
     ]
    },
    {
     "name": "stdout",
     "output_type": "stream",
     "text": [
      "no response in target query\n"
     ]
    },
    {
     "name": "stderr",
     "output_type": "stream",
     "text": [
      "4586it [1:05:17,  1.09it/s]"
     ]
    },
    {
     "name": "stdout",
     "output_type": "stream",
     "text": [
      "no response in target query\n"
     ]
    },
    {
     "name": "stderr",
     "output_type": "stream",
     "text": [
      "4616it [1:05:43,  1.18it/s]"
     ]
    },
    {
     "name": "stdout",
     "output_type": "stream",
     "text": [
      "no response in target query\n"
     ]
    },
    {
     "name": "stderr",
     "output_type": "stream",
     "text": [
      "4617it [1:05:44,  1.19it/s]"
     ]
    },
    {
     "name": "stdout",
     "output_type": "stream",
     "text": [
      "no response in target query\n"
     ]
    },
    {
     "name": "stderr",
     "output_type": "stream",
     "text": [
      "4618it [1:05:45,  1.19it/s]"
     ]
    },
    {
     "name": "stdout",
     "output_type": "stream",
     "text": [
      "no response in target query\n"
     ]
    },
    {
     "name": "stderr",
     "output_type": "stream",
     "text": [
      "4619it [1:05:46,  1.20it/s]"
     ]
    },
    {
     "name": "stdout",
     "output_type": "stream",
     "text": [
      "no response in target query\n"
     ]
    },
    {
     "name": "stderr",
     "output_type": "stream",
     "text": [
      "4630it [1:05:55,  1.21it/s]"
     ]
    },
    {
     "name": "stdout",
     "output_type": "stream",
     "text": [
      "no response in target query\n"
     ]
    },
    {
     "name": "stderr",
     "output_type": "stream",
     "text": [
      "4631it [1:05:56,  1.21it/s]"
     ]
    },
    {
     "name": "stdout",
     "output_type": "stream",
     "text": [
      "no response in target query\n"
     ]
    },
    {
     "name": "stderr",
     "output_type": "stream",
     "text": [
      "4645it [1:06:08,  1.20it/s]"
     ]
    },
    {
     "name": "stdout",
     "output_type": "stream",
     "text": [
      "no response in target query\n"
     ]
    },
    {
     "name": "stderr",
     "output_type": "stream",
     "text": [
      "4646it [1:06:08,  1.19it/s]"
     ]
    },
    {
     "name": "stdout",
     "output_type": "stream",
     "text": [
      "no response in target query\n"
     ]
    },
    {
     "name": "stderr",
     "output_type": "stream",
     "text": [
      "4651it [1:06:13,  1.19it/s]"
     ]
    },
    {
     "name": "stdout",
     "output_type": "stream",
     "text": [
      "no response in target query\n"
     ]
    },
    {
     "name": "stderr",
     "output_type": "stream",
     "text": [
      "4652it [1:06:13,  1.20it/s]"
     ]
    },
    {
     "name": "stdout",
     "output_type": "stream",
     "text": [
      "no response in target query\n"
     ]
    },
    {
     "name": "stderr",
     "output_type": "stream",
     "text": [
      "4665it [1:06:24,  1.17it/s]"
     ]
    },
    {
     "name": "stdout",
     "output_type": "stream",
     "text": [
      "no response in target query\n"
     ]
    },
    {
     "name": "stderr",
     "output_type": "stream",
     "text": [
      "4666it [1:06:25,  1.19it/s]"
     ]
    },
    {
     "name": "stdout",
     "output_type": "stream",
     "text": [
      "no response in target query\n"
     ]
    },
    {
     "name": "stderr",
     "output_type": "stream",
     "text": [
      "4679it [1:06:36,  1.20it/s]"
     ]
    },
    {
     "name": "stdout",
     "output_type": "stream",
     "text": [
      "no response in target query\n"
     ]
    },
    {
     "name": "stderr",
     "output_type": "stream",
     "text": [
      "4680it [1:06:37,  1.21it/s]"
     ]
    },
    {
     "name": "stdout",
     "output_type": "stream",
     "text": [
      "no response in target query\n",
      "no response in target query\n"
     ]
    },
    {
     "name": "stderr",
     "output_type": "stream",
     "text": [
      "4681it [1:06:38,  1.21it/s]"
     ]
    },
    {
     "name": "stdout",
     "output_type": "stream",
     "text": [
      "no response in target query\n"
     ]
    },
    {
     "name": "stderr",
     "output_type": "stream",
     "text": [
      "4684it [1:06:40,  1.19it/s]"
     ]
    },
    {
     "name": "stdout",
     "output_type": "stream",
     "text": [
      "no response in target query\n"
     ]
    },
    {
     "name": "stderr",
     "output_type": "stream",
     "text": [
      "4685it [1:06:41,  1.19it/s]"
     ]
    },
    {
     "name": "stdout",
     "output_type": "stream",
     "text": [
      "no response in target query\n"
     ]
    },
    {
     "name": "stderr",
     "output_type": "stream",
     "text": [
      "4688it [1:06:44,  1.21it/s]"
     ]
    },
    {
     "name": "stdout",
     "output_type": "stream",
     "text": [
      "no response in target query\n"
     ]
    },
    {
     "name": "stderr",
     "output_type": "stream",
     "text": [
      "4689it [1:06:44,  1.21it/s]"
     ]
    },
    {
     "name": "stdout",
     "output_type": "stream",
     "text": [
      "no response in target query\n"
     ]
    },
    {
     "name": "stderr",
     "output_type": "stream",
     "text": [
      "4736it [1:07:23,  1.20it/s]"
     ]
    },
    {
     "name": "stdout",
     "output_type": "stream",
     "text": [
      "no response in target query\n"
     ]
    },
    {
     "name": "stderr",
     "output_type": "stream",
     "text": [
      "4737it [1:07:24,  1.21it/s]"
     ]
    },
    {
     "name": "stdout",
     "output_type": "stream",
     "text": [
      "no response in target query\n"
     ]
    },
    {
     "name": "stderr",
     "output_type": "stream",
     "text": [
      "4738it [1:07:25,  1.21it/s]"
     ]
    },
    {
     "name": "stdout",
     "output_type": "stream",
     "text": [
      "no response in target query\n"
     ]
    },
    {
     "name": "stderr",
     "output_type": "stream",
     "text": [
      "4739it [1:07:26,  1.21it/s]"
     ]
    },
    {
     "name": "stdout",
     "output_type": "stream",
     "text": [
      "no response in target query\n"
     ]
    },
    {
     "name": "stderr",
     "output_type": "stream",
     "text": [
      "4741it [1:07:27,  1.21it/s]"
     ]
    },
    {
     "name": "stdout",
     "output_type": "stream",
     "text": [
      "no response in target query\n"
     ]
    },
    {
     "name": "stderr",
     "output_type": "stream",
     "text": [
      "4742it [1:07:28,  1.21it/s]"
     ]
    },
    {
     "name": "stdout",
     "output_type": "stream",
     "text": [
      "no response in target query\n"
     ]
    },
    {
     "name": "stderr",
     "output_type": "stream",
     "text": [
      "4752it [1:07:37,  1.21it/s]"
     ]
    },
    {
     "name": "stdout",
     "output_type": "stream",
     "text": [
      "no response in target query\n"
     ]
    },
    {
     "name": "stderr",
     "output_type": "stream",
     "text": [
      "4753it [1:07:37,  1.22it/s]"
     ]
    },
    {
     "name": "stdout",
     "output_type": "stream",
     "text": [
      "no response in target query\n"
     ]
    },
    {
     "name": "stderr",
     "output_type": "stream",
     "text": [
      "4797it [1:08:15,  1.21it/s]"
     ]
    },
    {
     "name": "stdout",
     "output_type": "stream",
     "text": [
      "no response in target query\n"
     ]
    },
    {
     "name": "stderr",
     "output_type": "stream",
     "text": [
      "4798it [1:08:16,  1.21it/s]"
     ]
    },
    {
     "name": "stdout",
     "output_type": "stream",
     "text": [
      "no response in target query\n",
      "no response in target query\n"
     ]
    },
    {
     "name": "stderr",
     "output_type": "stream",
     "text": [
      "4799it [1:08:17,  1.21it/s]"
     ]
    },
    {
     "name": "stdout",
     "output_type": "stream",
     "text": [
      "no response in target query\n"
     ]
    },
    {
     "name": "stderr",
     "output_type": "stream",
     "text": [
      "4828it [1:08:41,  1.17it/s]"
     ]
    },
    {
     "name": "stdout",
     "output_type": "stream",
     "text": [
      "no response in target query\n"
     ]
    },
    {
     "name": "stderr",
     "output_type": "stream",
     "text": [
      "4829it [1:08:42,  1.18it/s]"
     ]
    },
    {
     "name": "stdout",
     "output_type": "stream",
     "text": [
      "no response in target query\n"
     ]
    },
    {
     "name": "stderr",
     "output_type": "stream",
     "text": [
      "4835it [1:08:47,  1.21it/s]"
     ]
    },
    {
     "name": "stdout",
     "output_type": "stream",
     "text": [
      "no response in target query\n"
     ]
    },
    {
     "name": "stderr",
     "output_type": "stream",
     "text": [
      "4836it [1:08:48,  1.21it/s]"
     ]
    },
    {
     "name": "stdout",
     "output_type": "stream",
     "text": [
      "no response in target query\n",
      "no response in target query\n"
     ]
    },
    {
     "name": "stderr",
     "output_type": "stream",
     "text": [
      "4837it [1:08:49,  1.20it/s]"
     ]
    },
    {
     "name": "stdout",
     "output_type": "stream",
     "text": [
      "no response in target query\n"
     ]
    },
    {
     "name": "stderr",
     "output_type": "stream",
     "text": [
      "4872it [1:09:18,  1.20it/s]"
     ]
    },
    {
     "name": "stdout",
     "output_type": "stream",
     "text": [
      "no response in target query\n"
     ]
    },
    {
     "name": "stderr",
     "output_type": "stream",
     "text": [
      "4873it [1:09:19,  1.21it/s]"
     ]
    },
    {
     "name": "stdout",
     "output_type": "stream",
     "text": [
      "no response in target query\n"
     ]
    },
    {
     "name": "stderr",
     "output_type": "stream",
     "text": [
      "4875it [1:09:20,  1.21it/s]"
     ]
    },
    {
     "name": "stdout",
     "output_type": "stream",
     "text": [
      "no response in target query\n"
     ]
    },
    {
     "name": "stderr",
     "output_type": "stream",
     "text": [
      "4876it [1:09:21,  1.21it/s]"
     ]
    },
    {
     "name": "stdout",
     "output_type": "stream",
     "text": [
      "no response in target query\n"
     ]
    },
    {
     "name": "stderr",
     "output_type": "stream",
     "text": [
      "4889it [1:09:32,  1.18it/s]"
     ]
    },
    {
     "name": "stdout",
     "output_type": "stream",
     "text": [
      "no response in target query\n"
     ]
    },
    {
     "name": "stderr",
     "output_type": "stream",
     "text": [
      "4890it [1:09:33,  1.19it/s]"
     ]
    },
    {
     "name": "stdout",
     "output_type": "stream",
     "text": [
      "no response in target query\n"
     ]
    },
    {
     "name": "stderr",
     "output_type": "stream",
     "text": [
      "4895it [1:09:37,  1.20it/s]"
     ]
    },
    {
     "name": "stdout",
     "output_type": "stream",
     "text": [
      "no response in target query\n"
     ]
    },
    {
     "name": "stderr",
     "output_type": "stream",
     "text": [
      "4896it [1:09:38,  1.20it/s]"
     ]
    },
    {
     "name": "stdout",
     "output_type": "stream",
     "text": [
      "no response in target query\n"
     ]
    },
    {
     "name": "stderr",
     "output_type": "stream",
     "text": [
      "4927it [1:10:07,  1.17it/s]"
     ]
    },
    {
     "name": "stdout",
     "output_type": "stream",
     "text": [
      "no response in target query\n"
     ]
    },
    {
     "name": "stderr",
     "output_type": "stream",
     "text": [
      "4928it [1:10:08,  1.18it/s]"
     ]
    },
    {
     "name": "stdout",
     "output_type": "stream",
     "text": [
      "no response in target query\n"
     ]
    },
    {
     "name": "stderr",
     "output_type": "stream",
     "text": [
      "4935it [1:10:16,  1.05s/it]"
     ]
    },
    {
     "name": "stdout",
     "output_type": "stream",
     "text": [
      "no response in target query\n"
     ]
    },
    {
     "name": "stderr",
     "output_type": "stream",
     "text": [
      "4936it [1:10:17,  1.02it/s]"
     ]
    },
    {
     "name": "stdout",
     "output_type": "stream",
     "text": [
      "no response in target query\n"
     ]
    },
    {
     "name": "stderr",
     "output_type": "stream",
     "text": [
      "4949it [1:10:28,  1.20it/s]"
     ]
    },
    {
     "name": "stdout",
     "output_type": "stream",
     "text": [
      "no response in target query\n"
     ]
    },
    {
     "name": "stderr",
     "output_type": "stream",
     "text": [
      "4950it [1:10:29,  1.20it/s]"
     ]
    },
    {
     "name": "stdout",
     "output_type": "stream",
     "text": [
      "no response in target query\n"
     ]
    },
    {
     "name": "stderr",
     "output_type": "stream",
     "text": [
      "4952it [1:10:31,  1.16it/s]"
     ]
    },
    {
     "name": "stdout",
     "output_type": "stream",
     "text": [
      "no response in target query\n"
     ]
    },
    {
     "name": "stderr",
     "output_type": "stream",
     "text": [
      "4953it [1:10:31,  1.17it/s]"
     ]
    },
    {
     "name": "stdout",
     "output_type": "stream",
     "text": [
      "no response in target query\n"
     ]
    },
    {
     "name": "stderr",
     "output_type": "stream",
     "text": [
      "4960it [1:10:37,  1.20it/s]"
     ]
    },
    {
     "name": "stdout",
     "output_type": "stream",
     "text": [
      "no response in target query\n"
     ]
    },
    {
     "name": "stderr",
     "output_type": "stream",
     "text": [
      "4961it [1:10:38,  1.20it/s]"
     ]
    },
    {
     "name": "stdout",
     "output_type": "stream",
     "text": [
      "no response in target query\n"
     ]
    },
    {
     "name": "stderr",
     "output_type": "stream",
     "text": [
      "4966it [1:10:42,  1.21it/s]"
     ]
    },
    {
     "name": "stdout",
     "output_type": "stream",
     "text": [
      "no response in target query\n"
     ]
    },
    {
     "name": "stderr",
     "output_type": "stream",
     "text": [
      "4967it [1:10:43,  1.21it/s]"
     ]
    },
    {
     "name": "stdout",
     "output_type": "stream",
     "text": [
      "no response in target query\n"
     ]
    },
    {
     "name": "stderr",
     "output_type": "stream",
     "text": [
      "4979it [1:10:53,  1.22it/s]"
     ]
    },
    {
     "name": "stdout",
     "output_type": "stream",
     "text": [
      "no response in target query\n"
     ]
    },
    {
     "name": "stderr",
     "output_type": "stream",
     "text": [
      "4980it [1:10:54,  1.22it/s]"
     ]
    },
    {
     "name": "stdout",
     "output_type": "stream",
     "text": [
      "no response in target query\n"
     ]
    },
    {
     "name": "stderr",
     "output_type": "stream",
     "text": [
      "4989it [1:11:01,  1.21it/s]"
     ]
    },
    {
     "name": "stdout",
     "output_type": "stream",
     "text": [
      "no response in target query\n"
     ]
    },
    {
     "name": "stderr",
     "output_type": "stream",
     "text": [
      "4990it [1:11:02,  1.20it/s]"
     ]
    },
    {
     "name": "stdout",
     "output_type": "stream",
     "text": [
      "no response in target query\n",
      "no response in target query\n"
     ]
    },
    {
     "name": "stderr",
     "output_type": "stream",
     "text": [
      "4991it [1:11:03,  1.20it/s]"
     ]
    },
    {
     "name": "stdout",
     "output_type": "stream",
     "text": [
      "no response in target query\n"
     ]
    },
    {
     "name": "stderr",
     "output_type": "stream",
     "text": [
      "4996it [1:11:07,  1.20it/s]"
     ]
    },
    {
     "name": "stdout",
     "output_type": "stream",
     "text": [
      "no response in target query\n"
     ]
    },
    {
     "name": "stderr",
     "output_type": "stream",
     "text": [
      "4997it [1:11:08,  1.20it/s]"
     ]
    },
    {
     "name": "stdout",
     "output_type": "stream",
     "text": [
      "no response in target query\n"
     ]
    },
    {
     "name": "stderr",
     "output_type": "stream",
     "text": [
      "5003it [1:11:13,  1.20it/s]"
     ]
    },
    {
     "name": "stdout",
     "output_type": "stream",
     "text": [
      "no response in target query\n"
     ]
    },
    {
     "name": "stderr",
     "output_type": "stream",
     "text": [
      "5004it [1:11:14,  1.21it/s]"
     ]
    },
    {
     "name": "stdout",
     "output_type": "stream",
     "text": [
      "no response in target query\n",
      "no response in target query\n"
     ]
    },
    {
     "name": "stderr",
     "output_type": "stream",
     "text": [
      "5005it [1:11:15,  1.21it/s]"
     ]
    },
    {
     "name": "stdout",
     "output_type": "stream",
     "text": [
      "no response in target query\n"
     ]
    },
    {
     "name": "stderr",
     "output_type": "stream",
     "text": [
      "5020it [1:11:27,  1.18it/s]"
     ]
    },
    {
     "name": "stdout",
     "output_type": "stream",
     "text": [
      "no response in target query\n"
     ]
    },
    {
     "name": "stderr",
     "output_type": "stream",
     "text": [
      "5021it [1:11:28,  1.19it/s]"
     ]
    },
    {
     "name": "stdout",
     "output_type": "stream",
     "text": [
      "no response in target query\n"
     ]
    },
    {
     "name": "stderr",
     "output_type": "stream",
     "text": [
      "5042it [1:11:46,  1.20it/s]"
     ]
    },
    {
     "name": "stdout",
     "output_type": "stream",
     "text": [
      "no response in target query\n"
     ]
    },
    {
     "name": "stderr",
     "output_type": "stream",
     "text": [
      "5043it [1:11:46,  1.21it/s]"
     ]
    },
    {
     "name": "stdout",
     "output_type": "stream",
     "text": [
      "no response in target query\n"
     ]
    },
    {
     "name": "stderr",
     "output_type": "stream",
     "text": [
      "5069it [1:12:08,  1.21it/s]"
     ]
    },
    {
     "name": "stdout",
     "output_type": "stream",
     "text": [
      "no response in target query\n"
     ]
    },
    {
     "name": "stderr",
     "output_type": "stream",
     "text": [
      "5070it [1:12:09,  1.21it/s]"
     ]
    },
    {
     "name": "stdout",
     "output_type": "stream",
     "text": [
      "no response in target query\n",
      "no response in target query\n"
     ]
    },
    {
     "name": "stderr",
     "output_type": "stream",
     "text": [
      "5071it [1:12:10,  1.22it/s]"
     ]
    },
    {
     "name": "stdout",
     "output_type": "stream",
     "text": [
      "no response in target query\n"
     ]
    },
    {
     "name": "stderr",
     "output_type": "stream",
     "text": [
      "5080it [1:12:18,  1.21it/s]"
     ]
    },
    {
     "name": "stdout",
     "output_type": "stream",
     "text": [
      "no response in target query\n"
     ]
    },
    {
     "name": "stderr",
     "output_type": "stream",
     "text": [
      "5081it [1:12:18,  1.21it/s]"
     ]
    },
    {
     "name": "stdout",
     "output_type": "stream",
     "text": [
      "no response in target query\n"
     ]
    },
    {
     "name": "stderr",
     "output_type": "stream",
     "text": [
      "5115it [1:12:47,  1.20it/s]"
     ]
    },
    {
     "name": "stdout",
     "output_type": "stream",
     "text": [
      "no response in target query\n"
     ]
    },
    {
     "name": "stderr",
     "output_type": "stream",
     "text": [
      "5116it [1:12:47,  1.21it/s]"
     ]
    },
    {
     "name": "stdout",
     "output_type": "stream",
     "text": [
      "no response in target query\n"
     ]
    },
    {
     "name": "stderr",
     "output_type": "stream",
     "text": [
      "5128it [1:12:57,  1.20it/s]"
     ]
    },
    {
     "name": "stdout",
     "output_type": "stream",
     "text": [
      "no response in target query\n"
     ]
    },
    {
     "name": "stderr",
     "output_type": "stream",
     "text": [
      "5135it [1:13:03,  1.21it/s]"
     ]
    },
    {
     "name": "stdout",
     "output_type": "stream",
     "text": [
      "no response in target query\n"
     ]
    },
    {
     "name": "stderr",
     "output_type": "stream",
     "text": [
      "5136it [1:13:04,  1.21it/s]"
     ]
    },
    {
     "name": "stdout",
     "output_type": "stream",
     "text": [
      "no response in target query\n"
     ]
    },
    {
     "name": "stderr",
     "output_type": "stream",
     "text": [
      "5195it [1:13:59,  1.20it/s]"
     ]
    },
    {
     "name": "stdout",
     "output_type": "stream",
     "text": [
      "no response in target query\n"
     ]
    },
    {
     "name": "stderr",
     "output_type": "stream",
     "text": [
      "5207it [1:14:09,  1.22it/s]"
     ]
    },
    {
     "name": "stdout",
     "output_type": "stream",
     "text": [
      "no response in target query\n"
     ]
    },
    {
     "name": "stderr",
     "output_type": "stream",
     "text": [
      "5208it [1:14:09,  1.22it/s]"
     ]
    },
    {
     "name": "stdout",
     "output_type": "stream",
     "text": [
      "no response in target query\n"
     ]
    },
    {
     "name": "stderr",
     "output_type": "stream",
     "text": [
      "5224it [1:14:23,  1.21it/s]"
     ]
    },
    {
     "name": "stdout",
     "output_type": "stream",
     "text": [
      "no response in target query\n"
     ]
    },
    {
     "name": "stderr",
     "output_type": "stream",
     "text": [
      "5225it [1:14:23,  1.21it/s]"
     ]
    },
    {
     "name": "stdout",
     "output_type": "stream",
     "text": [
      "no response in target query\n"
     ]
    },
    {
     "name": "stderr",
     "output_type": "stream",
     "text": [
      "5231it [1:14:29,  1.18it/s]"
     ]
    },
    {
     "name": "stdout",
     "output_type": "stream",
     "text": [
      "no response in target query\n"
     ]
    },
    {
     "name": "stderr",
     "output_type": "stream",
     "text": [
      "5232it [1:14:29,  1.17it/s]"
     ]
    },
    {
     "name": "stdout",
     "output_type": "stream",
     "text": [
      "no response in target query\n"
     ]
    },
    {
     "name": "stderr",
     "output_type": "stream",
     "text": [
      "5239it [1:14:35,  1.21it/s]"
     ]
    },
    {
     "name": "stdout",
     "output_type": "stream",
     "text": [
      "no response in target query\n"
     ]
    },
    {
     "name": "stderr",
     "output_type": "stream",
     "text": [
      "5240it [1:14:36,  1.20it/s]"
     ]
    },
    {
     "name": "stdout",
     "output_type": "stream",
     "text": [
      "no response in target query\n"
     ]
    },
    {
     "name": "stderr",
     "output_type": "stream",
     "text": [
      "5277it [1:15:07,  1.21it/s]"
     ]
    },
    {
     "name": "stdout",
     "output_type": "stream",
     "text": [
      "no response in target query\n"
     ]
    },
    {
     "name": "stderr",
     "output_type": "stream",
     "text": [
      "5278it [1:15:08,  1.20it/s]"
     ]
    },
    {
     "name": "stdout",
     "output_type": "stream",
     "text": [
      "no response in target query\n",
      "no response in target query\n"
     ]
    },
    {
     "name": "stderr",
     "output_type": "stream",
     "text": [
      "5279it [1:15:09,  1.21it/s]"
     ]
    },
    {
     "name": "stdout",
     "output_type": "stream",
     "text": [
      "no response in target query\n"
     ]
    },
    {
     "name": "stderr",
     "output_type": "stream",
     "text": [
      "5294it [1:15:21,  1.23it/s]"
     ]
    },
    {
     "name": "stdout",
     "output_type": "stream",
     "text": [
      "no response in target query\n"
     ]
    },
    {
     "name": "stderr",
     "output_type": "stream",
     "text": [
      "5295it [1:15:22,  1.22it/s]"
     ]
    },
    {
     "name": "stdout",
     "output_type": "stream",
     "text": [
      "no response in target query\n"
     ]
    },
    {
     "name": "stderr",
     "output_type": "stream",
     "text": [
      "5317it [1:15:40,  1.21it/s]"
     ]
    },
    {
     "name": "stdout",
     "output_type": "stream",
     "text": [
      "no response in target query\n"
     ]
    },
    {
     "name": "stderr",
     "output_type": "stream",
     "text": [
      "5318it [1:15:41,  1.20it/s]"
     ]
    },
    {
     "name": "stdout",
     "output_type": "stream",
     "text": [
      "no response in target query\n"
     ]
    },
    {
     "name": "stderr",
     "output_type": "stream",
     "text": [
      "5324it [1:15:46,  1.21it/s]"
     ]
    },
    {
     "name": "stdout",
     "output_type": "stream",
     "text": [
      "no response in target query\n"
     ]
    },
    {
     "name": "stderr",
     "output_type": "stream",
     "text": [
      "5325it [1:15:47,  1.20it/s]"
     ]
    },
    {
     "name": "stdout",
     "output_type": "stream",
     "text": [
      "no response in target query\n"
     ]
    },
    {
     "name": "stderr",
     "output_type": "stream",
     "text": [
      "5326it [1:15:48,  1.21it/s]"
     ]
    },
    {
     "name": "stdout",
     "output_type": "stream",
     "text": [
      "no response in target query\n"
     ]
    },
    {
     "name": "stderr",
     "output_type": "stream",
     "text": [
      "5327it [1:15:49,  1.20it/s]"
     ]
    },
    {
     "name": "stdout",
     "output_type": "stream",
     "text": [
      "no response in target query\n"
     ]
    },
    {
     "name": "stderr",
     "output_type": "stream",
     "text": [
      "5340it [1:16:00,  1.20it/s]"
     ]
    },
    {
     "name": "stdout",
     "output_type": "stream",
     "text": [
      "no response in target query\n"
     ]
    },
    {
     "name": "stderr",
     "output_type": "stream",
     "text": [
      "5341it [1:16:01,  1.21it/s]"
     ]
    },
    {
     "name": "stdout",
     "output_type": "stream",
     "text": [
      "no response in target query\n"
     ]
    },
    {
     "name": "stderr",
     "output_type": "stream",
     "text": [
      "5343it [1:16:03,  1.20it/s]"
     ]
    },
    {
     "name": "stdout",
     "output_type": "stream",
     "text": [
      "no response in target query\n"
     ]
    },
    {
     "name": "stderr",
     "output_type": "stream",
     "text": [
      "5344it [1:16:03,  1.21it/s]"
     ]
    },
    {
     "name": "stdout",
     "output_type": "stream",
     "text": [
      "no response in target query\n"
     ]
    },
    {
     "name": "stderr",
     "output_type": "stream",
     "text": [
      "5345it [1:16:04,  1.21it/s]"
     ]
    },
    {
     "name": "stdout",
     "output_type": "stream",
     "text": [
      "no response in target query\n"
     ]
    },
    {
     "name": "stderr",
     "output_type": "stream",
     "text": [
      "5346it [1:16:05,  1.21it/s]"
     ]
    },
    {
     "name": "stdout",
     "output_type": "stream",
     "text": [
      "no response in target query\n"
     ]
    },
    {
     "name": "stderr",
     "output_type": "stream",
     "text": [
      "5347it [1:16:06,  1.21it/s]"
     ]
    },
    {
     "name": "stdout",
     "output_type": "stream",
     "text": [
      "no response in target query\n"
     ]
    },
    {
     "name": "stderr",
     "output_type": "stream",
     "text": [
      "5348it [1:16:07,  1.21it/s]"
     ]
    },
    {
     "name": "stdout",
     "output_type": "stream",
     "text": [
      "no response in target query\n"
     ]
    },
    {
     "name": "stderr",
     "output_type": "stream",
     "text": [
      "5370it [1:16:25,  1.18it/s]"
     ]
    },
    {
     "name": "stdout",
     "output_type": "stream",
     "text": [
      "no response in target query\n"
     ]
    },
    {
     "name": "stderr",
     "output_type": "stream",
     "text": [
      "5371it [1:16:26,  1.19it/s]"
     ]
    },
    {
     "name": "stdout",
     "output_type": "stream",
     "text": [
      "no response in target query\n"
     ]
    },
    {
     "name": "stderr",
     "output_type": "stream",
     "text": [
      "5373it [1:16:28,  1.20it/s]"
     ]
    },
    {
     "name": "stdout",
     "output_type": "stream",
     "text": [
      "no response in target query\n"
     ]
    },
    {
     "name": "stderr",
     "output_type": "stream",
     "text": [
      "5374it [1:16:28,  1.20it/s]"
     ]
    },
    {
     "name": "stdout",
     "output_type": "stream",
     "text": [
      "no response in target query\n"
     ]
    },
    {
     "name": "stderr",
     "output_type": "stream",
     "text": [
      "5401it [1:16:51,  1.20it/s]"
     ]
    },
    {
     "name": "stdout",
     "output_type": "stream",
     "text": [
      "no response in target query\n"
     ]
    },
    {
     "name": "stderr",
     "output_type": "stream",
     "text": [
      "5402it [1:16:52,  1.19it/s]"
     ]
    },
    {
     "name": "stdout",
     "output_type": "stream",
     "text": [
      "no response in target query\n"
     ]
    },
    {
     "name": "stderr",
     "output_type": "stream",
     "text": [
      "5413it [1:17:01,  1.17it/s]"
     ]
    },
    {
     "name": "stdout",
     "output_type": "stream",
     "text": [
      "no response in target query\n"
     ]
    },
    {
     "name": "stderr",
     "output_type": "stream",
     "text": [
      "5414it [1:17:02,  1.18it/s]"
     ]
    },
    {
     "name": "stdout",
     "output_type": "stream",
     "text": [
      "no response in target query\n"
     ]
    },
    {
     "name": "stderr",
     "output_type": "stream",
     "text": [
      "5425it [1:17:11,  1.21it/s]"
     ]
    },
    {
     "name": "stdout",
     "output_type": "stream",
     "text": [
      "no response in target query\n"
     ]
    },
    {
     "name": "stderr",
     "output_type": "stream",
     "text": [
      "5426it [1:17:12,  1.21it/s]"
     ]
    },
    {
     "name": "stdout",
     "output_type": "stream",
     "text": [
      "no response in target query\n"
     ]
    },
    {
     "name": "stderr",
     "output_type": "stream",
     "text": [
      "5445it [1:17:28,  1.21it/s]"
     ]
    },
    {
     "name": "stdout",
     "output_type": "stream",
     "text": [
      "no response in target query\n"
     ]
    },
    {
     "name": "stderr",
     "output_type": "stream",
     "text": [
      "5446it [1:17:29,  1.20it/s]"
     ]
    },
    {
     "name": "stdout",
     "output_type": "stream",
     "text": [
      "no response in target query\n"
     ]
    },
    {
     "name": "stderr",
     "output_type": "stream",
     "text": [
      "5449it [1:17:31,  1.20it/s]"
     ]
    },
    {
     "name": "stdout",
     "output_type": "stream",
     "text": [
      "no response in target query\n"
     ]
    },
    {
     "name": "stderr",
     "output_type": "stream",
     "text": [
      "5450it [1:17:32,  1.19it/s]"
     ]
    },
    {
     "name": "stdout",
     "output_type": "stream",
     "text": [
      "no response in target query\n",
      "no response in target query\n"
     ]
    },
    {
     "name": "stderr",
     "output_type": "stream",
     "text": [
      "5451it [1:17:33,  1.20it/s]"
     ]
    },
    {
     "name": "stdout",
     "output_type": "stream",
     "text": [
      "no response in target query\n"
     ]
    },
    {
     "name": "stderr",
     "output_type": "stream",
     "text": [
      "5495it [1:18:12,  1.16it/s]"
     ]
    },
    {
     "name": "stdout",
     "output_type": "stream",
     "text": [
      "no response in target query\n"
     ]
    },
    {
     "name": "stderr",
     "output_type": "stream",
     "text": [
      "5496it [1:18:12,  1.18it/s]"
     ]
    },
    {
     "name": "stdout",
     "output_type": "stream",
     "text": [
      "no response in target query\n"
     ]
    },
    {
     "name": "stderr",
     "output_type": "stream",
     "text": [
      "5509it [1:18:23,  1.18it/s]"
     ]
    },
    {
     "name": "stdout",
     "output_type": "stream",
     "text": [
      "no response in target query\n"
     ]
    },
    {
     "name": "stderr",
     "output_type": "stream",
     "text": [
      "5510it [1:18:24,  1.18it/s]"
     ]
    },
    {
     "name": "stdout",
     "output_type": "stream",
     "text": [
      "no response in target query\n"
     ]
    },
    {
     "name": "stderr",
     "output_type": "stream",
     "text": [
      "5512it [1:18:26,  1.20it/s]"
     ]
    },
    {
     "name": "stdout",
     "output_type": "stream",
     "text": [
      "no response in target query\n"
     ]
    },
    {
     "name": "stderr",
     "output_type": "stream",
     "text": [
      "5513it [1:18:27,  1.21it/s]"
     ]
    },
    {
     "name": "stdout",
     "output_type": "stream",
     "text": [
      "no response in target query\n"
     ]
    },
    {
     "name": "stderr",
     "output_type": "stream",
     "text": [
      "5514it [1:18:27,  1.18it/s]"
     ]
    },
    {
     "name": "stdout",
     "output_type": "stream",
     "text": [
      "no response in target query\n"
     ]
    },
    {
     "name": "stderr",
     "output_type": "stream",
     "text": [
      "5515it [1:18:28,  1.19it/s]"
     ]
    },
    {
     "name": "stdout",
     "output_type": "stream",
     "text": [
      "no response in target query\n"
     ]
    },
    {
     "name": "stderr",
     "output_type": "stream",
     "text": [
      "5525it [1:18:37,  1.20it/s]"
     ]
    },
    {
     "name": "stdout",
     "output_type": "stream",
     "text": [
      "no response in target query\n"
     ]
    },
    {
     "name": "stderr",
     "output_type": "stream",
     "text": [
      "5526it [1:18:37,  1.20it/s]"
     ]
    },
    {
     "name": "stdout",
     "output_type": "stream",
     "text": [
      "no response in target query\n"
     ]
    },
    {
     "name": "stderr",
     "output_type": "stream",
     "text": [
      "5527it [1:18:38,  1.20it/s]"
     ]
    },
    {
     "name": "stdout",
     "output_type": "stream",
     "text": [
      "no response in target query\n"
     ]
    },
    {
     "name": "stderr",
     "output_type": "stream",
     "text": [
      "5528it [1:18:39,  1.20it/s]"
     ]
    },
    {
     "name": "stdout",
     "output_type": "stream",
     "text": [
      "no response in target query\n"
     ]
    },
    {
     "name": "stderr",
     "output_type": "stream",
     "text": [
      "5529it [1:18:40,  1.21it/s]"
     ]
    },
    {
     "name": "stdout",
     "output_type": "stream",
     "text": [
      "no response in target query\n"
     ]
    },
    {
     "name": "stderr",
     "output_type": "stream",
     "text": [
      "5530it [1:18:41,  1.21it/s]"
     ]
    },
    {
     "name": "stdout",
     "output_type": "stream",
     "text": [
      "no response in target query\n"
     ]
    },
    {
     "name": "stderr",
     "output_type": "stream",
     "text": [
      "5551it [1:18:58,  1.21it/s]"
     ]
    },
    {
     "name": "stdout",
     "output_type": "stream",
     "text": [
      "no response in target query\n"
     ]
    },
    {
     "name": "stderr",
     "output_type": "stream",
     "text": [
      "5552it [1:18:59,  1.20it/s]"
     ]
    },
    {
     "name": "stdout",
     "output_type": "stream",
     "text": [
      "no response in target query\n"
     ]
    },
    {
     "name": "stderr",
     "output_type": "stream",
     "text": [
      "5563it [1:19:08,  1.19it/s]"
     ]
    },
    {
     "name": "stdout",
     "output_type": "stream",
     "text": [
      "no response in target query\n"
     ]
    },
    {
     "name": "stderr",
     "output_type": "stream",
     "text": [
      "5564it [1:19:09,  1.20it/s]"
     ]
    },
    {
     "name": "stdout",
     "output_type": "stream",
     "text": [
      "no response in target query\n"
     ]
    },
    {
     "name": "stderr",
     "output_type": "stream",
     "text": [
      "5567it [1:19:12,  1.21it/s]"
     ]
    },
    {
     "name": "stdout",
     "output_type": "stream",
     "text": [
      "no response in target query\n"
     ]
    },
    {
     "name": "stderr",
     "output_type": "stream",
     "text": [
      "5568it [1:19:12,  1.21it/s]"
     ]
    },
    {
     "name": "stdout",
     "output_type": "stream",
     "text": [
      "no response in target query\n"
     ]
    },
    {
     "name": "stderr",
     "output_type": "stream",
     "text": [
      "5576it [1:19:19,  1.20it/s]"
     ]
    },
    {
     "name": "stdout",
     "output_type": "stream",
     "text": [
      "no response in target query\n"
     ]
    },
    {
     "name": "stderr",
     "output_type": "stream",
     "text": [
      "5577it [1:19:20,  1.19it/s]"
     ]
    },
    {
     "name": "stdout",
     "output_type": "stream",
     "text": [
      "no response in target query\n"
     ]
    },
    {
     "name": "stderr",
     "output_type": "stream",
     "text": [
      "5590it [1:19:31,  1.18it/s]"
     ]
    },
    {
     "name": "stdout",
     "output_type": "stream",
     "text": [
      "no response in target query\n"
     ]
    },
    {
     "name": "stderr",
     "output_type": "stream",
     "text": [
      "5591it [1:19:32,  1.19it/s]"
     ]
    },
    {
     "name": "stdout",
     "output_type": "stream",
     "text": [
      "no response in target query\n"
     ]
    },
    {
     "name": "stderr",
     "output_type": "stream",
     "text": [
      "5597it [1:19:37,  1.20it/s]"
     ]
    },
    {
     "name": "stdout",
     "output_type": "stream",
     "text": [
      "no response in target query\n"
     ]
    },
    {
     "name": "stderr",
     "output_type": "stream",
     "text": [
      "5598it [1:19:37,  1.21it/s]"
     ]
    },
    {
     "name": "stdout",
     "output_type": "stream",
     "text": [
      "no response in target query\n"
     ]
    },
    {
     "name": "stderr",
     "output_type": "stream",
     "text": [
      "5602it [1:19:41,  1.20it/s]"
     ]
    },
    {
     "name": "stdout",
     "output_type": "stream",
     "text": [
      "no response in target query\n"
     ]
    },
    {
     "name": "stderr",
     "output_type": "stream",
     "text": [
      "5613it [1:19:50,  1.20it/s]"
     ]
    },
    {
     "name": "stdout",
     "output_type": "stream",
     "text": [
      "no response in target query\n"
     ]
    },
    {
     "name": "stderr",
     "output_type": "stream",
     "text": [
      "5614it [1:19:51,  1.20it/s]"
     ]
    },
    {
     "name": "stdout",
     "output_type": "stream",
     "text": [
      "no response in target query\n"
     ]
    },
    {
     "name": "stderr",
     "output_type": "stream",
     "text": [
      "5618it [1:19:54,  1.20it/s]"
     ]
    },
    {
     "name": "stdout",
     "output_type": "stream",
     "text": [
      "no response in target query\n"
     ]
    },
    {
     "name": "stderr",
     "output_type": "stream",
     "text": [
      "5619it [1:19:55,  1.20it/s]"
     ]
    },
    {
     "name": "stdout",
     "output_type": "stream",
     "text": [
      "no response in target query\n",
      "no response in target query\n"
     ]
    },
    {
     "name": "stderr",
     "output_type": "stream",
     "text": [
      "5620it [1:19:56,  1.20it/s]"
     ]
    },
    {
     "name": "stdout",
     "output_type": "stream",
     "text": [
      "no response in target query\n",
      "no response in target query\n"
     ]
    },
    {
     "name": "stderr",
     "output_type": "stream",
     "text": [
      "5621it [1:19:57,  1.19it/s]"
     ]
    },
    {
     "name": "stdout",
     "output_type": "stream",
     "text": [
      "no response in target query\n"
     ]
    },
    {
     "name": "stderr",
     "output_type": "stream",
     "text": [
      "5627it [1:20:02,  1.21it/s]"
     ]
    },
    {
     "name": "stdout",
     "output_type": "stream",
     "text": [
      "no response in target query\n"
     ]
    },
    {
     "name": "stderr",
     "output_type": "stream",
     "text": [
      "5628it [1:20:02,  1.20it/s]"
     ]
    },
    {
     "name": "stdout",
     "output_type": "stream",
     "text": [
      "no response in target query\n",
      "no response in target query\n"
     ]
    },
    {
     "name": "stderr",
     "output_type": "stream",
     "text": [
      "5629it [1:20:03,  1.20it/s]"
     ]
    },
    {
     "name": "stdout",
     "output_type": "stream",
     "text": [
      "no response in target query\n"
     ]
    },
    {
     "name": "stderr",
     "output_type": "stream",
     "text": [
      "5646it [1:20:17,  1.20it/s]"
     ]
    },
    {
     "name": "stdout",
     "output_type": "stream",
     "text": [
      "no response in target query\n"
     ]
    },
    {
     "name": "stderr",
     "output_type": "stream",
     "text": [
      "5677it [1:20:43,  1.22it/s]"
     ]
    },
    {
     "name": "stdout",
     "output_type": "stream",
     "text": [
      "no response in target query\n"
     ]
    },
    {
     "name": "stderr",
     "output_type": "stream",
     "text": [
      "5678it [1:20:44,  1.21it/s]"
     ]
    },
    {
     "name": "stdout",
     "output_type": "stream",
     "text": [
      "no response in target query\n"
     ]
    },
    {
     "name": "stderr",
     "output_type": "stream",
     "text": [
      "5682it [1:20:47,  1.23it/s]"
     ]
    },
    {
     "name": "stdout",
     "output_type": "stream",
     "text": [
      "no response in target query\n"
     ]
    },
    {
     "name": "stderr",
     "output_type": "stream",
     "text": [
      "5683it [1:20:48,  1.23it/s]"
     ]
    },
    {
     "name": "stdout",
     "output_type": "stream",
     "text": [
      "no response in target query\n"
     ]
    },
    {
     "name": "stderr",
     "output_type": "stream",
     "text": [
      "5707it [1:21:10,  1.26s/it]"
     ]
    },
    {
     "name": "stdout",
     "output_type": "stream",
     "text": [
      "no response in target query\n"
     ]
    },
    {
     "name": "stderr",
     "output_type": "stream",
     "text": [
      "5708it [1:21:11,  1.13s/it]"
     ]
    },
    {
     "name": "stdout",
     "output_type": "stream",
     "text": [
      "no response in target query\n"
     ]
    },
    {
     "name": "stderr",
     "output_type": "stream",
     "text": [
      "5721it [1:21:21,  1.22it/s]"
     ]
    },
    {
     "name": "stdout",
     "output_type": "stream",
     "text": [
      "no response in target query\n"
     ]
    },
    {
     "name": "stderr",
     "output_type": "stream",
     "text": [
      "5722it [1:21:22,  1.22it/s]"
     ]
    },
    {
     "name": "stdout",
     "output_type": "stream",
     "text": [
      "no response in target query\n"
     ]
    },
    {
     "name": "stderr",
     "output_type": "stream",
     "text": [
      "5723it [1:21:23,  1.22it/s]"
     ]
    },
    {
     "name": "stdout",
     "output_type": "stream",
     "text": [
      "no response in target query\n"
     ]
    },
    {
     "name": "stderr",
     "output_type": "stream",
     "text": [
      "5724it [1:21:24,  1.22it/s]"
     ]
    },
    {
     "name": "stdout",
     "output_type": "stream",
     "text": [
      "no response in target query\n"
     ]
    },
    {
     "name": "stderr",
     "output_type": "stream",
     "text": [
      "5727it [1:21:26,  1.19it/s]"
     ]
    },
    {
     "name": "stdout",
     "output_type": "stream",
     "text": [
      "no response in target query\n"
     ]
    },
    {
     "name": "stderr",
     "output_type": "stream",
     "text": [
      "5728it [1:21:27,  1.20it/s]"
     ]
    },
    {
     "name": "stdout",
     "output_type": "stream",
     "text": [
      "no response in target query\n",
      "no response in target query\n"
     ]
    },
    {
     "name": "stderr",
     "output_type": "stream",
     "text": [
      "5729it [1:21:28,  1.19it/s]"
     ]
    },
    {
     "name": "stdout",
     "output_type": "stream",
     "text": [
      "no response in target query\n"
     ]
    },
    {
     "name": "stderr",
     "output_type": "stream",
     "text": [
      "5730it [1:21:29,  1.20it/s]"
     ]
    },
    {
     "name": "stdout",
     "output_type": "stream",
     "text": [
      "no response in target query\n"
     ]
    },
    {
     "name": "stderr",
     "output_type": "stream",
     "text": [
      "5731it [1:21:30,  1.20it/s]"
     ]
    },
    {
     "name": "stdout",
     "output_type": "stream",
     "text": [
      "no response in target query\n"
     ]
    },
    {
     "name": "stderr",
     "output_type": "stream",
     "text": [
      "5762it [1:21:55,  1.21it/s]"
     ]
    },
    {
     "name": "stdout",
     "output_type": "stream",
     "text": [
      "no response in target query\n"
     ]
    },
    {
     "name": "stderr",
     "output_type": "stream",
     "text": [
      "5763it [1:21:56,  1.20it/s]"
     ]
    },
    {
     "name": "stdout",
     "output_type": "stream",
     "text": [
      "no response in target query\n"
     ]
    },
    {
     "name": "stderr",
     "output_type": "stream",
     "text": [
      "5767it [1:22:00,  1.20it/s]"
     ]
    },
    {
     "name": "stdout",
     "output_type": "stream",
     "text": [
      "no response in target query\n"
     ]
    },
    {
     "name": "stderr",
     "output_type": "stream",
     "text": [
      "5768it [1:22:00,  1.21it/s]"
     ]
    },
    {
     "name": "stdout",
     "output_type": "stream",
     "text": [
      "no response in target query\n"
     ]
    },
    {
     "name": "stderr",
     "output_type": "stream",
     "text": [
      "5794it [1:22:23,  1.16it/s]"
     ]
    },
    {
     "name": "stdout",
     "output_type": "stream",
     "text": [
      "no response in target query\n"
     ]
    },
    {
     "name": "stderr",
     "output_type": "stream",
     "text": [
      "5795it [1:22:24,  1.17it/s]"
     ]
    },
    {
     "name": "stdout",
     "output_type": "stream",
     "text": [
      "no response in target query\n"
     ]
    },
    {
     "name": "stderr",
     "output_type": "stream",
     "text": [
      "5798it [1:22:27,  1.19it/s]"
     ]
    },
    {
     "name": "stdout",
     "output_type": "stream",
     "text": [
      "no response in target query\n"
     ]
    },
    {
     "name": "stderr",
     "output_type": "stream",
     "text": [
      "5815it [1:22:41,  1.21it/s]"
     ]
    },
    {
     "name": "stdout",
     "output_type": "stream",
     "text": [
      "no response in target query\n"
     ]
    },
    {
     "name": "stderr",
     "output_type": "stream",
     "text": [
      "5816it [1:22:42,  1.20it/s]"
     ]
    },
    {
     "name": "stdout",
     "output_type": "stream",
     "text": [
      "no response in target query\n"
     ]
    },
    {
     "name": "stderr",
     "output_type": "stream",
     "text": [
      "5817it [1:22:42,  1.21it/s]"
     ]
    },
    {
     "name": "stdout",
     "output_type": "stream",
     "text": [
      "no response in target query\n"
     ]
    },
    {
     "name": "stderr",
     "output_type": "stream",
     "text": [
      "5818it [1:22:43,  1.21it/s]"
     ]
    },
    {
     "name": "stdout",
     "output_type": "stream",
     "text": [
      "no response in target query\n"
     ]
    },
    {
     "name": "stderr",
     "output_type": "stream",
     "text": [
      "5826it [1:22:50,  1.20it/s]"
     ]
    },
    {
     "name": "stdout",
     "output_type": "stream",
     "text": [
      "no response in target query\n"
     ]
    },
    {
     "name": "stderr",
     "output_type": "stream",
     "text": [
      "5827it [1:22:51,  1.21it/s]"
     ]
    },
    {
     "name": "stdout",
     "output_type": "stream",
     "text": [
      "no response in target query\n"
     ]
    },
    {
     "name": "stderr",
     "output_type": "stream",
     "text": [
      "5833it [1:22:56,  1.16it/s]"
     ]
    },
    {
     "name": "stdout",
     "output_type": "stream",
     "text": [
      "no response in target query\n"
     ]
    },
    {
     "name": "stderr",
     "output_type": "stream",
     "text": [
      "5834it [1:22:57,  1.17it/s]"
     ]
    },
    {
     "name": "stdout",
     "output_type": "stream",
     "text": [
      "no response in target query\n"
     ]
    },
    {
     "name": "stderr",
     "output_type": "stream",
     "text": [
      "5851it [1:23:11,  1.20it/s]"
     ]
    },
    {
     "name": "stdout",
     "output_type": "stream",
     "text": [
      "no response in target query\n"
     ]
    },
    {
     "name": "stderr",
     "output_type": "stream",
     "text": [
      "5852it [1:23:12,  1.19it/s]"
     ]
    },
    {
     "name": "stdout",
     "output_type": "stream",
     "text": [
      "no response in target query\n"
     ]
    },
    {
     "name": "stderr",
     "output_type": "stream",
     "text": [
      "5858it [1:23:17,  1.21it/s]"
     ]
    },
    {
     "name": "stdout",
     "output_type": "stream",
     "text": [
      "no response in target query\n"
     ]
    },
    {
     "name": "stderr",
     "output_type": "stream",
     "text": [
      "5859it [1:23:17,  1.21it/s]"
     ]
    },
    {
     "name": "stdout",
     "output_type": "stream",
     "text": [
      "no response in target query\n"
     ]
    },
    {
     "name": "stderr",
     "output_type": "stream",
     "text": [
      "5867it [1:23:24,  1.19it/s]"
     ]
    },
    {
     "name": "stdout",
     "output_type": "stream",
     "text": [
      "no response in target query\n"
     ]
    },
    {
     "name": "stderr",
     "output_type": "stream",
     "text": [
      "5868it [1:23:25,  1.19it/s]"
     ]
    },
    {
     "name": "stdout",
     "output_type": "stream",
     "text": [
      "no response in target query\n"
     ]
    },
    {
     "name": "stderr",
     "output_type": "stream",
     "text": [
      "5877it [1:23:33,  1.21it/s]"
     ]
    },
    {
     "name": "stdout",
     "output_type": "stream",
     "text": [
      "no response in target query\n"
     ]
    },
    {
     "name": "stderr",
     "output_type": "stream",
     "text": [
      "5878it [1:23:33,  1.21it/s]"
     ]
    },
    {
     "name": "stdout",
     "output_type": "stream",
     "text": [
      "no response in target query\n"
     ]
    },
    {
     "name": "stderr",
     "output_type": "stream",
     "text": [
      "5898it [1:23:51,  1.07it/s]"
     ]
    },
    {
     "name": "stdout",
     "output_type": "stream",
     "text": [
      "no response in target query\n"
     ]
    },
    {
     "name": "stderr",
     "output_type": "stream",
     "text": [
      "5899it [1:23:52,  1.11it/s]"
     ]
    },
    {
     "name": "stdout",
     "output_type": "stream",
     "text": [
      "no response in target query\n"
     ]
    },
    {
     "name": "stderr",
     "output_type": "stream",
     "text": [
      "5900it [1:23:53,  1.13it/s]"
     ]
    },
    {
     "name": "stdout",
     "output_type": "stream",
     "text": [
      "no response in target query\n"
     ]
    },
    {
     "name": "stderr",
     "output_type": "stream",
     "text": [
      "5901it [1:23:54,  1.16it/s]"
     ]
    },
    {
     "name": "stdout",
     "output_type": "stream",
     "text": [
      "no response in target query\n"
     ]
    },
    {
     "name": "stderr",
     "output_type": "stream",
     "text": [
      "5910it [1:24:01,  1.20it/s]"
     ]
    },
    {
     "name": "stdout",
     "output_type": "stream",
     "text": [
      "no response in target query\n"
     ]
    },
    {
     "name": "stderr",
     "output_type": "stream",
     "text": [
      "5911it [1:24:02,  1.21it/s]"
     ]
    },
    {
     "name": "stdout",
     "output_type": "stream",
     "text": [
      "no response in target query\n"
     ]
    },
    {
     "name": "stderr",
     "output_type": "stream",
     "text": [
      "5917it [1:24:07,  1.20it/s]"
     ]
    },
    {
     "name": "stdout",
     "output_type": "stream",
     "text": [
      "no response in target query\n"
     ]
    },
    {
     "name": "stderr",
     "output_type": "stream",
     "text": [
      "5918it [1:24:08,  1.20it/s]"
     ]
    },
    {
     "name": "stdout",
     "output_type": "stream",
     "text": [
      "no response in target query\n"
     ]
    },
    {
     "name": "stderr",
     "output_type": "stream",
     "text": [
      "5926it [1:24:15,  1.20it/s]"
     ]
    },
    {
     "name": "stdout",
     "output_type": "stream",
     "text": [
      "no response in target query\n"
     ]
    },
    {
     "name": "stderr",
     "output_type": "stream",
     "text": [
      "5927it [1:24:15,  1.20it/s]"
     ]
    },
    {
     "name": "stdout",
     "output_type": "stream",
     "text": [
      "no response in target query\n"
     ]
    },
    {
     "name": "stderr",
     "output_type": "stream",
     "text": [
      "5949it [1:24:34,  1.18it/s]"
     ]
    },
    {
     "name": "stdout",
     "output_type": "stream",
     "text": [
      "no response in target query\n"
     ]
    },
    {
     "name": "stderr",
     "output_type": "stream",
     "text": [
      "5950it [1:24:35,  1.18it/s]"
     ]
    },
    {
     "name": "stdout",
     "output_type": "stream",
     "text": [
      "no response in target query\n"
     ]
    },
    {
     "name": "stderr",
     "output_type": "stream",
     "text": [
      "5961it [1:24:44,  1.20it/s]"
     ]
    },
    {
     "name": "stdout",
     "output_type": "stream",
     "text": [
      "no response in target query\n"
     ]
    },
    {
     "name": "stderr",
     "output_type": "stream",
     "text": [
      "5962it [1:24:45,  1.20it/s]"
     ]
    },
    {
     "name": "stdout",
     "output_type": "stream",
     "text": [
      "no response in target query\n"
     ]
    },
    {
     "name": "stderr",
     "output_type": "stream",
     "text": [
      "5975it [1:24:55,  1.21it/s]"
     ]
    },
    {
     "name": "stdout",
     "output_type": "stream",
     "text": [
      "no response in target query\n"
     ]
    },
    {
     "name": "stderr",
     "output_type": "stream",
     "text": [
      "5976it [1:24:56,  1.20it/s]"
     ]
    },
    {
     "name": "stdout",
     "output_type": "stream",
     "text": [
      "no response in target query\n"
     ]
    },
    {
     "name": "stderr",
     "output_type": "stream",
     "text": [
      "5979it [1:24:59,  1.21it/s]"
     ]
    },
    {
     "name": "stdout",
     "output_type": "stream",
     "text": [
      "no response in target query\n"
     ]
    },
    {
     "name": "stderr",
     "output_type": "stream",
     "text": [
      "5980it [1:25:00,  1.20it/s]"
     ]
    },
    {
     "name": "stdout",
     "output_type": "stream",
     "text": [
      "no response in target query\n"
     ]
    },
    {
     "name": "stderr",
     "output_type": "stream",
     "text": [
      "6020it [1:25:33,  1.20it/s]"
     ]
    },
    {
     "name": "stdout",
     "output_type": "stream",
     "text": [
      "no response in target query\n"
     ]
    },
    {
     "name": "stderr",
     "output_type": "stream",
     "text": [
      "6021it [1:25:34,  1.19it/s]"
     ]
    },
    {
     "name": "stdout",
     "output_type": "stream",
     "text": [
      "no response in target query\n",
      "no response in target query\n"
     ]
    },
    {
     "name": "stderr",
     "output_type": "stream",
     "text": [
      "6022it [1:25:35,  1.20it/s]"
     ]
    },
    {
     "name": "stdout",
     "output_type": "stream",
     "text": [
      "no response in target query\n"
     ]
    },
    {
     "name": "stderr",
     "output_type": "stream",
     "text": [
      "6039it [1:25:49,  1.21it/s]"
     ]
    },
    {
     "name": "stdout",
     "output_type": "stream",
     "text": [
      "no response in target query\n"
     ]
    },
    {
     "name": "stderr",
     "output_type": "stream",
     "text": [
      "6040it [1:25:50,  1.21it/s]"
     ]
    },
    {
     "name": "stdout",
     "output_type": "stream",
     "text": [
      "no response in target query\n"
     ]
    },
    {
     "name": "stderr",
     "output_type": "stream",
     "text": [
      "6046it [1:25:55,  1.17it/s]\n"
     ]
    }
   ],
   "source": [
    "result = compute_f1_metric(predictions, references)"
   ]
  },
  {
   "cell_type": "code",
   "execution_count": 11,
   "id": "2ce87515-dd9e-4d2c-9420-37ee010df5ed",
   "metadata": {},
   "outputs": [
    {
     "data": {
      "text/plain": [
       "{'precision': 0.9349038325220925,\n",
       " 'recall': 0.9347833278200463,\n",
       " 'f1': 0.9347765075037738}"
      ]
     },
     "execution_count": 11,
     "metadata": {},
     "output_type": "execute_result"
    }
   ],
   "source": [
    "result"
   ]
  },
  {
   "cell_type": "code",
   "execution_count": 12,
   "id": "3e0278b7-c22a-4f27-ab9b-f447c698dc4f",
   "metadata": {},
   "outputs": [
    {
     "data": {
      "text/plain": [
       "823.0740740746"
      ]
     },
     "execution_count": 12,
     "metadata": {},
     "output_type": "execute_result"
    }
   ],
   "source": [
    "9088/128*11.5925925926"
   ]
  },
  {
   "cell_type": "code",
   "execution_count": 13,
   "id": "cba6cb0d-ed06-44eb-810e-e4a5714a2156",
   "metadata": {},
   "outputs": [
    {
     "data": {
      "text/plain": [
       "11.151138423865698"
      ]
     },
     "execution_count": 13,
     "metadata": {},
     "output_type": "execute_result"
    }
   ],
   "source": [
    "9472/849.42"
   ]
  },
  {
   "cell_type": "code",
   "execution_count": 14,
   "id": "270c6630-f142-4223-b0f3-f94fa7d62304",
   "metadata": {},
   "outputs": [
    {
     "data": {
      "text/plain": [
       "11.661375999999997"
      ]
     },
     "execution_count": 14,
     "metadata": {},
     "output_type": "execute_result"
    }
   ],
   "source": [
    "58.169312 - 46.507936"
   ]
  },
  {
   "cell_type": "code",
   "execution_count": null,
   "id": "04f29bbb-8da7-4449-bae8-56dac9c0b697",
   "metadata": {},
   "outputs": [],
   "source": []
  }
 ],
 "metadata": {
  "kernelspec": {
   "display_name": "picard",
   "language": "python",
   "name": "picard"
  },
  "language_info": {
   "codemirror_mode": {
    "name": "ipython",
    "version": 3
   },
   "file_extension": ".py",
   "mimetype": "text/x-python",
   "name": "python",
   "nbconvert_exporter": "python",
   "pygments_lexer": "ipython3",
   "version": "3.9.13"
  }
 },
 "nbformat": 4,
 "nbformat_minor": 5
}
